{
 "cells": [
  {
   "cell_type": "markdown",
   "metadata": {
    "id": "J4tP0RvDmNgZ"
   },
   "source": [
    "# Used Car Price Prediction\n",
    "\n",
    "![](https://hips.hearstapps.com/hmg-prod.s3.amazonaws.com/images/appreciatedusedcars-1627577414.jpg?crop=1.00xw:1.00xh;0,0&resize=980:*)\n",
    "\n",
    "## Introduction\n",
    "\n",
    "This project is attempting to use supervised machine learning to predict the price of a used car given certain inputs such as the manufacturer, number of cylinders. That is essentially the core of machine learning as a concept; we take a set of data, sanitize it to be readable for a computer, and give it to a machine learning algorithm to produce a result to predict the future.\n",
    "\n",
    "There are two forms of supervised machine learning problems: Regression and Classification.\n",
    "\n",
    "Regression is producing an output number or numbers given a variable number of inputs such as date, weather, price, depending on the dataset \n",
    "\n",
    "Classification on the other hand is more often a yes or no question such as does this person have X medical condition, given a variable number of inputs such as age, weight, height, once again depending on the dataset.\n",
    "\n",
    "This project is a regression problem as it requires a single number as the output; the predicted price of a used car given certain inputs.\n",
    "\n",
    "\n",
    "## Project Outline\n",
    "\n",
    "1. Install and Import Required Libraries\n",
    "2. Download the Dataset\n",
    "3. Column Description\n",
    "4. Cleaning Data\n",
    "5. Exploratory Data Analysis\n",
    "6. Feature Engineering\n",
    "7. Training/Test/Validation\n",
    "8. Imputation, Scaling and Encoding\n",
    "9. Dumb/Benchmark Model - Mean Value\n",
    "10. Machine Learning Models\n",
    "11. Comparing Results\n",
    "12. Conclusion and Further Improvements\n",
    "\n",
    "\n",
    "## Libraries Used\n",
    "\n",
    " - [os](https://docs.python.org/3/library/os.html)\n",
    " - [opendatasets](https://github.com/JovianML/opendatasets)\n",
    " - [numpy](https://numpy.org/)\n",
    " - [pandas](https://pandas.pydata.org/)\n",
    " - [matplotlib](https://matplotlib.org/)\n",
    " - [seaborn](https://seaborn.pydata.org/)\n",
    " - [selenium](https://www.selenium.dev/)\n",
    " - [time](https://docs.python.org/3/library/time.html)\n",
    " - [psutil](https://pypi.org/project/psutil/)\n",
    " - [scikit-learn](https://scikit-learn.org/)\n",
    " - [xgboost](https://xgboost.readthedocs.io/)\n",
    " - [regex](https://docs.python.org/3/library/re.html)"
   ]
  },
  {
   "cell_type": "markdown",
   "metadata": {
    "id": "kX9YRHZuvljG"
   },
   "source": [
    "# 1. Install and Import Required Libraries\n",
    "\n",
    "## Section Outline\n",
    "\n",
    "- Install required libraries\n",
    "- Import libraries\n",
    "- set options for matplotlib and pandas"
   ]
  },
  {
   "cell_type": "code",
   "execution_count": null,
   "metadata": {
    "id": "MJ8d5NNGmNgb"
   },
   "outputs": [],
   "source": [
    "# Install all of the libraries \n",
    "!pip install numpy pandas-profiling matplotlib seaborn opendatasets --quiet"
   ]
  },
  {
   "cell_type": "code",
   "execution_count": null,
   "metadata": {
    "id": "BK4PvGW2malV"
   },
   "outputs": [],
   "source": [
    "# Import all of the libraries to be used in the project\n",
    "import os\n",
    "import matplotlib\n",
    "import opendatasets as od\n",
    "import numpy as np\n",
    "import pandas as pd\n",
    "import matplotlib.pyplot as plt\n",
    "import seaborn as sns\n",
    "from sklearn.preprocessing import LabelEncoder\n",
    "from sklearn.linear_model import LinearRegression, Ridge, Lasso, ElasticNet\n",
    "from sklearn.impute import SimpleImputer\n",
    "from sklearn.preprocessing import MinMaxScaler\n",
    "from sklearn.tree import DecisionTreeRegressor, plot_tree\n",
    "from sklearn.ensemble import RandomForestRegressor\n",
    "from sklearn.model_selection import RandomizedSearchCV\n",
    "from sklearn.model_selection import train_test_split\n",
    "from sklearn.metrics import mean_squared_error\n",
    "from sklearn.metrics import mean_absolute_error\n",
    "from sklearn.metrics import mean_absolute_percentage_error\n",
    "from xgboost import XGBRegressor, plot_tree\n",
    "%matplotlib inline\n",
    "\n",
    "# Set options for matplotlib and pandas\n",
    "matplotlib.rcParams['font.size'] = 14\n",
    "matplotlib.rcParams['figure.figsize'] = (10, 6)\n",
    "matplotlib.rcParams['figure.facecolor'] = '#00000000'\n",
    "pd.options.display.max_columns = 100\n",
    "pd.options.display.max_rows = 50"
   ]
  },
  {
   "cell_type": "code",
   "execution_count": null,
   "metadata": {
    "colab": {
     "base_uri": "https://localhost:8080/",
     "height": 87
    },
    "executionInfo": {
     "elapsed": 2441,
     "status": "ok",
     "timestamp": 1662676829117,
     "user": {
      "displayName": "Srinath Nanduri",
      "userId": "16683609937496845667"
     },
     "user_tz": 420
    },
    "id": "IWSClBcZr-yI",
    "outputId": "828e43dc-22d8-48e7-d041-948a9b519ad4"
   },
   "outputs": [
    {
     "name": "stdout",
     "output_type": "stream",
     "text": [
      "[jovian] Detected Colab notebook...\u001b[0m\n",
      "[jovian] Uploading colab notebook to Jovian...\u001b[0m\n",
      "Committed successfully! https://jovian.ai/nsrinath97/used-car-price-prediction-machine-learning-project\n"
     ]
    },
    {
     "data": {
      "application/vnd.google.colaboratory.intrinsic+json": {
       "type": "string"
      },
      "text/plain": [
       "'https://jovian.ai/nsrinath97/used-car-price-prediction-machine-learning-project'"
      ]
     },
     "execution_count": 206,
     "metadata": {},
     "output_type": "execute_result"
    }
   ],
   "source": [
    "# Save the project\n",
    "jovian.commit()"
   ]
  },
  {
   "cell_type": "markdown",
   "metadata": {
    "id": "BPdVFAqSv0gL"
   },
   "source": [
    "# 2. Download the Dataset\n",
    "\n",
    "## Section Outline\n",
    "\n",
    "- Download the dataset from kaggle using opendatasets\n",
    "- Create the dataframe using Pandas to read the downloaded csv file\n",
    "- Show a sample of the DataFrame "
   ]
  },
  {
   "cell_type": "code",
   "execution_count": null,
   "metadata": {
    "colab": {
     "base_uri": "https://localhost:8080/"
    },
    "executionInfo": {
     "elapsed": 6,
     "status": "ok",
     "timestamp": 1662676829117,
     "user": {
      "displayName": "Srinath Nanduri",
      "userId": "16683609937496845667"
     },
     "user_tz": 420
    },
    "id": "lizEwDD0meod",
    "outputId": "bc36d105-4efc-4593-d5de-b8e42ad3a8b4"
   },
   "outputs": [
    {
     "name": "stdout",
     "output_type": "stream",
     "text": [
      "Skipping, found downloaded files in \"./craigslist-carstrucks-data\" (use force=True to force download)\n"
     ]
    },
    {
     "data": {
      "text/plain": [
       "['vehicles.csv']"
      ]
     },
     "execution_count": 207,
     "metadata": {},
     "output_type": "execute_result"
    }
   ],
   "source": [
    "# Download the dataset with opendatasets\n",
    "od.download('https://www.kaggle.com/datasets/austinreese/craigslist-carstrucks-data')\n",
    "os.listdir('craigslist-carstrucks-data')"
   ]
  },
  {
   "cell_type": "code",
   "execution_count": null,
   "metadata": {
    "id": "q3kE4fL1oZO8"
   },
   "outputs": [],
   "source": [
    "# Create DataFrame\n",
    "raw_df = pd.read_csv('./craigslist-carstrucks-data/vehicles.csv')"
   ]
  },
  {
   "cell_type": "code",
   "execution_count": null,
   "metadata": {
    "colab": {
     "base_uri": "https://localhost:8080/",
     "height": 600
    },
    "executionInfo": {
     "elapsed": 14,
     "status": "ok",
     "timestamp": 1662676850909,
     "user": {
      "displayName": "Srinath Nanduri",
      "userId": "16683609937496845667"
     },
     "user_tz": 420
    },
    "id": "WLcxZT5puOl7",
    "outputId": "8f123eb0-e9cf-421a-acc8-5cd9d1da1b2e"
   },
   "outputs": [
    {
     "data": {
      "text/html": [
       "\n",
       "  <div id=\"df-607e844d-6b6a-4d97-9e86-1980cf332d35\">\n",
       "    <div class=\"colab-df-container\">\n",
       "      <div>\n",
       "<style scoped>\n",
       "    .dataframe tbody tr th:only-of-type {\n",
       "        vertical-align: middle;\n",
       "    }\n",
       "\n",
       "    .dataframe tbody tr th {\n",
       "        vertical-align: top;\n",
       "    }\n",
       "\n",
       "    .dataframe thead th {\n",
       "        text-align: right;\n",
       "    }\n",
       "</style>\n",
       "<table border=\"1\" class=\"dataframe\">\n",
       "  <thead>\n",
       "    <tr style=\"text-align: right;\">\n",
       "      <th></th>\n",
       "      <th>id</th>\n",
       "      <th>url</th>\n",
       "      <th>region</th>\n",
       "      <th>region_url</th>\n",
       "      <th>price</th>\n",
       "      <th>year</th>\n",
       "      <th>manufacturer</th>\n",
       "      <th>model</th>\n",
       "      <th>condition</th>\n",
       "      <th>cylinders</th>\n",
       "      <th>fuel</th>\n",
       "      <th>odometer</th>\n",
       "      <th>title_status</th>\n",
       "      <th>transmission</th>\n",
       "      <th>VIN</th>\n",
       "      <th>drive</th>\n",
       "      <th>size</th>\n",
       "      <th>type</th>\n",
       "      <th>paint_color</th>\n",
       "      <th>image_url</th>\n",
       "      <th>description</th>\n",
       "      <th>county</th>\n",
       "      <th>state</th>\n",
       "      <th>lat</th>\n",
       "      <th>long</th>\n",
       "      <th>posting_date</th>\n",
       "    </tr>\n",
       "  </thead>\n",
       "  <tbody>\n",
       "    <tr>\n",
       "      <th>159789</th>\n",
       "      <td>7306148169</td>\n",
       "      <td>https://iowacity.craigslist.org/ctd/d/cedar-fa...</td>\n",
       "      <td>iowa city</td>\n",
       "      <td>https://iowacity.craigslist.org</td>\n",
       "      <td>5995</td>\n",
       "      <td>2009.0</td>\n",
       "      <td>jeep</td>\n",
       "      <td>patriot</td>\n",
       "      <td>good</td>\n",
       "      <td>4 cylinders</td>\n",
       "      <td>gas</td>\n",
       "      <td>NaN</td>\n",
       "      <td>clean</td>\n",
       "      <td>manual</td>\n",
       "      <td>1J4FF28B59D176889</td>\n",
       "      <td>4wd</td>\n",
       "      <td>NaN</td>\n",
       "      <td>SUV</td>\n",
       "      <td>silver</td>\n",
       "      <td>https://images.craigslist.org/01616_hmRuCPawUf...</td>\n",
       "      <td>2009 *** Jeep Patriot 4WD 4dr Sport SUV ***   ...</td>\n",
       "      <td>NaN</td>\n",
       "      <td>ia</td>\n",
       "      <td>42.504855</td>\n",
       "      <td>-92.405424</td>\n",
       "      <td>2021-04-13T10:01:32-0500</td>\n",
       "    </tr>\n",
       "    <tr>\n",
       "      <th>330309</th>\n",
       "      <td>7313559130</td>\n",
       "      <td>https://lancaster.craigslist.org/ctd/d/lancast...</td>\n",
       "      <td>lancaster</td>\n",
       "      <td>https://lancaster.craigslist.org</td>\n",
       "      <td>12990</td>\n",
       "      <td>2013.0</td>\n",
       "      <td>honda</td>\n",
       "      <td>pilot ex-l awd</td>\n",
       "      <td>NaN</td>\n",
       "      <td>NaN</td>\n",
       "      <td>gas</td>\n",
       "      <td>164360.0</td>\n",
       "      <td>clean</td>\n",
       "      <td>automatic</td>\n",
       "      <td>NaN</td>\n",
       "      <td>NaN</td>\n",
       "      <td>NaN</td>\n",
       "      <td>NaN</td>\n",
       "      <td>NaN</td>\n",
       "      <td>https://images.craigslist.org/00j0j_965Hnr69P1...</td>\n",
       "      <td>LOADED! LEATHER! MOONROOF! NAVIGATION! 3RD ROW...</td>\n",
       "      <td>NaN</td>\n",
       "      <td>pa</td>\n",
       "      <td>40.057044</td>\n",
       "      <td>-76.313026</td>\n",
       "      <td>2021-04-27T17:40:28-0400</td>\n",
       "    </tr>\n",
       "    <tr>\n",
       "      <th>312704</th>\n",
       "      <td>7310941632</td>\n",
       "      <td>https://bend.craigslist.org/ctd/d/gladstone-20...</td>\n",
       "      <td>bend</td>\n",
       "      <td>https://bend.craigslist.org</td>\n",
       "      <td>7988</td>\n",
       "      <td>2007.0</td>\n",
       "      <td>lexus</td>\n",
       "      <td>is 250 - backup camera - automatic - navigatio...</td>\n",
       "      <td>NaN</td>\n",
       "      <td>6 cylinders</td>\n",
       "      <td>gas</td>\n",
       "      <td>108877.0</td>\n",
       "      <td>salvage</td>\n",
       "      <td>manual</td>\n",
       "      <td>JTHBK262175028487</td>\n",
       "      <td>rwd</td>\n",
       "      <td>NaN</td>\n",
       "      <td>sedan</td>\n",
       "      <td>black</td>\n",
       "      <td>https://images.craigslist.org/00h0h_ezbP5Ob8MD...</td>\n",
       "      <td>Contact Info NW Truck &amp; SUV (503) 344-6292 DL0...</td>\n",
       "      <td>NaN</td>\n",
       "      <td>or</td>\n",
       "      <td>45.389971</td>\n",
       "      <td>-122.611386</td>\n",
       "      <td>2021-04-22T10:48:40-0700</td>\n",
       "    </tr>\n",
       "    <tr>\n",
       "      <th>400298</th>\n",
       "      <td>7315005372</td>\n",
       "      <td>https://bellingham.craigslist.org/cto/d/bellin...</td>\n",
       "      <td>bellingham</td>\n",
       "      <td>https://bellingham.craigslist.org</td>\n",
       "      <td>1500</td>\n",
       "      <td>1997.0</td>\n",
       "      <td>ford</td>\n",
       "      <td>escort</td>\n",
       "      <td>NaN</td>\n",
       "      <td>NaN</td>\n",
       "      <td>gas</td>\n",
       "      <td>141430.0</td>\n",
       "      <td>clean</td>\n",
       "      <td>manual</td>\n",
       "      <td>NaN</td>\n",
       "      <td>NaN</td>\n",
       "      <td>NaN</td>\n",
       "      <td>wagon</td>\n",
       "      <td>NaN</td>\n",
       "      <td>https://images.craigslist.org/00l0l_7JDv7UCO8r...</td>\n",
       "      <td>This is a very basic car and a little rough ar...</td>\n",
       "      <td>NaN</td>\n",
       "      <td>wa</td>\n",
       "      <td>48.749000</td>\n",
       "      <td>-122.488700</td>\n",
       "      <td>2021-04-30T13:32:39-0700</td>\n",
       "    </tr>\n",
       "    <tr>\n",
       "      <th>227077</th>\n",
       "      <td>7305632398</td>\n",
       "      <td>https://greatfalls.craigslist.org/ctd/d/coeur-...</td>\n",
       "      <td>great falls</td>\n",
       "      <td>https://greatfalls.craigslist.org</td>\n",
       "      <td>37998</td>\n",
       "      <td>2018.0</td>\n",
       "      <td>jeep</td>\n",
       "      <td>grand cherokee</td>\n",
       "      <td>NaN</td>\n",
       "      <td>6 cylinders</td>\n",
       "      <td>diesel</td>\n",
       "      <td>12623.0</td>\n",
       "      <td>clean</td>\n",
       "      <td>automatic</td>\n",
       "      <td>1C4RJEBM5JC442984</td>\n",
       "      <td>rwd</td>\n",
       "      <td>NaN</td>\n",
       "      <td>SUV</td>\n",
       "      <td>NaN</td>\n",
       "      <td>https://images.craigslist.org/00O0O_5TM6p4AxJy...</td>\n",
       "      <td>For more information on this Jeep and to acces...</td>\n",
       "      <td>NaN</td>\n",
       "      <td>mt</td>\n",
       "      <td>47.798900</td>\n",
       "      <td>-116.742300</td>\n",
       "      <td>2021-04-12T09:22:03-0600</td>\n",
       "    </tr>\n",
       "  </tbody>\n",
       "</table>\n",
       "</div>\n",
       "      <button class=\"colab-df-convert\" onclick=\"convertToInteractive('df-607e844d-6b6a-4d97-9e86-1980cf332d35')\"\n",
       "              title=\"Convert this dataframe to an interactive table.\"\n",
       "              style=\"display:none;\">\n",
       "        \n",
       "  <svg xmlns=\"http://www.w3.org/2000/svg\" height=\"24px\"viewBox=\"0 0 24 24\"\n",
       "       width=\"24px\">\n",
       "    <path d=\"M0 0h24v24H0V0z\" fill=\"none\"/>\n",
       "    <path d=\"M18.56 5.44l.94 2.06.94-2.06 2.06-.94-2.06-.94-.94-2.06-.94 2.06-2.06.94zm-11 1L8.5 8.5l.94-2.06 2.06-.94-2.06-.94L8.5 2.5l-.94 2.06-2.06.94zm10 10l.94 2.06.94-2.06 2.06-.94-2.06-.94-.94-2.06-.94 2.06-2.06.94z\"/><path d=\"M17.41 7.96l-1.37-1.37c-.4-.4-.92-.59-1.43-.59-.52 0-1.04.2-1.43.59L10.3 9.45l-7.72 7.72c-.78.78-.78 2.05 0 2.83L4 21.41c.39.39.9.59 1.41.59.51 0 1.02-.2 1.41-.59l7.78-7.78 2.81-2.81c.8-.78.8-2.07 0-2.86zM5.41 20L4 18.59l7.72-7.72 1.47 1.35L5.41 20z\"/>\n",
       "  </svg>\n",
       "      </button>\n",
       "      \n",
       "  <style>\n",
       "    .colab-df-container {\n",
       "      display:flex;\n",
       "      flex-wrap:wrap;\n",
       "      gap: 12px;\n",
       "    }\n",
       "\n",
       "    .colab-df-convert {\n",
       "      background-color: #E8F0FE;\n",
       "      border: none;\n",
       "      border-radius: 50%;\n",
       "      cursor: pointer;\n",
       "      display: none;\n",
       "      fill: #1967D2;\n",
       "      height: 32px;\n",
       "      padding: 0 0 0 0;\n",
       "      width: 32px;\n",
       "    }\n",
       "\n",
       "    .colab-df-convert:hover {\n",
       "      background-color: #E2EBFA;\n",
       "      box-shadow: 0px 1px 2px rgba(60, 64, 67, 0.3), 0px 1px 3px 1px rgba(60, 64, 67, 0.15);\n",
       "      fill: #174EA6;\n",
       "    }\n",
       "\n",
       "    [theme=dark] .colab-df-convert {\n",
       "      background-color: #3B4455;\n",
       "      fill: #D2E3FC;\n",
       "    }\n",
       "\n",
       "    [theme=dark] .colab-df-convert:hover {\n",
       "      background-color: #434B5C;\n",
       "      box-shadow: 0px 1px 3px 1px rgba(0, 0, 0, 0.15);\n",
       "      filter: drop-shadow(0px 1px 2px rgba(0, 0, 0, 0.3));\n",
       "      fill: #FFFFFF;\n",
       "    }\n",
       "  </style>\n",
       "\n",
       "      <script>\n",
       "        const buttonEl =\n",
       "          document.querySelector('#df-607e844d-6b6a-4d97-9e86-1980cf332d35 button.colab-df-convert');\n",
       "        buttonEl.style.display =\n",
       "          google.colab.kernel.accessAllowed ? 'block' : 'none';\n",
       "\n",
       "        async function convertToInteractive(key) {\n",
       "          const element = document.querySelector('#df-607e844d-6b6a-4d97-9e86-1980cf332d35');\n",
       "          const dataTable =\n",
       "            await google.colab.kernel.invokeFunction('convertToInteractive',\n",
       "                                                     [key], {});\n",
       "          if (!dataTable) return;\n",
       "\n",
       "          const docLinkHtml = 'Like what you see? Visit the ' +\n",
       "            '<a target=\"_blank\" href=https://colab.research.google.com/notebooks/data_table.ipynb>data table notebook</a>'\n",
       "            + ' to learn more about interactive tables.';\n",
       "          element.innerHTML = '';\n",
       "          dataTable['output_type'] = 'display_data';\n",
       "          await google.colab.output.renderOutput(dataTable, element);\n",
       "          const docLink = document.createElement('div');\n",
       "          docLink.innerHTML = docLinkHtml;\n",
       "          element.appendChild(docLink);\n",
       "        }\n",
       "      </script>\n",
       "    </div>\n",
       "  </div>\n",
       "  "
      ],
      "text/plain": [
       "                id                                                url  \\\n",
       "159789  7306148169  https://iowacity.craigslist.org/ctd/d/cedar-fa...   \n",
       "330309  7313559130  https://lancaster.craigslist.org/ctd/d/lancast...   \n",
       "312704  7310941632  https://bend.craigslist.org/ctd/d/gladstone-20...   \n",
       "400298  7315005372  https://bellingham.craigslist.org/cto/d/bellin...   \n",
       "227077  7305632398  https://greatfalls.craigslist.org/ctd/d/coeur-...   \n",
       "\n",
       "             region                         region_url  price    year  \\\n",
       "159789    iowa city    https://iowacity.craigslist.org   5995  2009.0   \n",
       "330309    lancaster   https://lancaster.craigslist.org  12990  2013.0   \n",
       "312704         bend        https://bend.craigslist.org   7988  2007.0   \n",
       "400298   bellingham  https://bellingham.craigslist.org   1500  1997.0   \n",
       "227077  great falls  https://greatfalls.craigslist.org  37998  2018.0   \n",
       "\n",
       "       manufacturer                                              model  \\\n",
       "159789         jeep                                            patriot   \n",
       "330309        honda                                     pilot ex-l awd   \n",
       "312704        lexus  is 250 - backup camera - automatic - navigatio...   \n",
       "400298         ford                                             escort   \n",
       "227077         jeep                                     grand cherokee   \n",
       "\n",
       "       condition    cylinders    fuel  odometer title_status transmission  \\\n",
       "159789      good  4 cylinders     gas       NaN        clean       manual   \n",
       "330309       NaN          NaN     gas  164360.0        clean    automatic   \n",
       "312704       NaN  6 cylinders     gas  108877.0      salvage       manual   \n",
       "400298       NaN          NaN     gas  141430.0        clean       manual   \n",
       "227077       NaN  6 cylinders  diesel   12623.0        clean    automatic   \n",
       "\n",
       "                      VIN drive size   type paint_color  \\\n",
       "159789  1J4FF28B59D176889   4wd  NaN    SUV      silver   \n",
       "330309                NaN   NaN  NaN    NaN         NaN   \n",
       "312704  JTHBK262175028487   rwd  NaN  sedan       black   \n",
       "400298                NaN   NaN  NaN  wagon         NaN   \n",
       "227077  1C4RJEBM5JC442984   rwd  NaN    SUV         NaN   \n",
       "\n",
       "                                                image_url  \\\n",
       "159789  https://images.craigslist.org/01616_hmRuCPawUf...   \n",
       "330309  https://images.craigslist.org/00j0j_965Hnr69P1...   \n",
       "312704  https://images.craigslist.org/00h0h_ezbP5Ob8MD...   \n",
       "400298  https://images.craigslist.org/00l0l_7JDv7UCO8r...   \n",
       "227077  https://images.craigslist.org/00O0O_5TM6p4AxJy...   \n",
       "\n",
       "                                              description  county state  \\\n",
       "159789  2009 *** Jeep Patriot 4WD 4dr Sport SUV ***   ...     NaN    ia   \n",
       "330309  LOADED! LEATHER! MOONROOF! NAVIGATION! 3RD ROW...     NaN    pa   \n",
       "312704  Contact Info NW Truck & SUV (503) 344-6292 DL0...     NaN    or   \n",
       "400298  This is a very basic car and a little rough ar...     NaN    wa   \n",
       "227077  For more information on this Jeep and to acces...     NaN    mt   \n",
       "\n",
       "              lat        long              posting_date  \n",
       "159789  42.504855  -92.405424  2021-04-13T10:01:32-0500  \n",
       "330309  40.057044  -76.313026  2021-04-27T17:40:28-0400  \n",
       "312704  45.389971 -122.611386  2021-04-22T10:48:40-0700  \n",
       "400298  48.749000 -122.488700  2021-04-30T13:32:39-0700  \n",
       "227077  47.798900 -116.742300  2021-04-12T09:22:03-0600  "
      ]
     },
     "execution_count": 209,
     "metadata": {},
     "output_type": "execute_result"
    }
   ],
   "source": [
    "raw_df.sample(5)"
   ]
  },
  {
   "cell_type": "markdown",
   "metadata": {
    "id": "wohQF034xpOz"
   },
   "source": [
    "# 4. Cleaning Data\n",
    "\n",
    "## Section Outline\n",
    "\n",
    "- Remove unnecessary columns and unusable data entries\n",
    "- Fill in missing data using the description column where possible\n",
    "- Group data under a certain level of abundance into the same category\n",
    "\n"
   ]
  },
  {
   "cell_type": "code",
   "execution_count": null,
   "metadata": {
    "colab": {
     "base_uri": "https://localhost:8080/"
    },
    "executionInfo": {
     "elapsed": 6,
     "status": "ok",
     "timestamp": 1662676850909,
     "user": {
      "displayName": "Srinath Nanduri",
      "userId": "16683609937496845667"
     },
     "user_tz": 420
    },
    "id": "RB_RT3WfWlXP",
    "outputId": "d3691552-ecbb-4184-ddd5-9a54386ccafa"
   },
   "outputs": [
    {
     "data": {
      "text/plain": [
       "Index(['id', 'url', 'region', 'region_url', 'price', 'year', 'manufacturer',\n",
       "       'model', 'condition', 'cylinders', 'fuel', 'odometer', 'title_status',\n",
       "       'transmission', 'VIN', 'drive', 'size', 'type', 'paint_color',\n",
       "       'image_url', 'description', 'county', 'state', 'lat', 'long',\n",
       "       'posting_date'],\n",
       "      dtype='object')"
      ]
     },
     "execution_count": 210,
     "metadata": {},
     "output_type": "execute_result"
    }
   ],
   "source": [
    "raw_df.columns"
   ]
  },
  {
   "cell_type": "code",
   "execution_count": null,
   "metadata": {
    "colab": {
     "base_uri": "https://localhost:8080/",
     "height": 300
    },
    "executionInfo": {
     "elapsed": 768,
     "status": "ok",
     "timestamp": 1662676851674,
     "user": {
      "displayName": "Srinath Nanduri",
      "userId": "16683609937496845667"
     },
     "user_tz": 420
    },
    "id": "7DQPzw6NEiE3",
    "outputId": "add79f0d-afe9-47b6-893a-9965dc2295d3"
   },
   "outputs": [
    {
     "data": {
      "text/html": [
       "\n",
       "  <div id=\"df-d83796fb-8d22-452f-bbf8-61361de8bf1f\">\n",
       "    <div class=\"colab-df-container\">\n",
       "      <div>\n",
       "<style scoped>\n",
       "    .dataframe tbody tr th:only-of-type {\n",
       "        vertical-align: middle;\n",
       "    }\n",
       "\n",
       "    .dataframe tbody tr th {\n",
       "        vertical-align: top;\n",
       "    }\n",
       "\n",
       "    .dataframe thead th {\n",
       "        text-align: right;\n",
       "    }\n",
       "</style>\n",
       "<table border=\"1\" class=\"dataframe\">\n",
       "  <thead>\n",
       "    <tr style=\"text-align: right;\">\n",
       "      <th></th>\n",
       "      <th>id</th>\n",
       "      <th>price</th>\n",
       "      <th>year</th>\n",
       "      <th>odometer</th>\n",
       "      <th>county</th>\n",
       "      <th>lat</th>\n",
       "      <th>long</th>\n",
       "    </tr>\n",
       "  </thead>\n",
       "  <tbody>\n",
       "    <tr>\n",
       "      <th>count</th>\n",
       "      <td>4.268800e+05</td>\n",
       "      <td>4.268800e+05</td>\n",
       "      <td>425675.00</td>\n",
       "      <td>422480.00</td>\n",
       "      <td>0.0</td>\n",
       "      <td>420331.00</td>\n",
       "      <td>420331.00</td>\n",
       "    </tr>\n",
       "    <tr>\n",
       "      <th>mean</th>\n",
       "      <td>7.311487e+09</td>\n",
       "      <td>7.519903e+04</td>\n",
       "      <td>2011.24</td>\n",
       "      <td>98043.33</td>\n",
       "      <td>NaN</td>\n",
       "      <td>38.49</td>\n",
       "      <td>-94.75</td>\n",
       "    </tr>\n",
       "    <tr>\n",
       "      <th>std</th>\n",
       "      <td>4.473170e+06</td>\n",
       "      <td>1.218228e+07</td>\n",
       "      <td>9.45</td>\n",
       "      <td>213881.50</td>\n",
       "      <td>NaN</td>\n",
       "      <td>5.84</td>\n",
       "      <td>18.37</td>\n",
       "    </tr>\n",
       "    <tr>\n",
       "      <th>min</th>\n",
       "      <td>7.207408e+09</td>\n",
       "      <td>0.000000e+00</td>\n",
       "      <td>1900.00</td>\n",
       "      <td>0.00</td>\n",
       "      <td>NaN</td>\n",
       "      <td>-84.12</td>\n",
       "      <td>-159.83</td>\n",
       "    </tr>\n",
       "    <tr>\n",
       "      <th>25%</th>\n",
       "      <td>7.308143e+09</td>\n",
       "      <td>5.900000e+03</td>\n",
       "      <td>2008.00</td>\n",
       "      <td>37704.00</td>\n",
       "      <td>NaN</td>\n",
       "      <td>34.60</td>\n",
       "      <td>-111.94</td>\n",
       "    </tr>\n",
       "    <tr>\n",
       "      <th>50%</th>\n",
       "      <td>7.312621e+09</td>\n",
       "      <td>1.395000e+04</td>\n",
       "      <td>2013.00</td>\n",
       "      <td>85548.00</td>\n",
       "      <td>NaN</td>\n",
       "      <td>39.15</td>\n",
       "      <td>-88.43</td>\n",
       "    </tr>\n",
       "    <tr>\n",
       "      <th>75%</th>\n",
       "      <td>7.315254e+09</td>\n",
       "      <td>2.648575e+04</td>\n",
       "      <td>2017.00</td>\n",
       "      <td>133542.50</td>\n",
       "      <td>NaN</td>\n",
       "      <td>42.40</td>\n",
       "      <td>-80.83</td>\n",
       "    </tr>\n",
       "    <tr>\n",
       "      <th>max</th>\n",
       "      <td>7.317101e+09</td>\n",
       "      <td>3.736929e+09</td>\n",
       "      <td>2022.00</td>\n",
       "      <td>10000000.00</td>\n",
       "      <td>NaN</td>\n",
       "      <td>82.39</td>\n",
       "      <td>173.89</td>\n",
       "    </tr>\n",
       "  </tbody>\n",
       "</table>\n",
       "</div>\n",
       "      <button class=\"colab-df-convert\" onclick=\"convertToInteractive('df-d83796fb-8d22-452f-bbf8-61361de8bf1f')\"\n",
       "              title=\"Convert this dataframe to an interactive table.\"\n",
       "              style=\"display:none;\">\n",
       "        \n",
       "  <svg xmlns=\"http://www.w3.org/2000/svg\" height=\"24px\"viewBox=\"0 0 24 24\"\n",
       "       width=\"24px\">\n",
       "    <path d=\"M0 0h24v24H0V0z\" fill=\"none\"/>\n",
       "    <path d=\"M18.56 5.44l.94 2.06.94-2.06 2.06-.94-2.06-.94-.94-2.06-.94 2.06-2.06.94zm-11 1L8.5 8.5l.94-2.06 2.06-.94-2.06-.94L8.5 2.5l-.94 2.06-2.06.94zm10 10l.94 2.06.94-2.06 2.06-.94-2.06-.94-.94-2.06-.94 2.06-2.06.94z\"/><path d=\"M17.41 7.96l-1.37-1.37c-.4-.4-.92-.59-1.43-.59-.52 0-1.04.2-1.43.59L10.3 9.45l-7.72 7.72c-.78.78-.78 2.05 0 2.83L4 21.41c.39.39.9.59 1.41.59.51 0 1.02-.2 1.41-.59l7.78-7.78 2.81-2.81c.8-.78.8-2.07 0-2.86zM5.41 20L4 18.59l7.72-7.72 1.47 1.35L5.41 20z\"/>\n",
       "  </svg>\n",
       "      </button>\n",
       "      \n",
       "  <style>\n",
       "    .colab-df-container {\n",
       "      display:flex;\n",
       "      flex-wrap:wrap;\n",
       "      gap: 12px;\n",
       "    }\n",
       "\n",
       "    .colab-df-convert {\n",
       "      background-color: #E8F0FE;\n",
       "      border: none;\n",
       "      border-radius: 50%;\n",
       "      cursor: pointer;\n",
       "      display: none;\n",
       "      fill: #1967D2;\n",
       "      height: 32px;\n",
       "      padding: 0 0 0 0;\n",
       "      width: 32px;\n",
       "    }\n",
       "\n",
       "    .colab-df-convert:hover {\n",
       "      background-color: #E2EBFA;\n",
       "      box-shadow: 0px 1px 2px rgba(60, 64, 67, 0.3), 0px 1px 3px 1px rgba(60, 64, 67, 0.15);\n",
       "      fill: #174EA6;\n",
       "    }\n",
       "\n",
       "    [theme=dark] .colab-df-convert {\n",
       "      background-color: #3B4455;\n",
       "      fill: #D2E3FC;\n",
       "    }\n",
       "\n",
       "    [theme=dark] .colab-df-convert:hover {\n",
       "      background-color: #434B5C;\n",
       "      box-shadow: 0px 1px 3px 1px rgba(0, 0, 0, 0.15);\n",
       "      filter: drop-shadow(0px 1px 2px rgba(0, 0, 0, 0.3));\n",
       "      fill: #FFFFFF;\n",
       "    }\n",
       "  </style>\n",
       "\n",
       "      <script>\n",
       "        const buttonEl =\n",
       "          document.querySelector('#df-d83796fb-8d22-452f-bbf8-61361de8bf1f button.colab-df-convert');\n",
       "        buttonEl.style.display =\n",
       "          google.colab.kernel.accessAllowed ? 'block' : 'none';\n",
       "\n",
       "        async function convertToInteractive(key) {\n",
       "          const element = document.querySelector('#df-d83796fb-8d22-452f-bbf8-61361de8bf1f');\n",
       "          const dataTable =\n",
       "            await google.colab.kernel.invokeFunction('convertToInteractive',\n",
       "                                                     [key], {});\n",
       "          if (!dataTable) return;\n",
       "\n",
       "          const docLinkHtml = 'Like what you see? Visit the ' +\n",
       "            '<a target=\"_blank\" href=https://colab.research.google.com/notebooks/data_table.ipynb>data table notebook</a>'\n",
       "            + ' to learn more about interactive tables.';\n",
       "          element.innerHTML = '';\n",
       "          dataTable['output_type'] = 'display_data';\n",
       "          await google.colab.output.renderOutput(dataTable, element);\n",
       "          const docLink = document.createElement('div');\n",
       "          docLink.innerHTML = docLinkHtml;\n",
       "          element.appendChild(docLink);\n",
       "        }\n",
       "      </script>\n",
       "    </div>\n",
       "  </div>\n",
       "  "
      ],
      "text/plain": [
       "                 id         price       year     odometer  county        lat  \\\n",
       "count  4.268800e+05  4.268800e+05  425675.00    422480.00     0.0  420331.00   \n",
       "mean   7.311487e+09  7.519903e+04    2011.24     98043.33     NaN      38.49   \n",
       "std    4.473170e+06  1.218228e+07       9.45    213881.50     NaN       5.84   \n",
       "min    7.207408e+09  0.000000e+00    1900.00         0.00     NaN     -84.12   \n",
       "25%    7.308143e+09  5.900000e+03    2008.00     37704.00     NaN      34.60   \n",
       "50%    7.312621e+09  1.395000e+04    2013.00     85548.00     NaN      39.15   \n",
       "75%    7.315254e+09  2.648575e+04    2017.00    133542.50     NaN      42.40   \n",
       "max    7.317101e+09  3.736929e+09    2022.00  10000000.00     NaN      82.39   \n",
       "\n",
       "            long  \n",
       "count  420331.00  \n",
       "mean      -94.75  \n",
       "std        18.37  \n",
       "min      -159.83  \n",
       "25%      -111.94  \n",
       "50%       -88.43  \n",
       "75%       -80.83  \n",
       "max       173.89  "
      ]
     },
     "execution_count": 211,
     "metadata": {},
     "output_type": "execute_result"
    }
   ],
   "source": [
    "round(raw_df.describe(), 2)"
   ]
  },
  {
   "cell_type": "code",
   "execution_count": null,
   "metadata": {
    "colab": {
     "base_uri": "https://localhost:8080/"
    },
    "executionInfo": {
     "elapsed": 287,
     "status": "ok",
     "timestamp": 1662676851959,
     "user": {
      "displayName": "Srinath Nanduri",
      "userId": "16683609937496845667"
     },
     "user_tz": 420
    },
    "id": "YpTxQtGut20X",
    "outputId": "9e7bca2b-3d6d-4ce3-e369-d52f86f9daae"
   },
   "outputs": [
    {
     "name": "stdout",
     "output_type": "stream",
     "text": [
      "<class 'pandas.core.frame.DataFrame'>\n",
      "RangeIndex: 426880 entries, 0 to 426879\n",
      "Data columns (total 26 columns):\n",
      " #   Column        Non-Null Count   Dtype  \n",
      "---  ------        --------------   -----  \n",
      " 0   id            426880 non-null  int64  \n",
      " 1   url           426880 non-null  object \n",
      " 2   region        426880 non-null  object \n",
      " 3   region_url    426880 non-null  object \n",
      " 4   price         426880 non-null  int64  \n",
      " 5   year          425675 non-null  float64\n",
      " 6   manufacturer  409234 non-null  object \n",
      " 7   model         421603 non-null  object \n",
      " 8   condition     252776 non-null  object \n",
      " 9   cylinders     249202 non-null  object \n",
      " 10  fuel          423867 non-null  object \n",
      " 11  odometer      422480 non-null  float64\n",
      " 12  title_status  418638 non-null  object \n",
      " 13  transmission  424324 non-null  object \n",
      " 14  VIN           265838 non-null  object \n",
      " 15  drive         296313 non-null  object \n",
      " 16  size          120519 non-null  object \n",
      " 17  type          334022 non-null  object \n",
      " 18  paint_color   296677 non-null  object \n",
      " 19  image_url     426812 non-null  object \n",
      " 20  description   426810 non-null  object \n",
      " 21  county        0 non-null       float64\n",
      " 22  state         426880 non-null  object \n",
      " 23  lat           420331 non-null  float64\n",
      " 24  long          420331 non-null  float64\n",
      " 25  posting_date  426812 non-null  object \n",
      "dtypes: float64(5), int64(2), object(19)\n",
      "memory usage: 84.7+ MB\n"
     ]
    }
   ],
   "source": [
    "raw_df.info()"
   ]
  },
  {
   "cell_type": "code",
   "execution_count": null,
   "metadata": {
    "id": "iuWiCs33WUuc"
   },
   "outputs": [],
   "source": [
    "# Filter out unneccessary columns\n",
    "data_df = raw_df[['region', 'price', 'year', 'manufacturer',\n",
    "       'model', 'condition', 'cylinders', 'fuel', 'odometer', 'title_status',\n",
    "       'transmission', 'drive', 'size', 'type', 'posting_date', 'description']]"
   ]
  },
  {
   "cell_type": "code",
   "execution_count": null,
   "metadata": {
    "colab": {
     "base_uri": "https://localhost:8080/",
     "height": 300
    },
    "executionInfo": {
     "elapsed": 355,
     "status": "ok",
     "timestamp": 1662676852313,
     "user": {
      "displayName": "Srinath Nanduri",
      "userId": "16683609937496845667"
     },
     "user_tz": 420
    },
    "id": "D5CGmrhaFQLH",
    "outputId": "92092260-4651-4db7-923d-6011c631b56c"
   },
   "outputs": [
    {
     "data": {
      "text/html": [
       "\n",
       "  <div id=\"df-d40fde8c-6e2b-4fe3-ad5e-0544976e4e9a\">\n",
       "    <div class=\"colab-df-container\">\n",
       "      <div>\n",
       "<style scoped>\n",
       "    .dataframe tbody tr th:only-of-type {\n",
       "        vertical-align: middle;\n",
       "    }\n",
       "\n",
       "    .dataframe tbody tr th {\n",
       "        vertical-align: top;\n",
       "    }\n",
       "\n",
       "    .dataframe thead th {\n",
       "        text-align: right;\n",
       "    }\n",
       "</style>\n",
       "<table border=\"1\" class=\"dataframe\">\n",
       "  <thead>\n",
       "    <tr style=\"text-align: right;\">\n",
       "      <th></th>\n",
       "      <th>price</th>\n",
       "      <th>year</th>\n",
       "      <th>odometer</th>\n",
       "    </tr>\n",
       "  </thead>\n",
       "  <tbody>\n",
       "    <tr>\n",
       "      <th>count</th>\n",
       "      <td>4.268800e+05</td>\n",
       "      <td>425675.00</td>\n",
       "      <td>422480.00</td>\n",
       "    </tr>\n",
       "    <tr>\n",
       "      <th>mean</th>\n",
       "      <td>7.519903e+04</td>\n",
       "      <td>2011.24</td>\n",
       "      <td>98043.33</td>\n",
       "    </tr>\n",
       "    <tr>\n",
       "      <th>std</th>\n",
       "      <td>1.218228e+07</td>\n",
       "      <td>9.45</td>\n",
       "      <td>213881.50</td>\n",
       "    </tr>\n",
       "    <tr>\n",
       "      <th>min</th>\n",
       "      <td>0.000000e+00</td>\n",
       "      <td>1900.00</td>\n",
       "      <td>0.00</td>\n",
       "    </tr>\n",
       "    <tr>\n",
       "      <th>25%</th>\n",
       "      <td>5.900000e+03</td>\n",
       "      <td>2008.00</td>\n",
       "      <td>37704.00</td>\n",
       "    </tr>\n",
       "    <tr>\n",
       "      <th>50%</th>\n",
       "      <td>1.395000e+04</td>\n",
       "      <td>2013.00</td>\n",
       "      <td>85548.00</td>\n",
       "    </tr>\n",
       "    <tr>\n",
       "      <th>75%</th>\n",
       "      <td>2.648575e+04</td>\n",
       "      <td>2017.00</td>\n",
       "      <td>133542.50</td>\n",
       "    </tr>\n",
       "    <tr>\n",
       "      <th>max</th>\n",
       "      <td>3.736929e+09</td>\n",
       "      <td>2022.00</td>\n",
       "      <td>10000000.00</td>\n",
       "    </tr>\n",
       "  </tbody>\n",
       "</table>\n",
       "</div>\n",
       "      <button class=\"colab-df-convert\" onclick=\"convertToInteractive('df-d40fde8c-6e2b-4fe3-ad5e-0544976e4e9a')\"\n",
       "              title=\"Convert this dataframe to an interactive table.\"\n",
       "              style=\"display:none;\">\n",
       "        \n",
       "  <svg xmlns=\"http://www.w3.org/2000/svg\" height=\"24px\"viewBox=\"0 0 24 24\"\n",
       "       width=\"24px\">\n",
       "    <path d=\"M0 0h24v24H0V0z\" fill=\"none\"/>\n",
       "    <path d=\"M18.56 5.44l.94 2.06.94-2.06 2.06-.94-2.06-.94-.94-2.06-.94 2.06-2.06.94zm-11 1L8.5 8.5l.94-2.06 2.06-.94-2.06-.94L8.5 2.5l-.94 2.06-2.06.94zm10 10l.94 2.06.94-2.06 2.06-.94-2.06-.94-.94-2.06-.94 2.06-2.06.94z\"/><path d=\"M17.41 7.96l-1.37-1.37c-.4-.4-.92-.59-1.43-.59-.52 0-1.04.2-1.43.59L10.3 9.45l-7.72 7.72c-.78.78-.78 2.05 0 2.83L4 21.41c.39.39.9.59 1.41.59.51 0 1.02-.2 1.41-.59l7.78-7.78 2.81-2.81c.8-.78.8-2.07 0-2.86zM5.41 20L4 18.59l7.72-7.72 1.47 1.35L5.41 20z\"/>\n",
       "  </svg>\n",
       "      </button>\n",
       "      \n",
       "  <style>\n",
       "    .colab-df-container {\n",
       "      display:flex;\n",
       "      flex-wrap:wrap;\n",
       "      gap: 12px;\n",
       "    }\n",
       "\n",
       "    .colab-df-convert {\n",
       "      background-color: #E8F0FE;\n",
       "      border: none;\n",
       "      border-radius: 50%;\n",
       "      cursor: pointer;\n",
       "      display: none;\n",
       "      fill: #1967D2;\n",
       "      height: 32px;\n",
       "      padding: 0 0 0 0;\n",
       "      width: 32px;\n",
       "    }\n",
       "\n",
       "    .colab-df-convert:hover {\n",
       "      background-color: #E2EBFA;\n",
       "      box-shadow: 0px 1px 2px rgba(60, 64, 67, 0.3), 0px 1px 3px 1px rgba(60, 64, 67, 0.15);\n",
       "      fill: #174EA6;\n",
       "    }\n",
       "\n",
       "    [theme=dark] .colab-df-convert {\n",
       "      background-color: #3B4455;\n",
       "      fill: #D2E3FC;\n",
       "    }\n",
       "\n",
       "    [theme=dark] .colab-df-convert:hover {\n",
       "      background-color: #434B5C;\n",
       "      box-shadow: 0px 1px 3px 1px rgba(0, 0, 0, 0.15);\n",
       "      filter: drop-shadow(0px 1px 2px rgba(0, 0, 0, 0.3));\n",
       "      fill: #FFFFFF;\n",
       "    }\n",
       "  </style>\n",
       "\n",
       "      <script>\n",
       "        const buttonEl =\n",
       "          document.querySelector('#df-d40fde8c-6e2b-4fe3-ad5e-0544976e4e9a button.colab-df-convert');\n",
       "        buttonEl.style.display =\n",
       "          google.colab.kernel.accessAllowed ? 'block' : 'none';\n",
       "\n",
       "        async function convertToInteractive(key) {\n",
       "          const element = document.querySelector('#df-d40fde8c-6e2b-4fe3-ad5e-0544976e4e9a');\n",
       "          const dataTable =\n",
       "            await google.colab.kernel.invokeFunction('convertToInteractive',\n",
       "                                                     [key], {});\n",
       "          if (!dataTable) return;\n",
       "\n",
       "          const docLinkHtml = 'Like what you see? Visit the ' +\n",
       "            '<a target=\"_blank\" href=https://colab.research.google.com/notebooks/data_table.ipynb>data table notebook</a>'\n",
       "            + ' to learn more about interactive tables.';\n",
       "          element.innerHTML = '';\n",
       "          dataTable['output_type'] = 'display_data';\n",
       "          await google.colab.output.renderOutput(dataTable, element);\n",
       "          const docLink = document.createElement('div');\n",
       "          docLink.innerHTML = docLinkHtml;\n",
       "          element.appendChild(docLink);\n",
       "        }\n",
       "      </script>\n",
       "    </div>\n",
       "  </div>\n",
       "  "
      ],
      "text/plain": [
       "              price       year     odometer\n",
       "count  4.268800e+05  425675.00    422480.00\n",
       "mean   7.519903e+04    2011.24     98043.33\n",
       "std    1.218228e+07       9.45    213881.50\n",
       "min    0.000000e+00    1900.00         0.00\n",
       "25%    5.900000e+03    2008.00     37704.00\n",
       "50%    1.395000e+04    2013.00     85548.00\n",
       "75%    2.648575e+04    2017.00    133542.50\n",
       "max    3.736929e+09    2022.00  10000000.00"
      ]
     },
     "execution_count": 214,
     "metadata": {},
     "output_type": "execute_result"
    }
   ],
   "source": [
    "round(data_df.describe(), 2)"
   ]
  },
  {
   "cell_type": "code",
   "execution_count": null,
   "metadata": {
    "colab": {
     "base_uri": "https://localhost:8080/"
    },
    "executionInfo": {
     "elapsed": 7,
     "status": "ok",
     "timestamp": 1662676852313,
     "user": {
      "displayName": "Srinath Nanduri",
      "userId": "16683609937496845667"
     },
     "user_tz": 420
    },
    "id": "qCbIFf9jZPF1",
    "outputId": "7b890e64-4b06-4226-ed3a-1fd29027d6af"
   },
   "outputs": [
    {
     "name": "stdout",
     "output_type": "stream",
     "text": [
      "<class 'pandas.core.frame.DataFrame'>\n",
      "RangeIndex: 426880 entries, 0 to 426879\n",
      "Data columns (total 16 columns):\n",
      " #   Column        Non-Null Count   Dtype  \n",
      "---  ------        --------------   -----  \n",
      " 0   region        426880 non-null  object \n",
      " 1   price         426880 non-null  int64  \n",
      " 2   year          425675 non-null  float64\n",
      " 3   manufacturer  409234 non-null  object \n",
      " 4   model         421603 non-null  object \n",
      " 5   condition     252776 non-null  object \n",
      " 6   cylinders     249202 non-null  object \n",
      " 7   fuel          423867 non-null  object \n",
      " 8   odometer      422480 non-null  float64\n",
      " 9   title_status  418638 non-null  object \n",
      " 10  transmission  424324 non-null  object \n",
      " 11  drive         296313 non-null  object \n",
      " 12  size          120519 non-null  object \n",
      " 13  type          334022 non-null  object \n",
      " 14  posting_date  426812 non-null  object \n",
      " 15  description   426810 non-null  object \n",
      "dtypes: float64(2), int64(1), object(13)\n",
      "memory usage: 52.1+ MB\n"
     ]
    }
   ],
   "source": [
    "data_df.info()"
   ]
  },
  {
   "cell_type": "code",
   "execution_count": null,
   "metadata": {
    "colab": {
     "base_uri": "https://localhost:8080/"
    },
    "executionInfo": {
     "elapsed": 220,
     "status": "ok",
     "timestamp": 1662676852529,
     "user": {
      "displayName": "Srinath Nanduri",
      "userId": "16683609937496845667"
     },
     "user_tz": 420
    },
    "id": "hwmlYEy__hPq",
    "outputId": "477f9e6e-7607-4baa-bf1f-2a1d2097724f"
   },
   "outputs": [
    {
     "data": {
      "text/plain": [
       "price       1.000000\n",
       "odometer    0.010032\n",
       "year       -0.004925\n",
       "Name: price, dtype: float64"
      ]
     },
     "execution_count": 216,
     "metadata": {},
     "output_type": "execute_result"
    }
   ],
   "source": [
    "# Find how much each column correlates to arrival delay\n",
    "data_df.corr()['price'].sort_values(ascending=False)"
   ]
  },
  {
   "cell_type": "code",
   "execution_count": null,
   "metadata": {
    "colab": {
     "base_uri": "https://localhost:8080/"
    },
    "executionInfo": {
     "elapsed": 2386,
     "status": "ok",
     "timestamp": 1662676854913,
     "user": {
      "displayName": "Srinath Nanduri",
      "userId": "16683609937496845667"
     },
     "user_tz": 420
    },
    "id": "UtQb2bDfFzuy",
    "outputId": "26fb60f3-83d2-43fa-91a8-5ac1dfa520b7"
   },
   "outputs": [
    {
     "data": {
      "text/plain": [
       "region             404\n",
       "price            15655\n",
       "year               114\n",
       "manufacturer        42\n",
       "model            29667\n",
       "condition            6\n",
       "cylinders            8\n",
       "fuel                 5\n",
       "odometer        104870\n",
       "title_status         6\n",
       "transmission         3\n",
       "drive                3\n",
       "size                 4\n",
       "type                13\n",
       "posting_date    381536\n",
       "description     360911\n",
       "dtype: int64"
      ]
     },
     "execution_count": 217,
     "metadata": {},
     "output_type": "execute_result"
    }
   ],
   "source": [
    "# Check how many unique values are in each column\n",
    "data_df.nunique()"
   ]
  },
  {
   "cell_type": "code",
   "execution_count": null,
   "metadata": {
    "colab": {
     "base_uri": "https://localhost:8080/"
    },
    "executionInfo": {
     "elapsed": 103481,
     "status": "ok",
     "timestamp": 1662676958392,
     "user": {
      "displayName": "Srinath Nanduri",
      "userId": "16683609937496845667"
     },
     "user_tz": 420
    },
    "id": "yawWrPojLVRs",
    "outputId": "6263da0b-2dfe-49a1-f863-004db5700615"
   },
   "outputs": [
    {
     "name": "stderr",
     "output_type": "stream",
     "text": [
      "/usr/local/lib/python3.7/dist-packages/pandas/core/frame.py:4913: SettingWithCopyWarning: \n",
      "A value is trying to be set on a copy of a slice from a DataFrame\n",
      "\n",
      "See the caveats in the documentation: https://pandas.pydata.org/pandas-docs/stable/user_guide/indexing.html#returning-a-view-versus-a-copy\n",
      "  errors=errors,\n"
     ]
    }
   ],
   "source": [
    "# filter out outliers in the price and odometer columns\n",
    "data_df = data_df[(data_df['price'] < 100000) & (data_df['price'] > 1000)]\n",
    "data_df = data_df[(data_df['odometer'] < 300000) & (data_df['odometer'] > 10000)]\n",
    "\n",
    "# filter out all data where cylinders, transmission, and drive columns are all null at the same time\n",
    "data_df.drop(data_df[(data_df['cylinders'].isna()) & (data_df['transmission'].isna()) & (data_df['drive'].isna())].index, inplace = True)\n",
    "\n",
    "# display only the number of cylinders in the cylinders column\n",
    "data_df['cylinders'] = data_df['cylinders'].apply(lambda x: x.split()[0] if not pd.isnull(x) else np.nan)\n",
    "\n",
    "# change the tesla element in the manufacturers column to show as 0 cylinders rather than 'other'\n",
    "data_df.loc[data_df['manufacturer'] == 'tesla', 'cylinders'] = 0\n",
    "data_df['cylinders'].fillna(0, inplace=True)\n",
    "data_df['cylinders'].replace('other', 0, inplace=True)\n",
    "\n",
    "# change the cylinders column to type int\n",
    "data_df = data_df.astype({'cylinders': int})\n",
    "\n",
    "# replace 'like new' and 'new' with 'excellent in the condition column\n",
    "data_df['condition'].replace('like new', 'excellent', inplace=True)\n",
    "data_df['condition'].replace('new', 'excellent', inplace=True)\n",
    "\n",
    "# use the description column to grab data for missing transmission entries\n",
    "data_df[\"description\"]=data_df[\"description\"].apply(lambda x:str(x).lower())\n",
    "data_df.loc[(data_df['description'].str.contains('automatic transmission')) & (data_df['transmission'] == 'other'), \"transmission\"] = \"automatic\"\n",
    "data_df.loc[(data_df['description'].str.contains('manual transmission')) & (data_df['transmission'] == 'other'), \"transmission\"] = \"manual\"\n",
    "data_df.loc[(data_df['description'].str.contains('automatic transmission')) & (data_df['transmission'].isna()), \"transmission\"] = \"automatic\"\n",
    "data_df.loc[(data_df['description'].str.contains('manual transmission')) & (data_df['transmission'].isna()), \"transmission\"] = \"manual\"\n",
    "\n",
    "# use the description column to grab data for missing manufacturer entries\n",
    "manufacturer = data_df['manufacturer'].unique().tolist()\n",
    "manufacturer.remove(np.NaN)\n",
    "manu_str = '|'.join(manufacturer)\n",
    "data_df['manufacturer'] = data_df['manufacturer'].fillna(data_df['model'].str.contains(manu_str, case=False))\n",
    "data_df['manufacturer'] = data_df['manufacturer'].fillna(data_df['description'].str.contains(manu_str, case=False))\n",
    "\n",
    "# fill missing years with the median of odometer based on year\n",
    "odo_year_med = dict(data_df.groupby('year')['odometer'].median())\n",
    "data_df['year'] = data_df['year'].fillna(data_df['odometer'].apply(lambda x: odo_year_med.get(x)))\n",
    "\n",
    "# group the regions under the top 50 and manufacturers under the top 25 respectively, into 'others'\n",
    "region = data_df['region'].value_counts()\n",
    "manufacturer = data_df['manufacturer'].value_counts()\n",
    "data_df['region'] = data_df['region'].apply(lambda x: x if str(x) in region[:50] else 'others')\n",
    "data_df['manufacturer'] = data_df['manufacturer'].apply(lambda x: x if str(x) in manufacturer[:25] else 'others')"
   ]
  },
  {
   "cell_type": "code",
   "execution_count": null,
   "metadata": {
    "colab": {
     "base_uri": "https://localhost:8080/",
     "height": 424
    },
    "executionInfo": {
     "elapsed": 5,
     "status": "ok",
     "timestamp": 1662676958392,
     "user": {
      "displayName": "Srinath Nanduri",
      "userId": "16683609937496845667"
     },
     "user_tz": 420
    },
    "id": "yd3SPIbdqSoH",
    "outputId": "f8ee63b2-9e28-4614-cf64-cd0b856fb3e4"
   },
   "outputs": [
    {
     "data": {
      "text/html": [
       "\n",
       "  <div id=\"df-b387e8d0-ea1f-418c-9d59-031fd057b0f8\">\n",
       "    <div class=\"colab-df-container\">\n",
       "      <div>\n",
       "<style scoped>\n",
       "    .dataframe tbody tr th:only-of-type {\n",
       "        vertical-align: middle;\n",
       "    }\n",
       "\n",
       "    .dataframe tbody tr th {\n",
       "        vertical-align: top;\n",
       "    }\n",
       "\n",
       "    .dataframe thead th {\n",
       "        text-align: right;\n",
       "    }\n",
       "</style>\n",
       "<table border=\"1\" class=\"dataframe\">\n",
       "  <thead>\n",
       "    <tr style=\"text-align: right;\">\n",
       "      <th></th>\n",
       "      <th>region</th>\n",
       "      <th>price</th>\n",
       "      <th>year</th>\n",
       "      <th>manufacturer</th>\n",
       "      <th>model</th>\n",
       "      <th>condition</th>\n",
       "      <th>cylinders</th>\n",
       "      <th>fuel</th>\n",
       "      <th>odometer</th>\n",
       "      <th>title_status</th>\n",
       "      <th>transmission</th>\n",
       "      <th>drive</th>\n",
       "      <th>size</th>\n",
       "      <th>type</th>\n",
       "      <th>posting_date</th>\n",
       "      <th>description</th>\n",
       "    </tr>\n",
       "  </thead>\n",
       "  <tbody>\n",
       "    <tr>\n",
       "      <th>27</th>\n",
       "      <td>others</td>\n",
       "      <td>33590</td>\n",
       "      <td>2014.0</td>\n",
       "      <td>gmc</td>\n",
       "      <td>sierra 1500 crew cab slt</td>\n",
       "      <td>good</td>\n",
       "      <td>8</td>\n",
       "      <td>gas</td>\n",
       "      <td>57923.0</td>\n",
       "      <td>clean</td>\n",
       "      <td>other</td>\n",
       "      <td>NaN</td>\n",
       "      <td>NaN</td>\n",
       "      <td>pickup</td>\n",
       "      <td>2021-05-04T12:31:18-0500</td>\n",
       "      <td>carvana is the safer way to buy a car during t...</td>\n",
       "    </tr>\n",
       "    <tr>\n",
       "      <th>28</th>\n",
       "      <td>others</td>\n",
       "      <td>22590</td>\n",
       "      <td>2010.0</td>\n",
       "      <td>chevrolet</td>\n",
       "      <td>silverado 1500</td>\n",
       "      <td>good</td>\n",
       "      <td>8</td>\n",
       "      <td>gas</td>\n",
       "      <td>71229.0</td>\n",
       "      <td>clean</td>\n",
       "      <td>other</td>\n",
       "      <td>NaN</td>\n",
       "      <td>NaN</td>\n",
       "      <td>pickup</td>\n",
       "      <td>2021-05-04T12:31:08-0500</td>\n",
       "      <td>carvana is the safer way to buy a car during t...</td>\n",
       "    </tr>\n",
       "    <tr>\n",
       "      <th>29</th>\n",
       "      <td>others</td>\n",
       "      <td>39590</td>\n",
       "      <td>2020.0</td>\n",
       "      <td>chevrolet</td>\n",
       "      <td>silverado 1500 crew</td>\n",
       "      <td>good</td>\n",
       "      <td>8</td>\n",
       "      <td>gas</td>\n",
       "      <td>19160.0</td>\n",
       "      <td>clean</td>\n",
       "      <td>other</td>\n",
       "      <td>NaN</td>\n",
       "      <td>NaN</td>\n",
       "      <td>pickup</td>\n",
       "      <td>2021-05-04T12:31:25-0500</td>\n",
       "      <td>carvana is the safer way to buy a car during t...</td>\n",
       "    </tr>\n",
       "    <tr>\n",
       "      <th>30</th>\n",
       "      <td>others</td>\n",
       "      <td>30990</td>\n",
       "      <td>2017.0</td>\n",
       "      <td>toyota</td>\n",
       "      <td>tundra double cab sr</td>\n",
       "      <td>good</td>\n",
       "      <td>8</td>\n",
       "      <td>gas</td>\n",
       "      <td>41124.0</td>\n",
       "      <td>clean</td>\n",
       "      <td>other</td>\n",
       "      <td>NaN</td>\n",
       "      <td>NaN</td>\n",
       "      <td>pickup</td>\n",
       "      <td>2021-05-04T10:41:31-0500</td>\n",
       "      <td>carvana is the safer way to buy a car during t...</td>\n",
       "    </tr>\n",
       "    <tr>\n",
       "      <th>31</th>\n",
       "      <td>others</td>\n",
       "      <td>15000</td>\n",
       "      <td>2013.0</td>\n",
       "      <td>ford</td>\n",
       "      <td>f-150 xlt</td>\n",
       "      <td>excellent</td>\n",
       "      <td>6</td>\n",
       "      <td>gas</td>\n",
       "      <td>128000.0</td>\n",
       "      <td>clean</td>\n",
       "      <td>automatic</td>\n",
       "      <td>rwd</td>\n",
       "      <td>full-size</td>\n",
       "      <td>truck</td>\n",
       "      <td>2021-05-03T14:02:03-0500</td>\n",
       "      <td>2013 f-150 xlt v6 4 door. good condition. leve...</td>\n",
       "    </tr>\n",
       "    <tr>\n",
       "      <th>...</th>\n",
       "      <td>...</td>\n",
       "      <td>...</td>\n",
       "      <td>...</td>\n",
       "      <td>...</td>\n",
       "      <td>...</td>\n",
       "      <td>...</td>\n",
       "      <td>...</td>\n",
       "      <td>...</td>\n",
       "      <td>...</td>\n",
       "      <td>...</td>\n",
       "      <td>...</td>\n",
       "      <td>...</td>\n",
       "      <td>...</td>\n",
       "      <td>...</td>\n",
       "      <td>...</td>\n",
       "      <td>...</td>\n",
       "    </tr>\n",
       "    <tr>\n",
       "      <th>426874</th>\n",
       "      <td>others</td>\n",
       "      <td>33590</td>\n",
       "      <td>2018.0</td>\n",
       "      <td>lexus</td>\n",
       "      <td>gs 350 sedan 4d</td>\n",
       "      <td>good</td>\n",
       "      <td>6</td>\n",
       "      <td>gas</td>\n",
       "      <td>30814.0</td>\n",
       "      <td>clean</td>\n",
       "      <td>automatic</td>\n",
       "      <td>rwd</td>\n",
       "      <td>NaN</td>\n",
       "      <td>sedan</td>\n",
       "      <td>2021-04-04T03:21:34-0600</td>\n",
       "      <td>carvana is the safer way to buy a car during t...</td>\n",
       "    </tr>\n",
       "    <tr>\n",
       "      <th>426875</th>\n",
       "      <td>others</td>\n",
       "      <td>23590</td>\n",
       "      <td>2019.0</td>\n",
       "      <td>nissan</td>\n",
       "      <td>maxima s sedan 4d</td>\n",
       "      <td>good</td>\n",
       "      <td>6</td>\n",
       "      <td>gas</td>\n",
       "      <td>32226.0</td>\n",
       "      <td>clean</td>\n",
       "      <td>other</td>\n",
       "      <td>fwd</td>\n",
       "      <td>NaN</td>\n",
       "      <td>sedan</td>\n",
       "      <td>2021-04-04T03:21:31-0600</td>\n",
       "      <td>carvana is the safer way to buy a car during t...</td>\n",
       "    </tr>\n",
       "    <tr>\n",
       "      <th>426876</th>\n",
       "      <td>others</td>\n",
       "      <td>30590</td>\n",
       "      <td>2020.0</td>\n",
       "      <td>others</td>\n",
       "      <td>s60 t5 momentum sedan 4d</td>\n",
       "      <td>good</td>\n",
       "      <td>0</td>\n",
       "      <td>gas</td>\n",
       "      <td>12029.0</td>\n",
       "      <td>clean</td>\n",
       "      <td>other</td>\n",
       "      <td>fwd</td>\n",
       "      <td>NaN</td>\n",
       "      <td>sedan</td>\n",
       "      <td>2021-04-04T03:21:29-0600</td>\n",
       "      <td>carvana is the safer way to buy a car during t...</td>\n",
       "    </tr>\n",
       "    <tr>\n",
       "      <th>426878</th>\n",
       "      <td>others</td>\n",
       "      <td>28990</td>\n",
       "      <td>2018.0</td>\n",
       "      <td>lexus</td>\n",
       "      <td>es 350 sedan 4d</td>\n",
       "      <td>good</td>\n",
       "      <td>6</td>\n",
       "      <td>gas</td>\n",
       "      <td>30112.0</td>\n",
       "      <td>clean</td>\n",
       "      <td>other</td>\n",
       "      <td>fwd</td>\n",
       "      <td>NaN</td>\n",
       "      <td>sedan</td>\n",
       "      <td>2021-04-04T03:21:11-0600</td>\n",
       "      <td>carvana is the safer way to buy a car during t...</td>\n",
       "    </tr>\n",
       "    <tr>\n",
       "      <th>426879</th>\n",
       "      <td>others</td>\n",
       "      <td>30590</td>\n",
       "      <td>2019.0</td>\n",
       "      <td>bmw</td>\n",
       "      <td>4 series 430i gran coupe</td>\n",
       "      <td>good</td>\n",
       "      <td>0</td>\n",
       "      <td>gas</td>\n",
       "      <td>22716.0</td>\n",
       "      <td>clean</td>\n",
       "      <td>other</td>\n",
       "      <td>rwd</td>\n",
       "      <td>NaN</td>\n",
       "      <td>coupe</td>\n",
       "      <td>2021-04-04T03:21:07-0600</td>\n",
       "      <td>carvana is the safer way to buy a car during t...</td>\n",
       "    </tr>\n",
       "  </tbody>\n",
       "</table>\n",
       "<p>348358 rows × 16 columns</p>\n",
       "</div>\n",
       "      <button class=\"colab-df-convert\" onclick=\"convertToInteractive('df-b387e8d0-ea1f-418c-9d59-031fd057b0f8')\"\n",
       "              title=\"Convert this dataframe to an interactive table.\"\n",
       "              style=\"display:none;\">\n",
       "        \n",
       "  <svg xmlns=\"http://www.w3.org/2000/svg\" height=\"24px\"viewBox=\"0 0 24 24\"\n",
       "       width=\"24px\">\n",
       "    <path d=\"M0 0h24v24H0V0z\" fill=\"none\"/>\n",
       "    <path d=\"M18.56 5.44l.94 2.06.94-2.06 2.06-.94-2.06-.94-.94-2.06-.94 2.06-2.06.94zm-11 1L8.5 8.5l.94-2.06 2.06-.94-2.06-.94L8.5 2.5l-.94 2.06-2.06.94zm10 10l.94 2.06.94-2.06 2.06-.94-2.06-.94-.94-2.06-.94 2.06-2.06.94z\"/><path d=\"M17.41 7.96l-1.37-1.37c-.4-.4-.92-.59-1.43-.59-.52 0-1.04.2-1.43.59L10.3 9.45l-7.72 7.72c-.78.78-.78 2.05 0 2.83L4 21.41c.39.39.9.59 1.41.59.51 0 1.02-.2 1.41-.59l7.78-7.78 2.81-2.81c.8-.78.8-2.07 0-2.86zM5.41 20L4 18.59l7.72-7.72 1.47 1.35L5.41 20z\"/>\n",
       "  </svg>\n",
       "      </button>\n",
       "      \n",
       "  <style>\n",
       "    .colab-df-container {\n",
       "      display:flex;\n",
       "      flex-wrap:wrap;\n",
       "      gap: 12px;\n",
       "    }\n",
       "\n",
       "    .colab-df-convert {\n",
       "      background-color: #E8F0FE;\n",
       "      border: none;\n",
       "      border-radius: 50%;\n",
       "      cursor: pointer;\n",
       "      display: none;\n",
       "      fill: #1967D2;\n",
       "      height: 32px;\n",
       "      padding: 0 0 0 0;\n",
       "      width: 32px;\n",
       "    }\n",
       "\n",
       "    .colab-df-convert:hover {\n",
       "      background-color: #E2EBFA;\n",
       "      box-shadow: 0px 1px 2px rgba(60, 64, 67, 0.3), 0px 1px 3px 1px rgba(60, 64, 67, 0.15);\n",
       "      fill: #174EA6;\n",
       "    }\n",
       "\n",
       "    [theme=dark] .colab-df-convert {\n",
       "      background-color: #3B4455;\n",
       "      fill: #D2E3FC;\n",
       "    }\n",
       "\n",
       "    [theme=dark] .colab-df-convert:hover {\n",
       "      background-color: #434B5C;\n",
       "      box-shadow: 0px 1px 3px 1px rgba(0, 0, 0, 0.15);\n",
       "      filter: drop-shadow(0px 1px 2px rgba(0, 0, 0, 0.3));\n",
       "      fill: #FFFFFF;\n",
       "    }\n",
       "  </style>\n",
       "\n",
       "      <script>\n",
       "        const buttonEl =\n",
       "          document.querySelector('#df-b387e8d0-ea1f-418c-9d59-031fd057b0f8 button.colab-df-convert');\n",
       "        buttonEl.style.display =\n",
       "          google.colab.kernel.accessAllowed ? 'block' : 'none';\n",
       "\n",
       "        async function convertToInteractive(key) {\n",
       "          const element = document.querySelector('#df-b387e8d0-ea1f-418c-9d59-031fd057b0f8');\n",
       "          const dataTable =\n",
       "            await google.colab.kernel.invokeFunction('convertToInteractive',\n",
       "                                                     [key], {});\n",
       "          if (!dataTable) return;\n",
       "\n",
       "          const docLinkHtml = 'Like what you see? Visit the ' +\n",
       "            '<a target=\"_blank\" href=https://colab.research.google.com/notebooks/data_table.ipynb>data table notebook</a>'\n",
       "            + ' to learn more about interactive tables.';\n",
       "          element.innerHTML = '';\n",
       "          dataTable['output_type'] = 'display_data';\n",
       "          await google.colab.output.renderOutput(dataTable, element);\n",
       "          const docLink = document.createElement('div');\n",
       "          docLink.innerHTML = docLinkHtml;\n",
       "          element.appendChild(docLink);\n",
       "        }\n",
       "      </script>\n",
       "    </div>\n",
       "  </div>\n",
       "  "
      ],
      "text/plain": [
       "        region  price    year manufacturer                     model  \\\n",
       "27      others  33590  2014.0          gmc  sierra 1500 crew cab slt   \n",
       "28      others  22590  2010.0    chevrolet            silverado 1500   \n",
       "29      others  39590  2020.0    chevrolet       silverado 1500 crew   \n",
       "30      others  30990  2017.0       toyota      tundra double cab sr   \n",
       "31      others  15000  2013.0         ford                 f-150 xlt   \n",
       "...        ...    ...     ...          ...                       ...   \n",
       "426874  others  33590  2018.0        lexus           gs 350 sedan 4d   \n",
       "426875  others  23590  2019.0       nissan         maxima s sedan 4d   \n",
       "426876  others  30590  2020.0       others  s60 t5 momentum sedan 4d   \n",
       "426878  others  28990  2018.0        lexus           es 350 sedan 4d   \n",
       "426879  others  30590  2019.0          bmw  4 series 430i gran coupe   \n",
       "\n",
       "        condition  cylinders fuel  odometer title_status transmission drive  \\\n",
       "27           good          8  gas   57923.0        clean        other   NaN   \n",
       "28           good          8  gas   71229.0        clean        other   NaN   \n",
       "29           good          8  gas   19160.0        clean        other   NaN   \n",
       "30           good          8  gas   41124.0        clean        other   NaN   \n",
       "31      excellent          6  gas  128000.0        clean    automatic   rwd   \n",
       "...           ...        ...  ...       ...          ...          ...   ...   \n",
       "426874       good          6  gas   30814.0        clean    automatic   rwd   \n",
       "426875       good          6  gas   32226.0        clean        other   fwd   \n",
       "426876       good          0  gas   12029.0        clean        other   fwd   \n",
       "426878       good          6  gas   30112.0        clean        other   fwd   \n",
       "426879       good          0  gas   22716.0        clean        other   rwd   \n",
       "\n",
       "             size    type              posting_date  \\\n",
       "27            NaN  pickup  2021-05-04T12:31:18-0500   \n",
       "28            NaN  pickup  2021-05-04T12:31:08-0500   \n",
       "29            NaN  pickup  2021-05-04T12:31:25-0500   \n",
       "30            NaN  pickup  2021-05-04T10:41:31-0500   \n",
       "31      full-size   truck  2021-05-03T14:02:03-0500   \n",
       "...           ...     ...                       ...   \n",
       "426874        NaN   sedan  2021-04-04T03:21:34-0600   \n",
       "426875        NaN   sedan  2021-04-04T03:21:31-0600   \n",
       "426876        NaN   sedan  2021-04-04T03:21:29-0600   \n",
       "426878        NaN   sedan  2021-04-04T03:21:11-0600   \n",
       "426879        NaN   coupe  2021-04-04T03:21:07-0600   \n",
       "\n",
       "                                              description  \n",
       "27      carvana is the safer way to buy a car during t...  \n",
       "28      carvana is the safer way to buy a car during t...  \n",
       "29      carvana is the safer way to buy a car during t...  \n",
       "30      carvana is the safer way to buy a car during t...  \n",
       "31      2013 f-150 xlt v6 4 door. good condition. leve...  \n",
       "...                                                   ...  \n",
       "426874  carvana is the safer way to buy a car during t...  \n",
       "426875  carvana is the safer way to buy a car during t...  \n",
       "426876  carvana is the safer way to buy a car during t...  \n",
       "426878  carvana is the safer way to buy a car during t...  \n",
       "426879  carvana is the safer way to buy a car during t...  \n",
       "\n",
       "[348358 rows x 16 columns]"
      ]
     },
     "execution_count": 219,
     "metadata": {},
     "output_type": "execute_result"
    }
   ],
   "source": [
    "data_df"
   ]
  },
  {
   "cell_type": "markdown",
   "metadata": {
    "id": "Iv9Rzp1i5xVu"
   },
   "source": [
    "# 5. Exploratory Data Analysis\n",
    "\n",
    "## Section Outline\n",
    "\n",
    "- Plot graphs for various columns vs price to visualize the correlation"
   ]
  },
  {
   "cell_type": "code",
   "execution_count": null,
   "metadata": {
    "colab": {
     "base_uri": "https://localhost:8080/",
     "height": 416
    },
    "executionInfo": {
     "elapsed": 3938,
     "status": "ok",
     "timestamp": 1662676962327,
     "user": {
      "displayName": "Srinath Nanduri",
      "userId": "16683609937496845667"
     },
     "user_tz": 420
    },
    "id": "0eNCpu7g-h7I",
    "outputId": "23166106-1aba-4066-de47-90b61f80c46c"
   },
   "outputs": [
    {
     "data": {
      "image/png": "[encoded data removed]",
      "text/plain": [
       "<Figure size 720x432 with 1 Axes>"
      ]
     },
     "metadata": {
      "needs_background": "light"
     },
     "output_type": "display_data"
    }
   ],
   "source": [
    "plt.title('Average Price per Cylinder')\n",
    "sns.barplot(data=data_df, x='cylinders', y='price')\n",
    "plt.show()"
   ]
  },
  {
   "cell_type": "markdown",
   "metadata": {
    "id": "kG4lnHs3QVNx"
   },
   "source": [
    "The average price per number of cylinders in the engine i.e. checking the correlation between power and price. There's a large jump in price between 4 to 6 cylinders as well as 0 cylinders due to them being electric cars."
   ]
  },
  {
   "cell_type": "code",
   "execution_count": null,
   "metadata": {
    "colab": {
     "base_uri": "https://localhost:8080/",
     "height": 433
    },
    "executionInfo": {
     "elapsed": 872,
     "status": "ok",
     "timestamp": 1662676963198,
     "user": {
      "displayName": "Srinath Nanduri",
      "userId": "16683609937496845667"
     },
     "user_tz": 420
    },
    "id": "XOeZMBZZJugz",
    "outputId": "682b935b-c60e-4b56-fbaa-5f66e6d42eb4"
   },
   "outputs": [
    {
     "data": {
      "text/plain": [
       "<matplotlib.axes._subplots.AxesSubplot at 0x7feeb60dcf90>"
      ]
     },
     "execution_count": 221,
     "metadata": {},
     "output_type": "execute_result"
    },
    {
     "data": {
      "image/png": "[encoded data removed]",
      "text/plain": [
       "<Figure size 720x432 with 1 Axes>"
      ]
     },
     "metadata": {
      "needs_background": "light"
     },
     "output_type": "display_data"
    }
   ],
   "source": [
    "plt.title('Average Price per Odometer Range')\n",
    "sns.scatterplot(data=data_df.sample(10000), x='odometer', y='price')"
   ]
  },
  {
   "cell_type": "markdown",
   "metadata": {
    "id": "WY-P8vu-Qv7-"
   },
   "source": [
    "The correlation between price and distance travelled in the car. It seems to be a negative correlation, the lower the range, the higher the price."
   ]
  },
  {
   "cell_type": "code",
   "execution_count": null,
   "metadata": {
    "colab": {
     "base_uri": "https://localhost:8080/",
     "height": 416
    },
    "executionInfo": {
     "elapsed": 2264,
     "status": "ok",
     "timestamp": 1662676965459,
     "user": {
      "displayName": "Srinath Nanduri",
      "userId": "16683609937496845667"
     },
     "user_tz": 420
    },
    "id": "7HSdC6NhMzQn",
    "outputId": "b5043c19-59e1-4e54-ba00-ee377a4f243d"
   },
   "outputs": [
    {
     "data": {
      "image/png": "[encoded data removed]",
      "text/plain": [
       "<Figure size 720x432 with 1 Axes>"
      ]
     },
     "metadata": {
      "needs_background": "light"
     },
     "output_type": "display_data"
    }
   ],
   "source": [
    "plt.title('Average Price vs. Condition')\n",
    "sns.barplot(data=data_df, x='condition', y='price')\n",
    "plt.show()"
   ]
  },
  {
   "cell_type": "markdown",
   "metadata": {
    "id": "g1AVMBPWRV1O"
   },
   "source": [
    "The correlation between the condition of the car and how much it costs. As expected the better condition cars cost more than the worse ones. However, good seems to cost more on average than excellent."
   ]
  },
  {
   "cell_type": "code",
   "execution_count": null,
   "metadata": {
    "colab": {
     "base_uri": "https://localhost:8080/",
     "height": 416
    },
    "executionInfo": {
     "elapsed": 5379,
     "status": "ok",
     "timestamp": 1662676970836,
     "user": {
      "displayName": "Srinath Nanduri",
      "userId": "16683609937496845667"
     },
     "user_tz": 420
    },
    "id": "TSxjS9lgNUkI",
    "outputId": "7bac58a4-9fee-4181-8726-18b46d77ab33"
   },
   "outputs": [
    {
     "data": {
      "image/png": "[encoded data removed]",
      "text/plain": [
       "<Figure size 720x432 with 1 Axes>"
      ]
     },
     "metadata": {
      "needs_background": "light"
     },
     "output_type": "display_data"
    }
   ],
   "source": [
    "plt.title('Average Price vs. Title Status')\n",
    "sns.barplot(data=data_df, x='title_status', y='price')\n",
    "plt.show()"
   ]
  },
  {
   "cell_type": "markdown",
   "metadata": {
    "id": "0DO74xnuRlbY"
   },
   "source": [
    "Check the price correlation with the title status. As expected clean is more expensive than rebuilt, but the most expensive cars are the ones with a lien. This might be the case due to more expensive cars being the subject of a lien with the lienee not being able to afford them anymore."
   ]
  },
  {
   "cell_type": "code",
   "execution_count": null,
   "metadata": {
    "colab": {
     "base_uri": "https://localhost:8080/",
     "height": 416
    },
    "executionInfo": {
     "elapsed": 4563,
     "status": "ok",
     "timestamp": 1662676975397,
     "user": {
      "displayName": "Srinath Nanduri",
      "userId": "16683609937496845667"
     },
     "user_tz": 420
    },
    "id": "y-vDVEgWNoLI",
    "outputId": "5ca9b7c8-3745-4296-d934-2dbc7f1317cb"
   },
   "outputs": [
    {
     "data": {
      "image/png": "[encoded data removed]",
      "text/plain": [
       "<Figure size 720x432 with 1 Axes>"
      ]
     },
     "metadata": {
      "needs_background": "light"
     },
     "output_type": "display_data"
    }
   ],
   "source": [
    "plt.title('Average Price vs. Fuel Type')\n",
    "sns.barplot(data=data_df, x='fuel', y='price')\n",
    "plt.show()"
   ]
  },
  {
   "cell_type": "markdown",
   "metadata": {
    "id": "fyqwBDuTS9sj"
   },
   "source": [
    "According to the data, diesel cars are by far and away the most expensive, especially compared to gas. [This source](https://www.moneyunder30.com/will-owning-a-diesel-save-you-money) shows that on average a diesel car costs more than their gas counterparts by 2500 - 4000 dollars, which doesn't account for the entire cost difference, but another explanation could be that diesel cars on average are more expensive than gas cars by a significant amount. Electric cars are more expensive than gas in general due to the new age of the technology which also means that the cars on sale would be newer further adding to the cost. "
   ]
  },
  {
   "cell_type": "code",
   "execution_count": null,
   "metadata": {
    "colab": {
     "base_uri": "https://localhost:8080/",
     "height": 510
    },
    "executionInfo": {
     "elapsed": 4176,
     "status": "ok",
     "timestamp": 1662676979571,
     "user": {
      "displayName": "Srinath Nanduri",
      "userId": "16683609937496845667"
     },
     "user_tz": 420
    },
    "id": "V9Zn-kkQN6I3",
    "outputId": "5d823fc4-36b4-48f7-a02e-b84a2a7c179d"
   },
   "outputs": [
    {
     "data": {
      "image/png": "[encoded data removed]",
      "text/plain": [
       "<Figure size 720x432 with 1 Axes>"
      ]
     },
     "metadata": {
      "needs_background": "light"
     },
     "output_type": "display_data"
    }
   ],
   "source": [
    "plt.title('Average Price vs. Manufacturer')\n",
    "sns.barplot(data=data_df, x='manufacturer', y='price')\n",
    "plt.xticks(rotation=90)\n",
    "plt.show()"
   ]
  },
  {
   "cell_type": "markdown",
   "metadata": {
    "id": "v_10WMdyVFFK"
   },
   "source": [
    "The price per manufacturer. In this case it's unsurprising to see that Audi, Infiniti, BMW and other luxury brands are at the higher end of the scale. The outliers are RAM and GMC at 30K and 25K respectively. The reason for this could be high powered trucks that sell for quite a bit on the used market in the United States, compared to used luxury vehicles."
   ]
  },
  {
   "cell_type": "code",
   "execution_count": null,
   "metadata": {
    "colab": {
     "base_uri": "https://localhost:8080/",
     "height": 416
    },
    "executionInfo": {
     "elapsed": 1235,
     "status": "ok",
     "timestamp": 1662676988227,
     "user": {
      "displayName": "Srinath Nanduri",
      "userId": "16683609937496845667"
     },
     "user_tz": 420
    },
    "id": "ifepgI4kPJbC",
    "outputId": "b96d373a-5ecf-451c-e750-8be6812a251d"
   },
   "outputs": [
    {
     "data": {
      "image/png": "[encoded data removed]",
      "text/plain": [
       "<Figure size 720x432 with 1 Axes>"
      ]
     },
     "metadata": {
      "needs_background": "light"
     },
     "output_type": "display_data"
    }
   ],
   "source": [
    "plt.title('Average Price vs. Size')\n",
    "sns.barplot(data=data_df, x='size', y='price')\n",
    "plt.show()"
   ]
  },
  {
   "cell_type": "markdown",
   "metadata": {
    "id": "ZyKQqxNcVGqN"
   },
   "source": [
    "The average price vs size of the car. It's no surprise that the larger car costs more compared to the smaller one."
   ]
  },
  {
   "cell_type": "code",
   "execution_count": null,
   "metadata": {
    "colab": {
     "base_uri": "https://localhost:8080/",
     "height": 634
    },
    "executionInfo": {
     "elapsed": 3202,
     "status": "ok",
     "timestamp": 1662677224608,
     "user": {
      "displayName": "Srinath Nanduri",
      "userId": "16683609937496845667"
     },
     "user_tz": 420
    },
    "id": "jGFQjE0GPPYf",
    "outputId": "f46ee794-a966-4ce0-ffb3-bc5f25a82fad"
   },
   "outputs": [
    {
     "data": {
      "image/png": "[encoded data removed]",
      "text/plain": [
       "<Figure size 1800x720 with 1 Axes>"
      ]
     },
     "metadata": {
      "needs_background": "light"
     },
     "output_type": "display_data"
    }
   ],
   "source": [
    "plt.figure(figsize=(25, 10))\n",
    "sns.barplot(data=data_df, x='type', y='price')\n",
    "plt.title('Average Price vs Type of Car')\n",
    "plt.show()"
   ]
  },
  {
   "cell_type": "markdown",
   "metadata": {
    "id": "xaBpih-CWp2K"
   },
   "source": [
    "This graph essentially confirms the previous two graphs, the larger vehicles and high powered trucks cost more on average."
   ]
  },
  {
   "cell_type": "code",
   "execution_count": null,
   "metadata": {
    "colab": {
     "base_uri": "https://localhost:8080/",
     "height": 398
    },
    "executionInfo": {
     "elapsed": 337,
     "status": "ok",
     "timestamp": 1662676996215,
     "user": {
      "displayName": "Srinath Nanduri",
      "userId": "16683609937496845667"
     },
     "user_tz": 420
    },
    "id": "xvbNw6ZdmQjN",
    "outputId": "6d531cd2-eedb-4d4b-9cfe-1aa55706d2a7"
   },
   "outputs": [
    {
     "data": {
      "image/png": "[encoded data removed]",
      "text/plain": [
       "<Figure size 720x432 with 2 Axes>"
      ]
     },
     "metadata": {
      "needs_background": "light"
     },
     "output_type": "display_data"
    }
   ],
   "source": [
    "plt.title('Correlation Heatmap')\n",
    "sns.heatmap(data_df.corr())\n",
    "plt.show()"
   ]
  },
  {
   "cell_type": "markdown",
   "metadata": {
    "id": "0SvlNDJFW3aT"
   },
   "source": [
    "Heatmap showing the correlation of the numerical columns in the dataset."
   ]
  },
  {
   "cell_type": "markdown",
   "metadata": {
    "id": "AnuZBommczAP"
   },
   "source": [
    "# 6. Feature Engineering\n",
    "\n",
    "## Section Outline\n",
    "- Convert the year column into the age of the car\n",
    "- Extract information from the description column to create 4 new features\n",
    "- Drop the columns unused for machine learning"
   ]
  },
  {
   "cell_type": "code",
   "execution_count": null,
   "metadata": {
    "id": "MCfraocYc6om"
   },
   "outputs": [],
   "source": [
    "# convert the year column into the age column (2021 because that was when the dataset was released) \n",
    "data_df['age'] = 2021 - data_df['year']\n",
    "\n",
    "# create new features using the description column to gather data regarding new tires, heated seats, automatic headlights and leather\n",
    "data_df['new_tires'] = np.where((data_df['description'].str.contains('new tire', case=False)), 1,0)\n",
    "data_df['heated_seats'] = np.where((data_df['description'].str.contains('heated seat', case=False)), 1, 0)\n",
    "\n",
    "data_df['auto_headlight'] = np.where((data_df['description'].str.contains('automatic headlight', case=False)) |\n",
    "                                     (data_df['description'].str.contains('auto headlight', case=False)), 1,0)\n",
    "\n",
    "data_df['leather'] = np.where((data_df['description'].str.contains('leather', case=False)), 1,0)\n",
    "\n",
    "# drop unnecessary columns\n",
    "data_df.drop(['year', 'description', 'model'], inplace=True, axis=1)"
   ]
  },
  {
   "cell_type": "code",
   "execution_count": null,
   "metadata": {
    "colab": {
     "base_uri": "https://localhost:8080/",
     "height": 659
    },
    "executionInfo": {
     "elapsed": 6772,
     "status": "ok",
     "timestamp": 1662677251946,
     "user": {
      "displayName": "Srinath Nanduri",
      "userId": "16683609937496845667"
     },
     "user_tz": 420
    },
    "id": "L3LCYZgSSCik",
    "outputId": "623ac156-b5cd-4a7a-9667-34cc8f26dacb"
   },
   "outputs": [
    {
     "data": {
      "image/png": "[encoded data removed]",
      "text/plain": [
       "<Figure size 1800x720 with 1 Axes>"
      ]
     },
     "metadata": {
      "needs_background": "light"
     },
     "output_type": "display_data"
    }
   ],
   "source": [
    "plt.figure(figsize=(25, 10))\n",
    "sns.barplot(data=data_df, x='age', y='price')\n",
    "plt.title('Average Price vs. Age of Car')\n",
    "plt.xticks(rotation=90)\n",
    "plt.show()"
   ]
  },
  {
   "cell_type": "markdown",
   "metadata": {
    "id": "_N7Qe0SIX1mO"
   },
   "source": [
    "The price of the cars goes down the older they get up to around 50 years old which is where it's a fair assumption of them being good quality antique cars which can fetch a decent amount of money."
   ]
  },
  {
   "cell_type": "markdown",
   "metadata": {
    "id": "5nRkCHIQ5aia"
   },
   "source": [
    "# 7. Training/Validation/Test\n",
    "\n",
    "## Section Outline\n",
    "\n",
    "- Create a split of 60/20/20 for Train/Val/Test datasets\n",
    "- Separate input columns from output\n",
    "- Separate numerical columns from categorical\n",
    "- Create a dataframe for each of the splits for inputs and a series for the output"
   ]
  },
  {
   "cell_type": "code",
   "execution_count": null,
   "metadata": {
    "id": "FtzxNqqpvTmw"
   },
   "outputs": [],
   "source": [
    "# create training, validation and test split dataframes\n",
    "train_val_df, test_df = train_test_split(data_df, test_size=0.2, random_state=42)\n",
    "train_df, val_df = train_test_split(data_df, test_size=0.25, random_state=42)"
   ]
  },
  {
   "cell_type": "code",
   "execution_count": null,
   "metadata": {
    "colab": {
     "base_uri": "https://localhost:8080/",
     "height": 206
    },
    "executionInfo": {
     "elapsed": 5,
     "status": "ok",
     "timestamp": 1662677040852,
     "user": {
      "displayName": "Srinath Nanduri",
      "userId": "16683609937496845667"
     },
     "user_tz": 420
    },
    "id": "axTiay_CyBQz",
    "outputId": "6ccc67e9-765a-4ec7-bbeb-f91045a151b0"
   },
   "outputs": [
    {
     "data": {
      "text/html": [
       "\n",
       "  <div id=\"df-c29d41d7-938a-45fe-b827-4c78a0529c5e\">\n",
       "    <div class=\"colab-df-container\">\n",
       "      <div>\n",
       "<style scoped>\n",
       "    .dataframe tbody tr th:only-of-type {\n",
       "        vertical-align: middle;\n",
       "    }\n",
       "\n",
       "    .dataframe tbody tr th {\n",
       "        vertical-align: top;\n",
       "    }\n",
       "\n",
       "    .dataframe thead th {\n",
       "        text-align: right;\n",
       "    }\n",
       "</style>\n",
       "<table border=\"1\" class=\"dataframe\">\n",
       "  <thead>\n",
       "    <tr style=\"text-align: right;\">\n",
       "      <th></th>\n",
       "      <th>region</th>\n",
       "      <th>price</th>\n",
       "      <th>manufacturer</th>\n",
       "      <th>condition</th>\n",
       "      <th>cylinders</th>\n",
       "      <th>fuel</th>\n",
       "      <th>odometer</th>\n",
       "      <th>title_status</th>\n",
       "      <th>transmission</th>\n",
       "      <th>drive</th>\n",
       "      <th>size</th>\n",
       "      <th>type</th>\n",
       "      <th>posting_date</th>\n",
       "      <th>age</th>\n",
       "      <th>new_tires</th>\n",
       "      <th>heated_seats</th>\n",
       "      <th>auto_headlight</th>\n",
       "      <th>leather</th>\n",
       "    </tr>\n",
       "  </thead>\n",
       "  <tbody>\n",
       "    <tr>\n",
       "      <th>349556</th>\n",
       "      <td>others</td>\n",
       "      <td>29990</td>\n",
       "      <td>toyota</td>\n",
       "      <td>good</td>\n",
       "      <td>6</td>\n",
       "      <td>gas</td>\n",
       "      <td>43182.0</td>\n",
       "      <td>clean</td>\n",
       "      <td>other</td>\n",
       "      <td>4wd</td>\n",
       "      <td>NaN</td>\n",
       "      <td>pickup</td>\n",
       "      <td>2021-04-25T12:41:14-0400</td>\n",
       "      <td>9.0</td>\n",
       "      <td>0</td>\n",
       "      <td>0</td>\n",
       "      <td>0</td>\n",
       "      <td>0</td>\n",
       "    </tr>\n",
       "    <tr>\n",
       "      <th>252291</th>\n",
       "      <td>central NJ</td>\n",
       "      <td>9500</td>\n",
       "      <td>gmc</td>\n",
       "      <td>NaN</td>\n",
       "      <td>8</td>\n",
       "      <td>gas</td>\n",
       "      <td>138866.0</td>\n",
       "      <td>clean</td>\n",
       "      <td>automatic</td>\n",
       "      <td>4wd</td>\n",
       "      <td>NaN</td>\n",
       "      <td>SUV</td>\n",
       "      <td>2021-04-11T08:32:50-0400</td>\n",
       "      <td>13.0</td>\n",
       "      <td>0</td>\n",
       "      <td>0</td>\n",
       "      <td>0</td>\n",
       "      <td>0</td>\n",
       "    </tr>\n",
       "    <tr>\n",
       "      <th>330195</th>\n",
       "      <td>others</td>\n",
       "      <td>14995</td>\n",
       "      <td>chevrolet</td>\n",
       "      <td>excellent</td>\n",
       "      <td>4</td>\n",
       "      <td>gas</td>\n",
       "      <td>44980.0</td>\n",
       "      <td>clean</td>\n",
       "      <td>automatic</td>\n",
       "      <td>fwd</td>\n",
       "      <td>mid-size</td>\n",
       "      <td>sedan</td>\n",
       "      <td>2021-04-30T09:19:46-0400</td>\n",
       "      <td>7.0</td>\n",
       "      <td>0</td>\n",
       "      <td>0</td>\n",
       "      <td>0</td>\n",
       "      <td>1</td>\n",
       "    </tr>\n",
       "    <tr>\n",
       "      <th>82274</th>\n",
       "      <td>others</td>\n",
       "      <td>33800</td>\n",
       "      <td>lincoln</td>\n",
       "      <td>excellent</td>\n",
       "      <td>6</td>\n",
       "      <td>gas</td>\n",
       "      <td>24500.0</td>\n",
       "      <td>clean</td>\n",
       "      <td>automatic</td>\n",
       "      <td>4wd</td>\n",
       "      <td>mid-size</td>\n",
       "      <td>sedan</td>\n",
       "      <td>2021-04-22T20:43:17-0600</td>\n",
       "      <td>3.0</td>\n",
       "      <td>0</td>\n",
       "      <td>0</td>\n",
       "      <td>0</td>\n",
       "      <td>0</td>\n",
       "    </tr>\n",
       "    <tr>\n",
       "      <th>78522</th>\n",
       "      <td>others</td>\n",
       "      <td>8995</td>\n",
       "      <td>ford</td>\n",
       "      <td>excellent</td>\n",
       "      <td>4</td>\n",
       "      <td>gas</td>\n",
       "      <td>132334.0</td>\n",
       "      <td>NaN</td>\n",
       "      <td>automatic</td>\n",
       "      <td>NaN</td>\n",
       "      <td>NaN</td>\n",
       "      <td>SUV</td>\n",
       "      <td>2021-05-03T17:16:12-0600</td>\n",
       "      <td>10.0</td>\n",
       "      <td>0</td>\n",
       "      <td>0</td>\n",
       "      <td>0</td>\n",
       "      <td>0</td>\n",
       "    </tr>\n",
       "  </tbody>\n",
       "</table>\n",
       "</div>\n",
       "      <button class=\"colab-df-convert\" onclick=\"convertToInteractive('df-c29d41d7-938a-45fe-b827-4c78a0529c5e')\"\n",
       "              title=\"Convert this dataframe to an interactive table.\"\n",
       "              style=\"display:none;\">\n",
       "        \n",
       "  <svg xmlns=\"http://www.w3.org/2000/svg\" height=\"24px\"viewBox=\"0 0 24 24\"\n",
       "       width=\"24px\">\n",
       "    <path d=\"M0 0h24v24H0V0z\" fill=\"none\"/>\n",
       "    <path d=\"M18.56 5.44l.94 2.06.94-2.06 2.06-.94-2.06-.94-.94-2.06-.94 2.06-2.06.94zm-11 1L8.5 8.5l.94-2.06 2.06-.94-2.06-.94L8.5 2.5l-.94 2.06-2.06.94zm10 10l.94 2.06.94-2.06 2.06-.94-2.06-.94-.94-2.06-.94 2.06-2.06.94z\"/><path d=\"M17.41 7.96l-1.37-1.37c-.4-.4-.92-.59-1.43-.59-.52 0-1.04.2-1.43.59L10.3 9.45l-7.72 7.72c-.78.78-.78 2.05 0 2.83L4 21.41c.39.39.9.59 1.41.59.51 0 1.02-.2 1.41-.59l7.78-7.78 2.81-2.81c.8-.78.8-2.07 0-2.86zM5.41 20L4 18.59l7.72-7.72 1.47 1.35L5.41 20z\"/>\n",
       "  </svg>\n",
       "      </button>\n",
       "      \n",
       "  <style>\n",
       "    .colab-df-container {\n",
       "      display:flex;\n",
       "      flex-wrap:wrap;\n",
       "      gap: 12px;\n",
       "    }\n",
       "\n",
       "    .colab-df-convert {\n",
       "      background-color: #E8F0FE;\n",
       "      border: none;\n",
       "      border-radius: 50%;\n",
       "      cursor: pointer;\n",
       "      display: none;\n",
       "      fill: #1967D2;\n",
       "      height: 32px;\n",
       "      padding: 0 0 0 0;\n",
       "      width: 32px;\n",
       "    }\n",
       "\n",
       "    .colab-df-convert:hover {\n",
       "      background-color: #E2EBFA;\n",
       "      box-shadow: 0px 1px 2px rgba(60, 64, 67, 0.3), 0px 1px 3px 1px rgba(60, 64, 67, 0.15);\n",
       "      fill: #174EA6;\n",
       "    }\n",
       "\n",
       "    [theme=dark] .colab-df-convert {\n",
       "      background-color: #3B4455;\n",
       "      fill: #D2E3FC;\n",
       "    }\n",
       "\n",
       "    [theme=dark] .colab-df-convert:hover {\n",
       "      background-color: #434B5C;\n",
       "      box-shadow: 0px 1px 3px 1px rgba(0, 0, 0, 0.15);\n",
       "      filter: drop-shadow(0px 1px 2px rgba(0, 0, 0, 0.3));\n",
       "      fill: #FFFFFF;\n",
       "    }\n",
       "  </style>\n",
       "\n",
       "      <script>\n",
       "        const buttonEl =\n",
       "          document.querySelector('#df-c29d41d7-938a-45fe-b827-4c78a0529c5e button.colab-df-convert');\n",
       "        buttonEl.style.display =\n",
       "          google.colab.kernel.accessAllowed ? 'block' : 'none';\n",
       "\n",
       "        async function convertToInteractive(key) {\n",
       "          const element = document.querySelector('#df-c29d41d7-938a-45fe-b827-4c78a0529c5e');\n",
       "          const dataTable =\n",
       "            await google.colab.kernel.invokeFunction('convertToInteractive',\n",
       "                                                     [key], {});\n",
       "          if (!dataTable) return;\n",
       "\n",
       "          const docLinkHtml = 'Like what you see? Visit the ' +\n",
       "            '<a target=\"_blank\" href=https://colab.research.google.com/notebooks/data_table.ipynb>data table notebook</a>'\n",
       "            + ' to learn more about interactive tables.';\n",
       "          element.innerHTML = '';\n",
       "          dataTable['output_type'] = 'display_data';\n",
       "          await google.colab.output.renderOutput(dataTable, element);\n",
       "          const docLink = document.createElement('div');\n",
       "          docLink.innerHTML = docLinkHtml;\n",
       "          element.appendChild(docLink);\n",
       "        }\n",
       "      </script>\n",
       "    </div>\n",
       "  </div>\n",
       "  "
      ],
      "text/plain": [
       "            region  price manufacturer  condition  cylinders fuel  odometer  \\\n",
       "349556      others  29990       toyota       good          6  gas   43182.0   \n",
       "252291  central NJ   9500          gmc        NaN          8  gas  138866.0   \n",
       "330195      others  14995    chevrolet  excellent          4  gas   44980.0   \n",
       "82274       others  33800      lincoln  excellent          6  gas   24500.0   \n",
       "78522       others   8995         ford  excellent          4  gas  132334.0   \n",
       "\n",
       "       title_status transmission drive      size    type  \\\n",
       "349556        clean        other   4wd       NaN  pickup   \n",
       "252291        clean    automatic   4wd       NaN     SUV   \n",
       "330195        clean    automatic   fwd  mid-size   sedan   \n",
       "82274         clean    automatic   4wd  mid-size   sedan   \n",
       "78522           NaN    automatic   NaN       NaN     SUV   \n",
       "\n",
       "                    posting_date   age  new_tires  heated_seats  \\\n",
       "349556  2021-04-25T12:41:14-0400   9.0          0             0   \n",
       "252291  2021-04-11T08:32:50-0400  13.0          0             0   \n",
       "330195  2021-04-30T09:19:46-0400   7.0          0             0   \n",
       "82274   2021-04-22T20:43:17-0600   3.0          0             0   \n",
       "78522   2021-05-03T17:16:12-0600  10.0          0             0   \n",
       "\n",
       "        auto_headlight  leather  \n",
       "349556               0        0  \n",
       "252291               0        0  \n",
       "330195               0        1  \n",
       "82274                0        0  \n",
       "78522                0        0  "
      ]
     },
     "execution_count": 232,
     "metadata": {},
     "output_type": "execute_result"
    }
   ],
   "source": [
    "train_df.sample(5)"
   ]
  },
  {
   "cell_type": "code",
   "execution_count": null,
   "metadata": {
    "colab": {
     "base_uri": "https://localhost:8080/",
     "height": 206
    },
    "executionInfo": {
     "elapsed": 4,
     "status": "ok",
     "timestamp": 1662677040852,
     "user": {
      "displayName": "Srinath Nanduri",
      "userId": "16683609937496845667"
     },
     "user_tz": 420
    },
    "id": "Vubx4aVLyChU",
    "outputId": "e8f2ee85-70a7-4c43-c646-00c7f82486e0"
   },
   "outputs": [
    {
     "data": {
      "text/html": [
       "\n",
       "  <div id=\"df-79e9e8ea-7a90-47c1-9035-24814aed9da5\">\n",
       "    <div class=\"colab-df-container\">\n",
       "      <div>\n",
       "<style scoped>\n",
       "    .dataframe tbody tr th:only-of-type {\n",
       "        vertical-align: middle;\n",
       "    }\n",
       "\n",
       "    .dataframe tbody tr th {\n",
       "        vertical-align: top;\n",
       "    }\n",
       "\n",
       "    .dataframe thead th {\n",
       "        text-align: right;\n",
       "    }\n",
       "</style>\n",
       "<table border=\"1\" class=\"dataframe\">\n",
       "  <thead>\n",
       "    <tr style=\"text-align: right;\">\n",
       "      <th></th>\n",
       "      <th>region</th>\n",
       "      <th>price</th>\n",
       "      <th>manufacturer</th>\n",
       "      <th>condition</th>\n",
       "      <th>cylinders</th>\n",
       "      <th>fuel</th>\n",
       "      <th>odometer</th>\n",
       "      <th>title_status</th>\n",
       "      <th>transmission</th>\n",
       "      <th>drive</th>\n",
       "      <th>size</th>\n",
       "      <th>type</th>\n",
       "      <th>posting_date</th>\n",
       "      <th>age</th>\n",
       "      <th>new_tires</th>\n",
       "      <th>heated_seats</th>\n",
       "      <th>auto_headlight</th>\n",
       "      <th>leather</th>\n",
       "    </tr>\n",
       "  </thead>\n",
       "  <tbody>\n",
       "    <tr>\n",
       "      <th>128288</th>\n",
       "      <td>others</td>\n",
       "      <td>10991</td>\n",
       "      <td>nissan</td>\n",
       "      <td>excellent</td>\n",
       "      <td>4</td>\n",
       "      <td>gas</td>\n",
       "      <td>66571.0</td>\n",
       "      <td>NaN</td>\n",
       "      <td>other</td>\n",
       "      <td>NaN</td>\n",
       "      <td>NaN</td>\n",
       "      <td>SUV</td>\n",
       "      <td>2021-05-02T11:33:02-1000</td>\n",
       "      <td>8.0</td>\n",
       "      <td>0</td>\n",
       "      <td>0</td>\n",
       "      <td>0</td>\n",
       "      <td>0</td>\n",
       "    </tr>\n",
       "    <tr>\n",
       "      <th>407126</th>\n",
       "      <td>others</td>\n",
       "      <td>2500</td>\n",
       "      <td>audi</td>\n",
       "      <td>good</td>\n",
       "      <td>8</td>\n",
       "      <td>gas</td>\n",
       "      <td>116000.0</td>\n",
       "      <td>clean</td>\n",
       "      <td>automatic</td>\n",
       "      <td>4wd</td>\n",
       "      <td>full-size</td>\n",
       "      <td>sedan</td>\n",
       "      <td>2021-05-04T19:45:33-0700</td>\n",
       "      <td>20.0</td>\n",
       "      <td>0</td>\n",
       "      <td>0</td>\n",
       "      <td>0</td>\n",
       "      <td>0</td>\n",
       "    </tr>\n",
       "    <tr>\n",
       "      <th>246210</th>\n",
       "      <td>others</td>\n",
       "      <td>12950</td>\n",
       "      <td>ford</td>\n",
       "      <td>NaN</td>\n",
       "      <td>8</td>\n",
       "      <td>gas</td>\n",
       "      <td>135908.0</td>\n",
       "      <td>rebuilt</td>\n",
       "      <td>automatic</td>\n",
       "      <td>4wd</td>\n",
       "      <td>NaN</td>\n",
       "      <td>truck</td>\n",
       "      <td>2021-04-15T23:46:02-0700</td>\n",
       "      <td>8.0</td>\n",
       "      <td>0</td>\n",
       "      <td>0</td>\n",
       "      <td>0</td>\n",
       "      <td>0</td>\n",
       "    </tr>\n",
       "    <tr>\n",
       "      <th>347187</th>\n",
       "      <td>others</td>\n",
       "      <td>18990</td>\n",
       "      <td>mazda</td>\n",
       "      <td>good</td>\n",
       "      <td>0</td>\n",
       "      <td>gas</td>\n",
       "      <td>18553.0</td>\n",
       "      <td>clean</td>\n",
       "      <td>other</td>\n",
       "      <td>fwd</td>\n",
       "      <td>NaN</td>\n",
       "      <td>sedan</td>\n",
       "      <td>2021-04-29T21:11:30-0400</td>\n",
       "      <td>3.0</td>\n",
       "      <td>0</td>\n",
       "      <td>0</td>\n",
       "      <td>0</td>\n",
       "      <td>0</td>\n",
       "    </tr>\n",
       "    <tr>\n",
       "      <th>297156</th>\n",
       "      <td>columbus</td>\n",
       "      <td>26500</td>\n",
       "      <td>jeep</td>\n",
       "      <td>NaN</td>\n",
       "      <td>0</td>\n",
       "      <td>other</td>\n",
       "      <td>49996.0</td>\n",
       "      <td>clean</td>\n",
       "      <td>automatic</td>\n",
       "      <td>4wd</td>\n",
       "      <td>NaN</td>\n",
       "      <td>SUV</td>\n",
       "      <td>2021-04-16T14:09:21-0400</td>\n",
       "      <td>4.0</td>\n",
       "      <td>0</td>\n",
       "      <td>0</td>\n",
       "      <td>0</td>\n",
       "      <td>0</td>\n",
       "    </tr>\n",
       "  </tbody>\n",
       "</table>\n",
       "</div>\n",
       "      <button class=\"colab-df-convert\" onclick=\"convertToInteractive('df-79e9e8ea-7a90-47c1-9035-24814aed9da5')\"\n",
       "              title=\"Convert this dataframe to an interactive table.\"\n",
       "              style=\"display:none;\">\n",
       "        \n",
       "  <svg xmlns=\"http://www.w3.org/2000/svg\" height=\"24px\"viewBox=\"0 0 24 24\"\n",
       "       width=\"24px\">\n",
       "    <path d=\"M0 0h24v24H0V0z\" fill=\"none\"/>\n",
       "    <path d=\"M18.56 5.44l.94 2.06.94-2.06 2.06-.94-2.06-.94-.94-2.06-.94 2.06-2.06.94zm-11 1L8.5 8.5l.94-2.06 2.06-.94-2.06-.94L8.5 2.5l-.94 2.06-2.06.94zm10 10l.94 2.06.94-2.06 2.06-.94-2.06-.94-.94-2.06-.94 2.06-2.06.94z\"/><path d=\"M17.41 7.96l-1.37-1.37c-.4-.4-.92-.59-1.43-.59-.52 0-1.04.2-1.43.59L10.3 9.45l-7.72 7.72c-.78.78-.78 2.05 0 2.83L4 21.41c.39.39.9.59 1.41.59.51 0 1.02-.2 1.41-.59l7.78-7.78 2.81-2.81c.8-.78.8-2.07 0-2.86zM5.41 20L4 18.59l7.72-7.72 1.47 1.35L5.41 20z\"/>\n",
       "  </svg>\n",
       "      </button>\n",
       "      \n",
       "  <style>\n",
       "    .colab-df-container {\n",
       "      display:flex;\n",
       "      flex-wrap:wrap;\n",
       "      gap: 12px;\n",
       "    }\n",
       "\n",
       "    .colab-df-convert {\n",
       "      background-color: #E8F0FE;\n",
       "      border: none;\n",
       "      border-radius: 50%;\n",
       "      cursor: pointer;\n",
       "      display: none;\n",
       "      fill: #1967D2;\n",
       "      height: 32px;\n",
       "      padding: 0 0 0 0;\n",
       "      width: 32px;\n",
       "    }\n",
       "\n",
       "    .colab-df-convert:hover {\n",
       "      background-color: #E2EBFA;\n",
       "      box-shadow: 0px 1px 2px rgba(60, 64, 67, 0.3), 0px 1px 3px 1px rgba(60, 64, 67, 0.15);\n",
       "      fill: #174EA6;\n",
       "    }\n",
       "\n",
       "    [theme=dark] .colab-df-convert {\n",
       "      background-color: #3B4455;\n",
       "      fill: #D2E3FC;\n",
       "    }\n",
       "\n",
       "    [theme=dark] .colab-df-convert:hover {\n",
       "      background-color: #434B5C;\n",
       "      box-shadow: 0px 1px 3px 1px rgba(0, 0, 0, 0.15);\n",
       "      filter: drop-shadow(0px 1px 2px rgba(0, 0, 0, 0.3));\n",
       "      fill: #FFFFFF;\n",
       "    }\n",
       "  </style>\n",
       "\n",
       "      <script>\n",
       "        const buttonEl =\n",
       "          document.querySelector('#df-79e9e8ea-7a90-47c1-9035-24814aed9da5 button.colab-df-convert');\n",
       "        buttonEl.style.display =\n",
       "          google.colab.kernel.accessAllowed ? 'block' : 'none';\n",
       "\n",
       "        async function convertToInteractive(key) {\n",
       "          const element = document.querySelector('#df-79e9e8ea-7a90-47c1-9035-24814aed9da5');\n",
       "          const dataTable =\n",
       "            await google.colab.kernel.invokeFunction('convertToInteractive',\n",
       "                                                     [key], {});\n",
       "          if (!dataTable) return;\n",
       "\n",
       "          const docLinkHtml = 'Like what you see? Visit the ' +\n",
       "            '<a target=\"_blank\" href=https://colab.research.google.com/notebooks/data_table.ipynb>data table notebook</a>'\n",
       "            + ' to learn more about interactive tables.';\n",
       "          element.innerHTML = '';\n",
       "          dataTable['output_type'] = 'display_data';\n",
       "          await google.colab.output.renderOutput(dataTable, element);\n",
       "          const docLink = document.createElement('div');\n",
       "          docLink.innerHTML = docLinkHtml;\n",
       "          element.appendChild(docLink);\n",
       "        }\n",
       "      </script>\n",
       "    </div>\n",
       "  </div>\n",
       "  "
      ],
      "text/plain": [
       "          region  price manufacturer  condition  cylinders   fuel  odometer  \\\n",
       "128288    others  10991       nissan  excellent          4    gas   66571.0   \n",
       "407126    others   2500         audi       good          8    gas  116000.0   \n",
       "246210    others  12950         ford        NaN          8    gas  135908.0   \n",
       "347187    others  18990        mazda       good          0    gas   18553.0   \n",
       "297156  columbus  26500         jeep        NaN          0  other   49996.0   \n",
       "\n",
       "       title_status transmission drive       size   type  \\\n",
       "128288          NaN        other   NaN        NaN    SUV   \n",
       "407126        clean    automatic   4wd  full-size  sedan   \n",
       "246210      rebuilt    automatic   4wd        NaN  truck   \n",
       "347187        clean        other   fwd        NaN  sedan   \n",
       "297156        clean    automatic   4wd        NaN    SUV   \n",
       "\n",
       "                    posting_date   age  new_tires  heated_seats  \\\n",
       "128288  2021-05-02T11:33:02-1000   8.0          0             0   \n",
       "407126  2021-05-04T19:45:33-0700  20.0          0             0   \n",
       "246210  2021-04-15T23:46:02-0700   8.0          0             0   \n",
       "347187  2021-04-29T21:11:30-0400   3.0          0             0   \n",
       "297156  2021-04-16T14:09:21-0400   4.0          0             0   \n",
       "\n",
       "        auto_headlight  leather  \n",
       "128288               0        0  \n",
       "407126               0        0  \n",
       "246210               0        0  \n",
       "347187               0        0  \n",
       "297156               0        0  "
      ]
     },
     "execution_count": 233,
     "metadata": {},
     "output_type": "execute_result"
    }
   ],
   "source": [
    "val_df.sample(5)"
   ]
  },
  {
   "cell_type": "code",
   "execution_count": null,
   "metadata": {
    "colab": {
     "base_uri": "https://localhost:8080/",
     "height": 206
    },
    "executionInfo": {
     "elapsed": 243,
     "status": "ok",
     "timestamp": 1662677041092,
     "user": {
      "displayName": "Srinath Nanduri",
      "userId": "16683609937496845667"
     },
     "user_tz": 420
    },
    "id": "8ggvk31TyDxs",
    "outputId": "18a791dd-c397-4edb-dde3-813445a7b10d"
   },
   "outputs": [
    {
     "data": {
      "text/html": [
       "\n",
       "  <div id=\"df-c750623d-0a13-4316-b981-cc5533f5ae06\">\n",
       "    <div class=\"colab-df-container\">\n",
       "      <div>\n",
       "<style scoped>\n",
       "    .dataframe tbody tr th:only-of-type {\n",
       "        vertical-align: middle;\n",
       "    }\n",
       "\n",
       "    .dataframe tbody tr th {\n",
       "        vertical-align: top;\n",
       "    }\n",
       "\n",
       "    .dataframe thead th {\n",
       "        text-align: right;\n",
       "    }\n",
       "</style>\n",
       "<table border=\"1\" class=\"dataframe\">\n",
       "  <thead>\n",
       "    <tr style=\"text-align: right;\">\n",
       "      <th></th>\n",
       "      <th>region</th>\n",
       "      <th>price</th>\n",
       "      <th>manufacturer</th>\n",
       "      <th>condition</th>\n",
       "      <th>cylinders</th>\n",
       "      <th>fuel</th>\n",
       "      <th>odometer</th>\n",
       "      <th>title_status</th>\n",
       "      <th>transmission</th>\n",
       "      <th>drive</th>\n",
       "      <th>size</th>\n",
       "      <th>type</th>\n",
       "      <th>posting_date</th>\n",
       "      <th>age</th>\n",
       "      <th>new_tires</th>\n",
       "      <th>heated_seats</th>\n",
       "      <th>auto_headlight</th>\n",
       "      <th>leather</th>\n",
       "    </tr>\n",
       "  </thead>\n",
       "  <tbody>\n",
       "    <tr>\n",
       "      <th>222301</th>\n",
       "      <td>others</td>\n",
       "      <td>2200</td>\n",
       "      <td>honda</td>\n",
       "      <td>good</td>\n",
       "      <td>4</td>\n",
       "      <td>gas</td>\n",
       "      <td>164000.0</td>\n",
       "      <td>clean</td>\n",
       "      <td>automatic</td>\n",
       "      <td>NaN</td>\n",
       "      <td>NaN</td>\n",
       "      <td>SUV</td>\n",
       "      <td>2021-04-21T10:20:17-0500</td>\n",
       "      <td>22.0</td>\n",
       "      <td>0</td>\n",
       "      <td>0</td>\n",
       "      <td>0</td>\n",
       "      <td>0</td>\n",
       "    </tr>\n",
       "    <tr>\n",
       "      <th>369332</th>\n",
       "      <td>dallas / fort worth</td>\n",
       "      <td>3450</td>\n",
       "      <td>lincoln</td>\n",
       "      <td>excellent</td>\n",
       "      <td>6</td>\n",
       "      <td>gas</td>\n",
       "      <td>249900.0</td>\n",
       "      <td>clean</td>\n",
       "      <td>automatic</td>\n",
       "      <td>fwd</td>\n",
       "      <td>mid-size</td>\n",
       "      <td>sedan</td>\n",
       "      <td>2021-05-03T17:32:31-0500</td>\n",
       "      <td>12.0</td>\n",
       "      <td>1</td>\n",
       "      <td>0</td>\n",
       "      <td>0</td>\n",
       "      <td>1</td>\n",
       "    </tr>\n",
       "    <tr>\n",
       "      <th>221764</th>\n",
       "      <td>others</td>\n",
       "      <td>13995</td>\n",
       "      <td>nissan</td>\n",
       "      <td>NaN</td>\n",
       "      <td>4</td>\n",
       "      <td>gas</td>\n",
       "      <td>85137.0</td>\n",
       "      <td>clean</td>\n",
       "      <td>automatic</td>\n",
       "      <td>fwd</td>\n",
       "      <td>NaN</td>\n",
       "      <td>sedan</td>\n",
       "      <td>2021-04-29T18:05:27-0500</td>\n",
       "      <td>6.0</td>\n",
       "      <td>0</td>\n",
       "      <td>1</td>\n",
       "      <td>0</td>\n",
       "      <td>1</td>\n",
       "    </tr>\n",
       "    <tr>\n",
       "      <th>202958</th>\n",
       "      <td>grand rapids</td>\n",
       "      <td>14990</td>\n",
       "      <td>honda</td>\n",
       "      <td>good</td>\n",
       "      <td>0</td>\n",
       "      <td>gas</td>\n",
       "      <td>77726.0</td>\n",
       "      <td>clean</td>\n",
       "      <td>other</td>\n",
       "      <td>fwd</td>\n",
       "      <td>NaN</td>\n",
       "      <td>coupe</td>\n",
       "      <td>2021-04-08T09:15:25-0400</td>\n",
       "      <td>6.0</td>\n",
       "      <td>0</td>\n",
       "      <td>0</td>\n",
       "      <td>0</td>\n",
       "      <td>0</td>\n",
       "    </tr>\n",
       "    <tr>\n",
       "      <th>47436</th>\n",
       "      <td>others</td>\n",
       "      <td>24995</td>\n",
       "      <td>ford</td>\n",
       "      <td>NaN</td>\n",
       "      <td>0</td>\n",
       "      <td>gas</td>\n",
       "      <td>117453.0</td>\n",
       "      <td>clean</td>\n",
       "      <td>automatic</td>\n",
       "      <td>NaN</td>\n",
       "      <td>NaN</td>\n",
       "      <td>NaN</td>\n",
       "      <td>2021-04-16T13:02:38-0700</td>\n",
       "      <td>7.0</td>\n",
       "      <td>0</td>\n",
       "      <td>0</td>\n",
       "      <td>0</td>\n",
       "      <td>0</td>\n",
       "    </tr>\n",
       "  </tbody>\n",
       "</table>\n",
       "</div>\n",
       "      <button class=\"colab-df-convert\" onclick=\"convertToInteractive('df-c750623d-0a13-4316-b981-cc5533f5ae06')\"\n",
       "              title=\"Convert this dataframe to an interactive table.\"\n",
       "              style=\"display:none;\">\n",
       "        \n",
       "  <svg xmlns=\"http://www.w3.org/2000/svg\" height=\"24px\"viewBox=\"0 0 24 24\"\n",
       "       width=\"24px\">\n",
       "    <path d=\"M0 0h24v24H0V0z\" fill=\"none\"/>\n",
       "    <path d=\"M18.56 5.44l.94 2.06.94-2.06 2.06-.94-2.06-.94-.94-2.06-.94 2.06-2.06.94zm-11 1L8.5 8.5l.94-2.06 2.06-.94-2.06-.94L8.5 2.5l-.94 2.06-2.06.94zm10 10l.94 2.06.94-2.06 2.06-.94-2.06-.94-.94-2.06-.94 2.06-2.06.94z\"/><path d=\"M17.41 7.96l-1.37-1.37c-.4-.4-.92-.59-1.43-.59-.52 0-1.04.2-1.43.59L10.3 9.45l-7.72 7.72c-.78.78-.78 2.05 0 2.83L4 21.41c.39.39.9.59 1.41.59.51 0 1.02-.2 1.41-.59l7.78-7.78 2.81-2.81c.8-.78.8-2.07 0-2.86zM5.41 20L4 18.59l7.72-7.72 1.47 1.35L5.41 20z\"/>\n",
       "  </svg>\n",
       "      </button>\n",
       "      \n",
       "  <style>\n",
       "    .colab-df-container {\n",
       "      display:flex;\n",
       "      flex-wrap:wrap;\n",
       "      gap: 12px;\n",
       "    }\n",
       "\n",
       "    .colab-df-convert {\n",
       "      background-color: #E8F0FE;\n",
       "      border: none;\n",
       "      border-radius: 50%;\n",
       "      cursor: pointer;\n",
       "      display: none;\n",
       "      fill: #1967D2;\n",
       "      height: 32px;\n",
       "      padding: 0 0 0 0;\n",
       "      width: 32px;\n",
       "    }\n",
       "\n",
       "    .colab-df-convert:hover {\n",
       "      background-color: #E2EBFA;\n",
       "      box-shadow: 0px 1px 2px rgba(60, 64, 67, 0.3), 0px 1px 3px 1px rgba(60, 64, 67, 0.15);\n",
       "      fill: #174EA6;\n",
       "    }\n",
       "\n",
       "    [theme=dark] .colab-df-convert {\n",
       "      background-color: #3B4455;\n",
       "      fill: #D2E3FC;\n",
       "    }\n",
       "\n",
       "    [theme=dark] .colab-df-convert:hover {\n",
       "      background-color: #434B5C;\n",
       "      box-shadow: 0px 1px 3px 1px rgba(0, 0, 0, 0.15);\n",
       "      filter: drop-shadow(0px 1px 2px rgba(0, 0, 0, 0.3));\n",
       "      fill: #FFFFFF;\n",
       "    }\n",
       "  </style>\n",
       "\n",
       "      <script>\n",
       "        const buttonEl =\n",
       "          document.querySelector('#df-c750623d-0a13-4316-b981-cc5533f5ae06 button.colab-df-convert');\n",
       "        buttonEl.style.display =\n",
       "          google.colab.kernel.accessAllowed ? 'block' : 'none';\n",
       "\n",
       "        async function convertToInteractive(key) {\n",
       "          const element = document.querySelector('#df-c750623d-0a13-4316-b981-cc5533f5ae06');\n",
       "          const dataTable =\n",
       "            await google.colab.kernel.invokeFunction('convertToInteractive',\n",
       "                                                     [key], {});\n",
       "          if (!dataTable) return;\n",
       "\n",
       "          const docLinkHtml = 'Like what you see? Visit the ' +\n",
       "            '<a target=\"_blank\" href=https://colab.research.google.com/notebooks/data_table.ipynb>data table notebook</a>'\n",
       "            + ' to learn more about interactive tables.';\n",
       "          element.innerHTML = '';\n",
       "          dataTable['output_type'] = 'display_data';\n",
       "          await google.colab.output.renderOutput(dataTable, element);\n",
       "          const docLink = document.createElement('div');\n",
       "          docLink.innerHTML = docLinkHtml;\n",
       "          element.appendChild(docLink);\n",
       "        }\n",
       "      </script>\n",
       "    </div>\n",
       "  </div>\n",
       "  "
      ],
      "text/plain": [
       "                     region  price manufacturer  condition  cylinders fuel  \\\n",
       "222301               others   2200        honda       good          4  gas   \n",
       "369332  dallas / fort worth   3450      lincoln  excellent          6  gas   \n",
       "221764               others  13995       nissan        NaN          4  gas   \n",
       "202958         grand rapids  14990        honda       good          0  gas   \n",
       "47436                others  24995         ford        NaN          0  gas   \n",
       "\n",
       "        odometer title_status transmission drive      size   type  \\\n",
       "222301  164000.0        clean    automatic   NaN       NaN    SUV   \n",
       "369332  249900.0        clean    automatic   fwd  mid-size  sedan   \n",
       "221764   85137.0        clean    automatic   fwd       NaN  sedan   \n",
       "202958   77726.0        clean        other   fwd       NaN  coupe   \n",
       "47436   117453.0        clean    automatic   NaN       NaN    NaN   \n",
       "\n",
       "                    posting_date   age  new_tires  heated_seats  \\\n",
       "222301  2021-04-21T10:20:17-0500  22.0          0             0   \n",
       "369332  2021-05-03T17:32:31-0500  12.0          1             0   \n",
       "221764  2021-04-29T18:05:27-0500   6.0          0             1   \n",
       "202958  2021-04-08T09:15:25-0400   6.0          0             0   \n",
       "47436   2021-04-16T13:02:38-0700   7.0          0             0   \n",
       "\n",
       "        auto_headlight  leather  \n",
       "222301               0        0  \n",
       "369332               0        1  \n",
       "221764               0        1  \n",
       "202958               0        0  \n",
       "47436                0        0  "
      ]
     },
     "execution_count": 234,
     "metadata": {},
     "output_type": "execute_result"
    }
   ],
   "source": [
    "test_df.sample(5)"
   ]
  },
  {
   "cell_type": "code",
   "execution_count": null,
   "metadata": {
    "id": "ulDUY4Vwzied"
   },
   "outputs": [],
   "source": [
    "# separate input and target columns\n",
    "input_cols = ['manufacturer', 'condition', 'cylinders', 'fuel',\n",
    "       'odometer', 'title_status', 'transmission', 'drive', 'size', 'type',\n",
    "       'age', 'new_tires', 'heated_seats', 'auto_headlight', 'leather']\n",
    "\n",
    "target_cols = 'price'\n",
    "\n",
    "\n",
    "# separate numeric and categorical columns as well as columns that are already in binary\n",
    "numeric_cols = ['age', 'odometer', 'cylinders']\n",
    "\n",
    "categorical_cols = ['manufacturer', 'condition', 'fuel', 'title_status', \n",
    "                    'transmission', 'drive', 'size', 'type']\n",
    "\n",
    "pre_encoded_cols = ['new_tires', 'heated_seats', 'auto_headlight', 'leather']"
   ]
  },
  {
   "cell_type": "code",
   "execution_count": null,
   "metadata": {
    "id": "q7TWUx1m8Dci"
   },
   "outputs": [],
   "source": [
    "# separate the dataframes into inputs and targets\n",
    "train_inputs = train_df[input_cols].copy()\n",
    "train_targets = train_df[target_cols].copy()\n",
    "\n",
    "val_inputs = val_df[input_cols].copy()\n",
    "val_targets = val_df[target_cols].copy()\n",
    "\n",
    "test_inputs = test_df[input_cols].copy()\n",
    "test_targets = test_df[target_cols].copy()"
   ]
  },
  {
   "cell_type": "markdown",
   "metadata": {
    "id": "H9AK9db07w1x"
   },
   "source": [
    "# 8. Imputation, Scaling and Encoding\n",
    "\n",
    "## Section Outline\n",
    "\n",
    "- Imputing (filling) missing values into the dataset which can use various techniques such as filling missing values using the mean of the column\n",
    "- Scaling numerical values from 0 to 1 for every numerical column to prevent columns with larger values from eclipsing other columns\n",
    "- Encoding categorical columns using [Label Encoding](https://www.kaggle.com/code/jominjae/used-car-price-prediction-lgb)\n",
    "- Create the final three datasets for training, validation and test using the scaled numerical columns and the encoded columns"
   ]
  },
  {
   "cell_type": "markdown",
   "metadata": {
    "id": "SxSMaC2b99hm"
   },
   "source": [
    "## Imputation"
   ]
  },
  {
   "cell_type": "markdown",
   "metadata": {
    "id": "ZWNxpmJpSUBm"
   },
   "source": [
    "### Impute Numeric Columns"
   ]
  },
  {
   "cell_type": "code",
   "execution_count": null,
   "metadata": {
    "id": "1jpXlG-578c_"
   },
   "outputs": [],
   "source": [
    "imputer = SimpleImputer(strategy='mean').fit(data_df[numeric_cols])"
   ]
  },
  {
   "cell_type": "code",
   "execution_count": null,
   "metadata": {
    "id": "c-g-HZat8458"
   },
   "outputs": [],
   "source": [
    "train_inputs[numeric_cols] = imputer.transform(train_inputs[numeric_cols])\n",
    "val_inputs[numeric_cols] = imputer.transform(val_inputs[numeric_cols])\n",
    "test_inputs[numeric_cols] = imputer.transform(test_inputs[numeric_cols])"
   ]
  },
  {
   "cell_type": "code",
   "execution_count": null,
   "metadata": {
    "colab": {
     "base_uri": "https://localhost:8080/"
    },
    "executionInfo": {
     "elapsed": 7,
     "status": "ok",
     "timestamp": 1662677041093,
     "user": {
      "displayName": "Srinath Nanduri",
      "userId": "16683609937496845667"
     },
     "user_tz": 420
    },
    "id": "V5sKGUsg9QdP",
    "outputId": "5224bea5-6b40-42a0-91bb-122137fe5160"
   },
   "outputs": [
    {
     "data": {
      "text/plain": [
       "age          0\n",
       "odometer     0\n",
       "cylinders    0\n",
       "dtype: int64"
      ]
     },
     "execution_count": 239,
     "metadata": {},
     "output_type": "execute_result"
    }
   ],
   "source": [
    "train_inputs[numeric_cols].isna().sum()"
   ]
  },
  {
   "cell_type": "markdown",
   "metadata": {
    "id": "cHBiVRbmSZBS"
   },
   "source": [
    "### Impute Categorical Columns"
   ]
  },
  {
   "cell_type": "code",
   "execution_count": null,
   "metadata": {
    "id": "PTF7v8qepxNj"
   },
   "outputs": [],
   "source": [
    "data_df = data_df.replace({pd.NA: np.nan})"
   ]
  },
  {
   "cell_type": "code",
   "execution_count": null,
   "metadata": {
    "id": "O6FHB4AvSz7D"
   },
   "outputs": [],
   "source": [
    "imputer = SimpleImputer(missing_values=np.nan, strategy='most_frequent').fit(data_df[categorical_cols])"
   ]
  },
  {
   "cell_type": "code",
   "execution_count": null,
   "metadata": {
    "id": "0qQ8tmAoS9xp"
   },
   "outputs": [],
   "source": [
    "train_inputs[categorical_cols] = imputer.transform(train_inputs[categorical_cols])\n",
    "val_inputs[categorical_cols] = imputer.transform(val_inputs[categorical_cols])\n",
    "test_inputs[categorical_cols] = imputer.transform(test_inputs[categorical_cols])"
   ]
  },
  {
   "cell_type": "code",
   "execution_count": null,
   "metadata": {
    "colab": {
     "base_uri": "https://localhost:8080/"
    },
    "executionInfo": {
     "elapsed": 5,
     "status": "ok",
     "timestamp": 1662677042091,
     "user": {
      "displayName": "Srinath Nanduri",
      "userId": "16683609937496845667"
     },
     "user_tz": 420
    },
    "id": "XT5sGmUWS-Eu",
    "outputId": "9cb5beb9-54a5-4d17-8920-5ec7393de8e8"
   },
   "outputs": [
    {
     "data": {
      "text/plain": [
       "manufacturer    0\n",
       "condition       0\n",
       "fuel            0\n",
       "title_status    0\n",
       "transmission    0\n",
       "drive           0\n",
       "size            0\n",
       "type            0\n",
       "dtype: int64"
      ]
     },
     "execution_count": 243,
     "metadata": {},
     "output_type": "execute_result"
    }
   ],
   "source": [
    "test_inputs[categorical_cols].isna().sum()"
   ]
  },
  {
   "cell_type": "markdown",
   "metadata": {
    "id": "tgMaIfEF-AvB"
   },
   "source": [
    "## Scaling"
   ]
  },
  {
   "cell_type": "code",
   "execution_count": null,
   "metadata": {
    "id": "6NBPF5w0-JpY"
   },
   "outputs": [],
   "source": [
    "scaler = MinMaxScaler().fit(data_df[numeric_cols])"
   ]
  },
  {
   "cell_type": "code",
   "execution_count": null,
   "metadata": {
    "id": "iEzf3D6w-RgH"
   },
   "outputs": [],
   "source": [
    "train_inputs[numeric_cols] = scaler.transform(train_inputs[numeric_cols])\n",
    "val_inputs[numeric_cols] = scaler.transform(val_inputs[numeric_cols])\n",
    "test_inputs[numeric_cols] = scaler.transform(test_inputs[numeric_cols])"
   ]
  },
  {
   "cell_type": "code",
   "execution_count": null,
   "metadata": {
    "colab": {
     "base_uri": "https://localhost:8080/",
     "height": 112
    },
    "executionInfo": {
     "elapsed": 5,
     "status": "ok",
     "timestamp": 1662677042092,
     "user": {
      "displayName": "Srinath Nanduri",
      "userId": "16683609937496845667"
     },
     "user_tz": 420
    },
    "id": "RlPZFQTf-TZ-",
    "outputId": "12b4c29a-9961-4fc2-816d-47e596089131"
   },
   "outputs": [
    {
     "data": {
      "text/html": [
       "\n",
       "  <div id=\"df-1d88a07d-4c6b-4b03-867f-8a809b927e27\">\n",
       "    <div class=\"colab-df-container\">\n",
       "      <div>\n",
       "<style scoped>\n",
       "    .dataframe tbody tr th:only-of-type {\n",
       "        vertical-align: middle;\n",
       "    }\n",
       "\n",
       "    .dataframe tbody tr th {\n",
       "        vertical-align: top;\n",
       "    }\n",
       "\n",
       "    .dataframe thead th {\n",
       "        text-align: right;\n",
       "    }\n",
       "</style>\n",
       "<table border=\"1\" class=\"dataframe\">\n",
       "  <thead>\n",
       "    <tr style=\"text-align: right;\">\n",
       "      <th></th>\n",
       "      <th>age</th>\n",
       "      <th>odometer</th>\n",
       "      <th>cylinders</th>\n",
       "    </tr>\n",
       "  </thead>\n",
       "  <tbody>\n",
       "    <tr>\n",
       "      <th>min</th>\n",
       "      <td>0.000000</td>\n",
       "      <td>0.000014</td>\n",
       "      <td>0.0</td>\n",
       "    </tr>\n",
       "    <tr>\n",
       "      <th>max</th>\n",
       "      <td>0.871795</td>\n",
       "      <td>0.999721</td>\n",
       "      <td>1.0</td>\n",
       "    </tr>\n",
       "  </tbody>\n",
       "</table>\n",
       "</div>\n",
       "      <button class=\"colab-df-convert\" onclick=\"convertToInteractive('df-1d88a07d-4c6b-4b03-867f-8a809b927e27')\"\n",
       "              title=\"Convert this dataframe to an interactive table.\"\n",
       "              style=\"display:none;\">\n",
       "        \n",
       "  <svg xmlns=\"http://www.w3.org/2000/svg\" height=\"24px\"viewBox=\"0 0 24 24\"\n",
       "       width=\"24px\">\n",
       "    <path d=\"M0 0h24v24H0V0z\" fill=\"none\"/>\n",
       "    <path d=\"M18.56 5.44l.94 2.06.94-2.06 2.06-.94-2.06-.94-.94-2.06-.94 2.06-2.06.94zm-11 1L8.5 8.5l.94-2.06 2.06-.94-2.06-.94L8.5 2.5l-.94 2.06-2.06.94zm10 10l.94 2.06.94-2.06 2.06-.94-2.06-.94-.94-2.06-.94 2.06-2.06.94z\"/><path d=\"M17.41 7.96l-1.37-1.37c-.4-.4-.92-.59-1.43-.59-.52 0-1.04.2-1.43.59L10.3 9.45l-7.72 7.72c-.78.78-.78 2.05 0 2.83L4 21.41c.39.39.9.59 1.41.59.51 0 1.02-.2 1.41-.59l7.78-7.78 2.81-2.81c.8-.78.8-2.07 0-2.86zM5.41 20L4 18.59l7.72-7.72 1.47 1.35L5.41 20z\"/>\n",
       "  </svg>\n",
       "      </button>\n",
       "      \n",
       "  <style>\n",
       "    .colab-df-container {\n",
       "      display:flex;\n",
       "      flex-wrap:wrap;\n",
       "      gap: 12px;\n",
       "    }\n",
       "\n",
       "    .colab-df-convert {\n",
       "      background-color: #E8F0FE;\n",
       "      border: none;\n",
       "      border-radius: 50%;\n",
       "      cursor: pointer;\n",
       "      display: none;\n",
       "      fill: #1967D2;\n",
       "      height: 32px;\n",
       "      padding: 0 0 0 0;\n",
       "      width: 32px;\n",
       "    }\n",
       "\n",
       "    .colab-df-convert:hover {\n",
       "      background-color: #E2EBFA;\n",
       "      box-shadow: 0px 1px 2px rgba(60, 64, 67, 0.3), 0px 1px 3px 1px rgba(60, 64, 67, 0.15);\n",
       "      fill: #174EA6;\n",
       "    }\n",
       "\n",
       "    [theme=dark] .colab-df-convert {\n",
       "      background-color: #3B4455;\n",
       "      fill: #D2E3FC;\n",
       "    }\n",
       "\n",
       "    [theme=dark] .colab-df-convert:hover {\n",
       "      background-color: #434B5C;\n",
       "      box-shadow: 0px 1px 3px 1px rgba(0, 0, 0, 0.15);\n",
       "      filter: drop-shadow(0px 1px 2px rgba(0, 0, 0, 0.3));\n",
       "      fill: #FFFFFF;\n",
       "    }\n",
       "  </style>\n",
       "\n",
       "      <script>\n",
       "        const buttonEl =\n",
       "          document.querySelector('#df-1d88a07d-4c6b-4b03-867f-8a809b927e27 button.colab-df-convert');\n",
       "        buttonEl.style.display =\n",
       "          google.colab.kernel.accessAllowed ? 'block' : 'none';\n",
       "\n",
       "        async function convertToInteractive(key) {\n",
       "          const element = document.querySelector('#df-1d88a07d-4c6b-4b03-867f-8a809b927e27');\n",
       "          const dataTable =\n",
       "            await google.colab.kernel.invokeFunction('convertToInteractive',\n",
       "                                                     [key], {});\n",
       "          if (!dataTable) return;\n",
       "\n",
       "          const docLinkHtml = 'Like what you see? Visit the ' +\n",
       "            '<a target=\"_blank\" href=https://colab.research.google.com/notebooks/data_table.ipynb>data table notebook</a>'\n",
       "            + ' to learn more about interactive tables.';\n",
       "          element.innerHTML = '';\n",
       "          dataTable['output_type'] = 'display_data';\n",
       "          await google.colab.output.renderOutput(dataTable, element);\n",
       "          const docLink = document.createElement('div');\n",
       "          docLink.innerHTML = docLinkHtml;\n",
       "          element.appendChild(docLink);\n",
       "        }\n",
       "      </script>\n",
       "    </div>\n",
       "  </div>\n",
       "  "
      ],
      "text/plain": [
       "          age  odometer  cylinders\n",
       "min  0.000000  0.000014        0.0\n",
       "max  0.871795  0.999721        1.0"
      ]
     },
     "execution_count": 246,
     "metadata": {},
     "output_type": "execute_result"
    }
   ],
   "source": [
    "test_inputs[numeric_cols].describe().loc[['min', 'max']]"
   ]
  },
  {
   "cell_type": "markdown",
   "metadata": {
    "id": "Y2PthSKm-pxD"
   },
   "source": [
    "## Encoding"
   ]
  },
  {
   "cell_type": "code",
   "execution_count": null,
   "metadata": {
    "id": "_GnjAmyAlORD"
   },
   "outputs": [],
   "source": [
    "for i in data_df[categorical_cols]:\n",
    "  encoder = LabelEncoder()\n",
    "  train_inputs[i] = encoder.fit_transform(train_inputs[i])\n",
    "  val_inputs[i] = encoder.fit_transform(val_inputs[i])\n",
    "  test_inputs[i] = encoder.fit_transform(test_inputs[i])"
   ]
  },
  {
   "cell_type": "code",
   "execution_count": null,
   "metadata": {
    "colab": {
     "base_uri": "https://localhost:8080/",
     "height": 206
    },
    "executionInfo": {
     "elapsed": 9,
     "status": "ok",
     "timestamp": 1662677043232,
     "user": {
      "displayName": "Srinath Nanduri",
      "userId": "16683609937496845667"
     },
     "user_tz": 420
    },
    "id": "4fCzoeHRyxW6",
    "outputId": "5cc94d66-9287-43f9-cfed-64addde880c3"
   },
   "outputs": [
    {
     "data": {
      "text/html": [
       "\n",
       "  <div id=\"df-818ebdf3-9992-4159-8835-2039f1e1ead3\">\n",
       "    <div class=\"colab-df-container\">\n",
       "      <div>\n",
       "<style scoped>\n",
       "    .dataframe tbody tr th:only-of-type {\n",
       "        vertical-align: middle;\n",
       "    }\n",
       "\n",
       "    .dataframe tbody tr th {\n",
       "        vertical-align: top;\n",
       "    }\n",
       "\n",
       "    .dataframe thead th {\n",
       "        text-align: right;\n",
       "    }\n",
       "</style>\n",
       "<table border=\"1\" class=\"dataframe\">\n",
       "  <thead>\n",
       "    <tr style=\"text-align: right;\">\n",
       "      <th></th>\n",
       "      <th>manufacturer</th>\n",
       "      <th>condition</th>\n",
       "      <th>cylinders</th>\n",
       "      <th>fuel</th>\n",
       "      <th>odometer</th>\n",
       "      <th>title_status</th>\n",
       "      <th>transmission</th>\n",
       "      <th>drive</th>\n",
       "      <th>size</th>\n",
       "      <th>type</th>\n",
       "      <th>age</th>\n",
       "      <th>new_tires</th>\n",
       "      <th>heated_seats</th>\n",
       "      <th>auto_headlight</th>\n",
       "      <th>leather</th>\n",
       "    </tr>\n",
       "  </thead>\n",
       "  <tbody>\n",
       "    <tr>\n",
       "      <th>186823</th>\n",
       "      <td>13</td>\n",
       "      <td>0</td>\n",
       "      <td>0.000000</td>\n",
       "      <td>2</td>\n",
       "      <td>0.296550</td>\n",
       "      <td>0</td>\n",
       "      <td>0</td>\n",
       "      <td>0</td>\n",
       "      <td>1</td>\n",
       "      <td>0</td>\n",
       "      <td>0.076923</td>\n",
       "      <td>0</td>\n",
       "      <td>0</td>\n",
       "      <td>0</td>\n",
       "      <td>0</td>\n",
       "    </tr>\n",
       "    <tr>\n",
       "      <th>154617</th>\n",
       "      <td>10</td>\n",
       "      <td>0</td>\n",
       "      <td>0.333333</td>\n",
       "      <td>2</td>\n",
       "      <td>0.468386</td>\n",
       "      <td>0</td>\n",
       "      <td>0</td>\n",
       "      <td>0</td>\n",
       "      <td>1</td>\n",
       "      <td>0</td>\n",
       "      <td>0.128205</td>\n",
       "      <td>0</td>\n",
       "      <td>0</td>\n",
       "      <td>0</td>\n",
       "      <td>0</td>\n",
       "    </tr>\n",
       "    <tr>\n",
       "      <th>122619</th>\n",
       "      <td>10</td>\n",
       "      <td>0</td>\n",
       "      <td>0.250000</td>\n",
       "      <td>2</td>\n",
       "      <td>0.187498</td>\n",
       "      <td>0</td>\n",
       "      <td>1</td>\n",
       "      <td>0</td>\n",
       "      <td>1</td>\n",
       "      <td>3</td>\n",
       "      <td>0.256410</td>\n",
       "      <td>0</td>\n",
       "      <td>0</td>\n",
       "      <td>0</td>\n",
       "      <td>0</td>\n",
       "    </tr>\n",
       "    <tr>\n",
       "      <th>410309</th>\n",
       "      <td>8</td>\n",
       "      <td>0</td>\n",
       "      <td>0.666667</td>\n",
       "      <td>0</td>\n",
       "      <td>0.307116</td>\n",
       "      <td>0</td>\n",
       "      <td>0</td>\n",
       "      <td>0</td>\n",
       "      <td>1</td>\n",
       "      <td>10</td>\n",
       "      <td>0.068376</td>\n",
       "      <td>0</td>\n",
       "      <td>0</td>\n",
       "      <td>0</td>\n",
       "      <td>0</td>\n",
       "    </tr>\n",
       "    <tr>\n",
       "      <th>46544</th>\n",
       "      <td>21</td>\n",
       "      <td>2</td>\n",
       "      <td>0.000000</td>\n",
       "      <td>4</td>\n",
       "      <td>0.109708</td>\n",
       "      <td>0</td>\n",
       "      <td>2</td>\n",
       "      <td>0</td>\n",
       "      <td>1</td>\n",
       "      <td>8</td>\n",
       "      <td>0.042735</td>\n",
       "      <td>0</td>\n",
       "      <td>0</td>\n",
       "      <td>0</td>\n",
       "      <td>0</td>\n",
       "    </tr>\n",
       "  </tbody>\n",
       "</table>\n",
       "</div>\n",
       "      <button class=\"colab-df-convert\" onclick=\"convertToInteractive('df-818ebdf3-9992-4159-8835-2039f1e1ead3')\"\n",
       "              title=\"Convert this dataframe to an interactive table.\"\n",
       "              style=\"display:none;\">\n",
       "        \n",
       "  <svg xmlns=\"http://www.w3.org/2000/svg\" height=\"24px\"viewBox=\"0 0 24 24\"\n",
       "       width=\"24px\">\n",
       "    <path d=\"M0 0h24v24H0V0z\" fill=\"none\"/>\n",
       "    <path d=\"M18.56 5.44l.94 2.06.94-2.06 2.06-.94-2.06-.94-.94-2.06-.94 2.06-2.06.94zm-11 1L8.5 8.5l.94-2.06 2.06-.94-2.06-.94L8.5 2.5l-.94 2.06-2.06.94zm10 10l.94 2.06.94-2.06 2.06-.94-2.06-.94-.94-2.06-.94 2.06-2.06.94z\"/><path d=\"M17.41 7.96l-1.37-1.37c-.4-.4-.92-.59-1.43-.59-.52 0-1.04.2-1.43.59L10.3 9.45l-7.72 7.72c-.78.78-.78 2.05 0 2.83L4 21.41c.39.39.9.59 1.41.59.51 0 1.02-.2 1.41-.59l7.78-7.78 2.81-2.81c.8-.78.8-2.07 0-2.86zM5.41 20L4 18.59l7.72-7.72 1.47 1.35L5.41 20z\"/>\n",
       "  </svg>\n",
       "      </button>\n",
       "      \n",
       "  <style>\n",
       "    .colab-df-container {\n",
       "      display:flex;\n",
       "      flex-wrap:wrap;\n",
       "      gap: 12px;\n",
       "    }\n",
       "\n",
       "    .colab-df-convert {\n",
       "      background-color: #E8F0FE;\n",
       "      border: none;\n",
       "      border-radius: 50%;\n",
       "      cursor: pointer;\n",
       "      display: none;\n",
       "      fill: #1967D2;\n",
       "      height: 32px;\n",
       "      padding: 0 0 0 0;\n",
       "      width: 32px;\n",
       "    }\n",
       "\n",
       "    .colab-df-convert:hover {\n",
       "      background-color: #E2EBFA;\n",
       "      box-shadow: 0px 1px 2px rgba(60, 64, 67, 0.3), 0px 1px 3px 1px rgba(60, 64, 67, 0.15);\n",
       "      fill: #174EA6;\n",
       "    }\n",
       "\n",
       "    [theme=dark] .colab-df-convert {\n",
       "      background-color: #3B4455;\n",
       "      fill: #D2E3FC;\n",
       "    }\n",
       "\n",
       "    [theme=dark] .colab-df-convert:hover {\n",
       "      background-color: #434B5C;\n",
       "      box-shadow: 0px 1px 3px 1px rgba(0, 0, 0, 0.15);\n",
       "      filter: drop-shadow(0px 1px 2px rgba(0, 0, 0, 0.3));\n",
       "      fill: #FFFFFF;\n",
       "    }\n",
       "  </style>\n",
       "\n",
       "      <script>\n",
       "        const buttonEl =\n",
       "          document.querySelector('#df-818ebdf3-9992-4159-8835-2039f1e1ead3 button.colab-df-convert');\n",
       "        buttonEl.style.display =\n",
       "          google.colab.kernel.accessAllowed ? 'block' : 'none';\n",
       "\n",
       "        async function convertToInteractive(key) {\n",
       "          const element = document.querySelector('#df-818ebdf3-9992-4159-8835-2039f1e1ead3');\n",
       "          const dataTable =\n",
       "            await google.colab.kernel.invokeFunction('convertToInteractive',\n",
       "                                                     [key], {});\n",
       "          if (!dataTable) return;\n",
       "\n",
       "          const docLinkHtml = 'Like what you see? Visit the ' +\n",
       "            '<a target=\"_blank\" href=https://colab.research.google.com/notebooks/data_table.ipynb>data table notebook</a>'\n",
       "            + ' to learn more about interactive tables.';\n",
       "          element.innerHTML = '';\n",
       "          dataTable['output_type'] = 'display_data';\n",
       "          await google.colab.output.renderOutput(dataTable, element);\n",
       "          const docLink = document.createElement('div');\n",
       "          docLink.innerHTML = docLinkHtml;\n",
       "          element.appendChild(docLink);\n",
       "        }\n",
       "      </script>\n",
       "    </div>\n",
       "  </div>\n",
       "  "
      ],
      "text/plain": [
       "        manufacturer  condition  cylinders  fuel  odometer  title_status  \\\n",
       "186823            13          0   0.000000     2  0.296550             0   \n",
       "154617            10          0   0.333333     2  0.468386             0   \n",
       "122619            10          0   0.250000     2  0.187498             0   \n",
       "410309             8          0   0.666667     0  0.307116             0   \n",
       "46544             21          2   0.000000     4  0.109708             0   \n",
       "\n",
       "        transmission  drive  size  type       age  new_tires  heated_seats  \\\n",
       "186823             0      0     1     0  0.076923          0             0   \n",
       "154617             0      0     1     0  0.128205          0             0   \n",
       "122619             1      0     1     3  0.256410          0             0   \n",
       "410309             0      0     1    10  0.068376          0             0   \n",
       "46544              2      0     1     8  0.042735          0             0   \n",
       "\n",
       "        auto_headlight  leather  \n",
       "186823               0        0  \n",
       "154617               0        0  \n",
       "122619               0        0  \n",
       "410309               0        0  \n",
       "46544                0        0  "
      ]
     },
     "execution_count": 248,
     "metadata": {},
     "output_type": "execute_result"
    }
   ],
   "source": [
    "train_inputs.sample(5)"
   ]
  },
  {
   "cell_type": "code",
   "execution_count": null,
   "metadata": {
    "colab": {
     "base_uri": "https://localhost:8080/",
     "height": 206
    },
    "executionInfo": {
     "elapsed": 8,
     "status": "ok",
     "timestamp": 1662677043232,
     "user": {
      "displayName": "Srinath Nanduri",
      "userId": "16683609937496845667"
     },
     "user_tz": 420
    },
    "id": "wmxKiPkny0Wa",
    "outputId": "e6a0afbf-421c-496e-c59c-cd00c88ff04a"
   },
   "outputs": [
    {
     "data": {
      "text/html": [
       "\n",
       "  <div id=\"df-08d2d311-63b5-4a0e-ae13-40679cfe2355\">\n",
       "    <div class=\"colab-df-container\">\n",
       "      <div>\n",
       "<style scoped>\n",
       "    .dataframe tbody tr th:only-of-type {\n",
       "        vertical-align: middle;\n",
       "    }\n",
       "\n",
       "    .dataframe tbody tr th {\n",
       "        vertical-align: top;\n",
       "    }\n",
       "\n",
       "    .dataframe thead th {\n",
       "        text-align: right;\n",
       "    }\n",
       "</style>\n",
       "<table border=\"1\" class=\"dataframe\">\n",
       "  <thead>\n",
       "    <tr style=\"text-align: right;\">\n",
       "      <th></th>\n",
       "      <th>manufacturer</th>\n",
       "      <th>condition</th>\n",
       "      <th>cylinders</th>\n",
       "      <th>fuel</th>\n",
       "      <th>odometer</th>\n",
       "      <th>title_status</th>\n",
       "      <th>transmission</th>\n",
       "      <th>drive</th>\n",
       "      <th>size</th>\n",
       "      <th>type</th>\n",
       "      <th>age</th>\n",
       "      <th>new_tires</th>\n",
       "      <th>heated_seats</th>\n",
       "      <th>auto_headlight</th>\n",
       "      <th>leather</th>\n",
       "    </tr>\n",
       "  </thead>\n",
       "  <tbody>\n",
       "    <tr>\n",
       "      <th>307447</th>\n",
       "      <td>8</td>\n",
       "      <td>0</td>\n",
       "      <td>0.500000</td>\n",
       "      <td>2</td>\n",
       "      <td>0.119366</td>\n",
       "      <td>0</td>\n",
       "      <td>0</td>\n",
       "      <td>2</td>\n",
       "      <td>1</td>\n",
       "      <td>8</td>\n",
       "      <td>0.034188</td>\n",
       "      <td>0</td>\n",
       "      <td>0</td>\n",
       "      <td>0</td>\n",
       "      <td>1</td>\n",
       "    </tr>\n",
       "    <tr>\n",
       "      <th>87799</th>\n",
       "      <td>22</td>\n",
       "      <td>0</td>\n",
       "      <td>0.000000</td>\n",
       "      <td>2</td>\n",
       "      <td>0.294319</td>\n",
       "      <td>0</td>\n",
       "      <td>1</td>\n",
       "      <td>0</td>\n",
       "      <td>1</td>\n",
       "      <td>9</td>\n",
       "      <td>0.102564</td>\n",
       "      <td>0</td>\n",
       "      <td>0</td>\n",
       "      <td>0</td>\n",
       "      <td>0</td>\n",
       "    </tr>\n",
       "    <tr>\n",
       "      <th>187039</th>\n",
       "      <td>8</td>\n",
       "      <td>0</td>\n",
       "      <td>0.666667</td>\n",
       "      <td>2</td>\n",
       "      <td>0.513793</td>\n",
       "      <td>0</td>\n",
       "      <td>0</td>\n",
       "      <td>0</td>\n",
       "      <td>1</td>\n",
       "      <td>9</td>\n",
       "      <td>0.051282</td>\n",
       "      <td>0</td>\n",
       "      <td>0</td>\n",
       "      <td>0</td>\n",
       "      <td>0</td>\n",
       "    </tr>\n",
       "    <tr>\n",
       "      <th>379773</th>\n",
       "      <td>21</td>\n",
       "      <td>0</td>\n",
       "      <td>0.000000</td>\n",
       "      <td>2</td>\n",
       "      <td>0.470000</td>\n",
       "      <td>0</td>\n",
       "      <td>0</td>\n",
       "      <td>0</td>\n",
       "      <td>1</td>\n",
       "      <td>10</td>\n",
       "      <td>0.068376</td>\n",
       "      <td>0</td>\n",
       "      <td>0</td>\n",
       "      <td>0</td>\n",
       "      <td>0</td>\n",
       "    </tr>\n",
       "    <tr>\n",
       "      <th>397284</th>\n",
       "      <td>22</td>\n",
       "      <td>0</td>\n",
       "      <td>0.333333</td>\n",
       "      <td>2</td>\n",
       "      <td>0.474517</td>\n",
       "      <td>0</td>\n",
       "      <td>0</td>\n",
       "      <td>0</td>\n",
       "      <td>1</td>\n",
       "      <td>12</td>\n",
       "      <td>0.145299</td>\n",
       "      <td>0</td>\n",
       "      <td>0</td>\n",
       "      <td>0</td>\n",
       "      <td>0</td>\n",
       "    </tr>\n",
       "  </tbody>\n",
       "</table>\n",
       "</div>\n",
       "      <button class=\"colab-df-convert\" onclick=\"convertToInteractive('df-08d2d311-63b5-4a0e-ae13-40679cfe2355')\"\n",
       "              title=\"Convert this dataframe to an interactive table.\"\n",
       "              style=\"display:none;\">\n",
       "        \n",
       "  <svg xmlns=\"http://www.w3.org/2000/svg\" height=\"24px\"viewBox=\"0 0 24 24\"\n",
       "       width=\"24px\">\n",
       "    <path d=\"M0 0h24v24H0V0z\" fill=\"none\"/>\n",
       "    <path d=\"M18.56 5.44l.94 2.06.94-2.06 2.06-.94-2.06-.94-.94-2.06-.94 2.06-2.06.94zm-11 1L8.5 8.5l.94-2.06 2.06-.94-2.06-.94L8.5 2.5l-.94 2.06-2.06.94zm10 10l.94 2.06.94-2.06 2.06-.94-2.06-.94-.94-2.06-.94 2.06-2.06.94z\"/><path d=\"M17.41 7.96l-1.37-1.37c-.4-.4-.92-.59-1.43-.59-.52 0-1.04.2-1.43.59L10.3 9.45l-7.72 7.72c-.78.78-.78 2.05 0 2.83L4 21.41c.39.39.9.59 1.41.59.51 0 1.02-.2 1.41-.59l7.78-7.78 2.81-2.81c.8-.78.8-2.07 0-2.86zM5.41 20L4 18.59l7.72-7.72 1.47 1.35L5.41 20z\"/>\n",
       "  </svg>\n",
       "      </button>\n",
       "      \n",
       "  <style>\n",
       "    .colab-df-container {\n",
       "      display:flex;\n",
       "      flex-wrap:wrap;\n",
       "      gap: 12px;\n",
       "    }\n",
       "\n",
       "    .colab-df-convert {\n",
       "      background-color: #E8F0FE;\n",
       "      border: none;\n",
       "      border-radius: 50%;\n",
       "      cursor: pointer;\n",
       "      display: none;\n",
       "      fill: #1967D2;\n",
       "      height: 32px;\n",
       "      padding: 0 0 0 0;\n",
       "      width: 32px;\n",
       "    }\n",
       "\n",
       "    .colab-df-convert:hover {\n",
       "      background-color: #E2EBFA;\n",
       "      box-shadow: 0px 1px 2px rgba(60, 64, 67, 0.3), 0px 1px 3px 1px rgba(60, 64, 67, 0.15);\n",
       "      fill: #174EA6;\n",
       "    }\n",
       "\n",
       "    [theme=dark] .colab-df-convert {\n",
       "      background-color: #3B4455;\n",
       "      fill: #D2E3FC;\n",
       "    }\n",
       "\n",
       "    [theme=dark] .colab-df-convert:hover {\n",
       "      background-color: #434B5C;\n",
       "      box-shadow: 0px 1px 3px 1px rgba(0, 0, 0, 0.15);\n",
       "      filter: drop-shadow(0px 1px 2px rgba(0, 0, 0, 0.3));\n",
       "      fill: #FFFFFF;\n",
       "    }\n",
       "  </style>\n",
       "\n",
       "      <script>\n",
       "        const buttonEl =\n",
       "          document.querySelector('#df-08d2d311-63b5-4a0e-ae13-40679cfe2355 button.colab-df-convert');\n",
       "        buttonEl.style.display =\n",
       "          google.colab.kernel.accessAllowed ? 'block' : 'none';\n",
       "\n",
       "        async function convertToInteractive(key) {\n",
       "          const element = document.querySelector('#df-08d2d311-63b5-4a0e-ae13-40679cfe2355');\n",
       "          const dataTable =\n",
       "            await google.colab.kernel.invokeFunction('convertToInteractive',\n",
       "                                                     [key], {});\n",
       "          if (!dataTable) return;\n",
       "\n",
       "          const docLinkHtml = 'Like what you see? Visit the ' +\n",
       "            '<a target=\"_blank\" href=https://colab.research.google.com/notebooks/data_table.ipynb>data table notebook</a>'\n",
       "            + ' to learn more about interactive tables.';\n",
       "          element.innerHTML = '';\n",
       "          dataTable['output_type'] = 'display_data';\n",
       "          await google.colab.output.renderOutput(dataTable, element);\n",
       "          const docLink = document.createElement('div');\n",
       "          docLink.innerHTML = docLinkHtml;\n",
       "          element.appendChild(docLink);\n",
       "        }\n",
       "      </script>\n",
       "    </div>\n",
       "  </div>\n",
       "  "
      ],
      "text/plain": [
       "        manufacturer  condition  cylinders  fuel  odometer  title_status  \\\n",
       "307447             8          0   0.500000     2  0.119366             0   \n",
       "87799             22          0   0.000000     2  0.294319             0   \n",
       "187039             8          0   0.666667     2  0.513793             0   \n",
       "379773            21          0   0.000000     2  0.470000             0   \n",
       "397284            22          0   0.333333     2  0.474517             0   \n",
       "\n",
       "        transmission  drive  size  type       age  new_tires  heated_seats  \\\n",
       "307447             0      2     1     8  0.034188          0             0   \n",
       "87799              1      0     1     9  0.102564          0             0   \n",
       "187039             0      0     1     9  0.051282          0             0   \n",
       "379773             0      0     1    10  0.068376          0             0   \n",
       "397284             0      0     1    12  0.145299          0             0   \n",
       "\n",
       "        auto_headlight  leather  \n",
       "307447               0        1  \n",
       "87799                0        0  \n",
       "187039               0        0  \n",
       "379773               0        0  \n",
       "397284               0        0  "
      ]
     },
     "execution_count": 249,
     "metadata": {},
     "output_type": "execute_result"
    }
   ],
   "source": [
    "val_inputs.sample(5)"
   ]
  },
  {
   "cell_type": "code",
   "execution_count": null,
   "metadata": {
    "colab": {
     "base_uri": "https://localhost:8080/",
     "height": 206
    },
    "executionInfo": {
     "elapsed": 9,
     "status": "ok",
     "timestamp": 1662677043233,
     "user": {
      "displayName": "Srinath Nanduri",
      "userId": "16683609937496845667"
     },
     "user_tz": 420
    },
    "id": "yHufIxyDy2wX",
    "outputId": "aa8dcaf7-06c7-45cd-c38b-761821b900ba"
   },
   "outputs": [
    {
     "data": {
      "text/html": [
       "\n",
       "  <div id=\"df-b1a0b4c6-6606-4c1f-8dc9-c01d9e92a74b\">\n",
       "    <div class=\"colab-df-container\">\n",
       "      <div>\n",
       "<style scoped>\n",
       "    .dataframe tbody tr th:only-of-type {\n",
       "        vertical-align: middle;\n",
       "    }\n",
       "\n",
       "    .dataframe tbody tr th {\n",
       "        vertical-align: top;\n",
       "    }\n",
       "\n",
       "    .dataframe thead th {\n",
       "        text-align: right;\n",
       "    }\n",
       "</style>\n",
       "<table border=\"1\" class=\"dataframe\">\n",
       "  <thead>\n",
       "    <tr style=\"text-align: right;\">\n",
       "      <th></th>\n",
       "      <th>manufacturer</th>\n",
       "      <th>condition</th>\n",
       "      <th>cylinders</th>\n",
       "      <th>fuel</th>\n",
       "      <th>odometer</th>\n",
       "      <th>title_status</th>\n",
       "      <th>transmission</th>\n",
       "      <th>drive</th>\n",
       "      <th>size</th>\n",
       "      <th>type</th>\n",
       "      <th>age</th>\n",
       "      <th>new_tires</th>\n",
       "      <th>heated_seats</th>\n",
       "      <th>auto_headlight</th>\n",
       "      <th>leather</th>\n",
       "    </tr>\n",
       "  </thead>\n",
       "  <tbody>\n",
       "    <tr>\n",
       "      <th>79048</th>\n",
       "      <td>24</td>\n",
       "      <td>0</td>\n",
       "      <td>0.000000</td>\n",
       "      <td>2</td>\n",
       "      <td>0.191425</td>\n",
       "      <td>0</td>\n",
       "      <td>0</td>\n",
       "      <td>0</td>\n",
       "      <td>1</td>\n",
       "      <td>9</td>\n",
       "      <td>0.034188</td>\n",
       "      <td>0</td>\n",
       "      <td>0</td>\n",
       "      <td>0</td>\n",
       "      <td>0</td>\n",
       "    </tr>\n",
       "    <tr>\n",
       "      <th>272588</th>\n",
       "      <td>5</td>\n",
       "      <td>0</td>\n",
       "      <td>0.000000</td>\n",
       "      <td>2</td>\n",
       "      <td>0.257998</td>\n",
       "      <td>0</td>\n",
       "      <td>0</td>\n",
       "      <td>1</td>\n",
       "      <td>1</td>\n",
       "      <td>9</td>\n",
       "      <td>0.085470</td>\n",
       "      <td>0</td>\n",
       "      <td>0</td>\n",
       "      <td>0</td>\n",
       "      <td>0</td>\n",
       "    </tr>\n",
       "    <tr>\n",
       "      <th>421004</th>\n",
       "      <td>13</td>\n",
       "      <td>0</td>\n",
       "      <td>0.000000</td>\n",
       "      <td>2</td>\n",
       "      <td>0.421520</td>\n",
       "      <td>0</td>\n",
       "      <td>0</td>\n",
       "      <td>0</td>\n",
       "      <td>1</td>\n",
       "      <td>9</td>\n",
       "      <td>0.136752</td>\n",
       "      <td>0</td>\n",
       "      <td>0</td>\n",
       "      <td>0</td>\n",
       "      <td>0</td>\n",
       "    </tr>\n",
       "    <tr>\n",
       "      <th>218306</th>\n",
       "      <td>10</td>\n",
       "      <td>2</td>\n",
       "      <td>0.333333</td>\n",
       "      <td>2</td>\n",
       "      <td>0.793105</td>\n",
       "      <td>0</td>\n",
       "      <td>0</td>\n",
       "      <td>1</td>\n",
       "      <td>1</td>\n",
       "      <td>9</td>\n",
       "      <td>0.170940</td>\n",
       "      <td>0</td>\n",
       "      <td>0</td>\n",
       "      <td>0</td>\n",
       "      <td>0</td>\n",
       "    </tr>\n",
       "    <tr>\n",
       "      <th>64986</th>\n",
       "      <td>2</td>\n",
       "      <td>0</td>\n",
       "      <td>0.000000</td>\n",
       "      <td>0</td>\n",
       "      <td>0.286454</td>\n",
       "      <td>0</td>\n",
       "      <td>0</td>\n",
       "      <td>0</td>\n",
       "      <td>0</td>\n",
       "      <td>9</td>\n",
       "      <td>0.068376</td>\n",
       "      <td>0</td>\n",
       "      <td>0</td>\n",
       "      <td>0</td>\n",
       "      <td>0</td>\n",
       "    </tr>\n",
       "  </tbody>\n",
       "</table>\n",
       "</div>\n",
       "      <button class=\"colab-df-convert\" onclick=\"convertToInteractive('df-b1a0b4c6-6606-4c1f-8dc9-c01d9e92a74b')\"\n",
       "              title=\"Convert this dataframe to an interactive table.\"\n",
       "              style=\"display:none;\">\n",
       "        \n",
       "  <svg xmlns=\"http://www.w3.org/2000/svg\" height=\"24px\"viewBox=\"0 0 24 24\"\n",
       "       width=\"24px\">\n",
       "    <path d=\"M0 0h24v24H0V0z\" fill=\"none\"/>\n",
       "    <path d=\"M18.56 5.44l.94 2.06.94-2.06 2.06-.94-2.06-.94-.94-2.06-.94 2.06-2.06.94zm-11 1L8.5 8.5l.94-2.06 2.06-.94-2.06-.94L8.5 2.5l-.94 2.06-2.06.94zm10 10l.94 2.06.94-2.06 2.06-.94-2.06-.94-.94-2.06-.94 2.06-2.06.94z\"/><path d=\"M17.41 7.96l-1.37-1.37c-.4-.4-.92-.59-1.43-.59-.52 0-1.04.2-1.43.59L10.3 9.45l-7.72 7.72c-.78.78-.78 2.05 0 2.83L4 21.41c.39.39.9.59 1.41.59.51 0 1.02-.2 1.41-.59l7.78-7.78 2.81-2.81c.8-.78.8-2.07 0-2.86zM5.41 20L4 18.59l7.72-7.72 1.47 1.35L5.41 20z\"/>\n",
       "  </svg>\n",
       "      </button>\n",
       "      \n",
       "  <style>\n",
       "    .colab-df-container {\n",
       "      display:flex;\n",
       "      flex-wrap:wrap;\n",
       "      gap: 12px;\n",
       "    }\n",
       "\n",
       "    .colab-df-convert {\n",
       "      background-color: #E8F0FE;\n",
       "      border: none;\n",
       "      border-radius: 50%;\n",
       "      cursor: pointer;\n",
       "      display: none;\n",
       "      fill: #1967D2;\n",
       "      height: 32px;\n",
       "      padding: 0 0 0 0;\n",
       "      width: 32px;\n",
       "    }\n",
       "\n",
       "    .colab-df-convert:hover {\n",
       "      background-color: #E2EBFA;\n",
       "      box-shadow: 0px 1px 2px rgba(60, 64, 67, 0.3), 0px 1px 3px 1px rgba(60, 64, 67, 0.15);\n",
       "      fill: #174EA6;\n",
       "    }\n",
       "\n",
       "    [theme=dark] .colab-df-convert {\n",
       "      background-color: #3B4455;\n",
       "      fill: #D2E3FC;\n",
       "    }\n",
       "\n",
       "    [theme=dark] .colab-df-convert:hover {\n",
       "      background-color: #434B5C;\n",
       "      box-shadow: 0px 1px 3px 1px rgba(0, 0, 0, 0.15);\n",
       "      filter: drop-shadow(0px 1px 2px rgba(0, 0, 0, 0.3));\n",
       "      fill: #FFFFFF;\n",
       "    }\n",
       "  </style>\n",
       "\n",
       "      <script>\n",
       "        const buttonEl =\n",
       "          document.querySelector('#df-b1a0b4c6-6606-4c1f-8dc9-c01d9e92a74b button.colab-df-convert');\n",
       "        buttonEl.style.display =\n",
       "          google.colab.kernel.accessAllowed ? 'block' : 'none';\n",
       "\n",
       "        async function convertToInteractive(key) {\n",
       "          const element = document.querySelector('#df-b1a0b4c6-6606-4c1f-8dc9-c01d9e92a74b');\n",
       "          const dataTable =\n",
       "            await google.colab.kernel.invokeFunction('convertToInteractive',\n",
       "                                                     [key], {});\n",
       "          if (!dataTable) return;\n",
       "\n",
       "          const docLinkHtml = 'Like what you see? Visit the ' +\n",
       "            '<a target=\"_blank\" href=https://colab.research.google.com/notebooks/data_table.ipynb>data table notebook</a>'\n",
       "            + ' to learn more about interactive tables.';\n",
       "          element.innerHTML = '';\n",
       "          dataTable['output_type'] = 'display_data';\n",
       "          await google.colab.output.renderOutput(dataTable, element);\n",
       "          const docLink = document.createElement('div');\n",
       "          docLink.innerHTML = docLinkHtml;\n",
       "          element.appendChild(docLink);\n",
       "        }\n",
       "      </script>\n",
       "    </div>\n",
       "  </div>\n",
       "  "
      ],
      "text/plain": [
       "        manufacturer  condition  cylinders  fuel  odometer  title_status  \\\n",
       "79048             24          0   0.000000     2  0.191425             0   \n",
       "272588             5          0   0.000000     2  0.257998             0   \n",
       "421004            13          0   0.000000     2  0.421520             0   \n",
       "218306            10          2   0.333333     2  0.793105             0   \n",
       "64986              2          0   0.000000     0  0.286454             0   \n",
       "\n",
       "        transmission  drive  size  type       age  new_tires  heated_seats  \\\n",
       "79048              0      0     1     9  0.034188          0             0   \n",
       "272588             0      1     1     9  0.085470          0             0   \n",
       "421004             0      0     1     9  0.136752          0             0   \n",
       "218306             0      1     1     9  0.170940          0             0   \n",
       "64986              0      0     0     9  0.068376          0             0   \n",
       "\n",
       "        auto_headlight  leather  \n",
       "79048                0        0  \n",
       "272588               0        0  \n",
       "421004               0        0  \n",
       "218306               0        0  \n",
       "64986                0        0  "
      ]
     },
     "execution_count": 250,
     "metadata": {},
     "output_type": "execute_result"
    }
   ],
   "source": [
    "test_inputs.sample(5)"
   ]
  },
  {
   "cell_type": "markdown",
   "metadata": {
    "id": "CWhNQZml2jWu"
   },
   "source": [
    "# 9. Dumb/Benchmark Model - Mean Value\n",
    "\n",
    "## Section Outline\n",
    "- Use the mean value of the arrival delay column as the predictor\n",
    "- Evaluate the \"Dumb\" model using [RMSE](https://www.statisticshowto.com/probability-and-statistics/regression-analysis/rmse-root-mean-square-error/) (Root Mean Squared Error)"
   ]
  },
  {
   "cell_type": "code",
   "execution_count": null,
   "metadata": {
    "id": "rH6Er_AA2aM5"
   },
   "outputs": [],
   "source": [
    "def return_mean(inputs):\n",
    "  return np.full(len(inputs), data_df[target_cols].mean())"
   ]
  },
  {
   "cell_type": "code",
   "execution_count": null,
   "metadata": {
    "id": "LwET593-JZfc"
   },
   "outputs": [],
   "source": [
    "train_preds = return_mean(train_inputs)\n",
    "val_preds = return_mean(val_inputs)\n",
    "test_preds = return_mean(test_inputs)"
   ]
  },
  {
   "cell_type": "code",
   "execution_count": null,
   "metadata": {
    "colab": {
     "base_uri": "https://localhost:8080/"
    },
    "executionInfo": {
     "elapsed": 14,
     "status": "ok",
     "timestamp": 1662658775681,
     "user": {
      "displayName": "Srinath Nanduri",
      "userId": "16683609937496845667"
     },
     "user_tz": 420
    },
    "id": "pUTlimIqJdwR",
    "outputId": "40690887-4698-4815-fbb2-905b4d228078"
   },
   "outputs": [
    {
     "data": {
      "text/plain": [
       "array([18602.67787449, 18602.67787449, 18602.67787449, ...,\n",
       "       18602.67787449, 18602.67787449, 18602.67787449])"
      ]
     },
     "execution_count": 51,
     "metadata": {},
     "output_type": "execute_result"
    }
   ],
   "source": [
    "train_preds"
   ]
  },
  {
   "cell_type": "code",
   "execution_count": null,
   "metadata": {
    "colab": {
     "base_uri": "https://localhost:8080/"
    },
    "executionInfo": {
     "elapsed": 11,
     "status": "ok",
     "timestamp": 1662658775681,
     "user": {
      "displayName": "Srinath Nanduri",
      "userId": "16683609937496845667"
     },
     "user_tz": 420
    },
    "id": "WYs_6S1IlCnH",
    "outputId": "cb6d52d6-b1b1-4ae3-d607-3e6c89361c76"
   },
   "outputs": [
    {
     "data": {
      "text/plain": [
       "89400      6450\n",
       "299658    10230\n",
       "69827     36590\n",
       "165509    13995\n",
       "114449     9550\n",
       "          ...  \n",
       "148522    13900\n",
       "316635    13991\n",
       "162306    11995\n",
       "180009    35888\n",
       "150944    25990\n",
       "Name: price, Length: 261268, dtype: int64"
      ]
     },
     "execution_count": 52,
     "metadata": {},
     "output_type": "execute_result"
    }
   ],
   "source": [
    "train_targets"
   ]
  },
  {
   "cell_type": "markdown",
   "metadata": {
    "id": "4xawxJyQJvrF"
   },
   "source": [
    "## i. Evaluate Benchmark"
   ]
  },
  {
   "cell_type": "code",
   "execution_count": null,
   "metadata": {
    "colab": {
     "base_uri": "https://localhost:8080/"
    },
    "executionInfo": {
     "elapsed": 10,
     "status": "ok",
     "timestamp": 1662658775681,
     "user": {
      "displayName": "Srinath Nanduri",
      "userId": "16683609937496845667"
     },
     "user_tz": 420
    },
    "id": "-GfOwkDhJ2Z5",
    "outputId": "58653494-9f2d-4750-ce88-4d10dce841a6"
   },
   "outputs": [
    {
     "name": "stdout",
     "output_type": "stream",
     "text": [
      "RMSE - Training Error: 13627.2715, Validation Error: 13631.0538, Test Error: 13651.4657\n",
      "MAE - Training Error: 10838.2615, Validation Error: 10820.711, Test Error: 10843.0773\n",
      "MAPE - Training Error: 1.227, Validation Error: 1.2151, Test Error: 1.2198\n"
     ]
    },
    {
     "data": {
      "text/plain": [
       "((13627.271485399448, 13631.053780770968, 13651.465712945068),\n",
       " (10838.261519354804, 10820.7109882381, 10843.077258657646),\n",
       " (1.2269786402330598, 1.2150692144073776, 1.2197651711958726))"
      ]
     },
     "execution_count": 53,
     "metadata": {},
     "output_type": "execute_result"
    }
   ],
   "source": [
    "# Compute RMSE\n",
    "train_rmse = mean_squared_error(train_targets, train_preds, squared=False)\n",
    "val_rmse = mean_squared_error(val_targets, val_preds, squared=False)\n",
    "test_rmse = mean_squared_error(test_targets, test_preds, squared=False)\n",
    "\n",
    "# Compute MAE\n",
    "train_mae = mean_absolute_error(train_targets, train_preds)\n",
    "val_mae = mean_absolute_error(val_targets, val_preds)\n",
    "test_mae = mean_absolute_error(test_targets, test_preds)\n",
    "\n",
    "# Compute MAPE\n",
    "train_mape = mean_absolute_percentage_error(train_targets, train_preds)\n",
    "val_mape = mean_absolute_percentage_error(val_targets, val_preds)\n",
    "test_mape = mean_absolute_percentage_error(test_targets, test_preds)\n",
    "\n",
    "print(\"RMSE - Training Error: {}, Validation Error: {}, Test Error: {}\".format(round(train_rmse, 4), round(val_rmse, 4), round(test_rmse, 4)))\n",
    "print(\"MAE - Training Error: {}, Validation Error: {}, Test Error: {}\".format(round(train_mae, 4), round(val_mae, 4), round(test_mae, 4)))\n",
    "print(\"MAPE - Training Error: {}, Validation Error: {}, Test Error: {}\".format(round(train_mape, 4), round(val_mape, 4), round(test_mape, 4)))\n",
    "mean_model = ((train_rmse, val_rmse, test_rmse), (train_mae, val_mae, test_mae), (train_mape, val_mape, test_mape))\n",
    "mean_model"
   ]
  },
  {
   "cell_type": "markdown",
   "metadata": {
    "id": "SG4a09iSOSnk"
   },
   "source": [
    "# 10. Machine Learning Models"
   ]
  },
  {
   "cell_type": "markdown",
   "metadata": {
    "id": "qZRw37ISRcOP"
   },
   "source": [
    "The machine learning models being tested in this section are as follows:\n",
    "\n",
    "- Linear Models\n",
    "  - [Linear Regression](https://scikit-learn.org/stable/modules/generated/sklearn.linear_model.LinearRegression.html)\n",
    "  - [Ridge](https://scikit-learn.org/stable/modules/generated/sklearn.linear_model.Ridge.html#sklearn.linear_model.Ridge)\n",
    "  - [Lasso](https://scikit-learn.org/stable/modules/generated/sklearn.linear_model.Lasso.html#sklearn.linear_model.Lasso)\n",
    "  - [Elastic Net](https://scikit-learn.org/stable/modules/generated/sklearn.linear_model.ElasticNet.html#sklearn.linear_model.ElasticNet)\n",
    "\n",
    "- Tree Based Models\n",
    "  - [Decision Tree Regressor](https://scikit-learn.org/stable/modules/generated/sklearn.tree.DecisionTreeRegressor.html#sklearn.tree.DecisionTreeRegressor)\n",
    "  - [Random Forest Regressor](https://scikit-learn.org/stable/modules/generated/sklearn.ensemble.RandomForestRegressor.html#sklearn.ensemble.RandomForestRegressor)\n",
    "\n",
    "- Gradient Boosting\n",
    "  - [XGBoost](https://xgboost.readthedocs.io/en/stable/python/index.html)\n",
    "\n",
    "\n",
    "The regression metrics being used to evaluate the models in this section are as follows:\n",
    "\n",
    "- [Root Mean Squared Error](https://scikit-learn.org/stable/modules/generated/sklearn.metrics.mean_squared_error.html#sklearn.metrics.mean_squared_error)\n",
    "- [Mean Absolute Error](https://scikit-learn.org/stable/modules/generated/sklearn.metrics.mean_absolute_error.html#sklearn.metrics.mean_absolute_error)\n",
    "- [Mean Absolute Percent Error](https://scikit-learn.org/stable/modules/generated/sklearn.metrics.mean_absolute_percentage_error.html#sklearn.metrics.mean_absolute_percentage_error)"
   ]
  },
  {
   "cell_type": "code",
   "execution_count": null,
   "metadata": {
    "id": "7o_Vkf7LJ8RV"
   },
   "outputs": [],
   "source": [
    "def try_model(model):\n",
    "  # Fit the model\n",
    "  model.fit(train_inputs, train_targets)\n",
    "  \n",
    "  # Generate predictions\n",
    "  train_preds = model.predict(train_inputs)\n",
    "  val_preds = model.predict(val_inputs)\n",
    "  test_preds = model.predict(test_inputs)\n",
    "  \n",
    "  # Compute RMSE\n",
    "  train_rmse = mean_squared_error(train_targets, train_preds, squared=False)\n",
    "  val_rmse = mean_squared_error(val_targets, val_preds, squared=False)\n",
    "  test_rmse = mean_squared_error(test_targets, test_preds, squared=False)\n",
    "\n",
    "  # Compute MAE\n",
    "  train_mae = mean_absolute_error(train_targets, train_preds)\n",
    "  val_mae = mean_absolute_error(val_targets, val_preds)\n",
    "  test_mae = mean_absolute_error(test_targets, test_preds)\n",
    "\n",
    "  # Compute MAPE\n",
    "  train_mape = mean_absolute_percentage_error(train_targets, train_preds)\n",
    "  val_mape = mean_absolute_percentage_error(val_targets, val_preds)\n",
    "  test_mape = mean_absolute_percentage_error(test_targets, test_preds)\n",
    "\n",
    "  print(\"RMSE - Training Error: {}, Validation Error: {}, Test Error: {}\".format(round(train_rmse, 4), round(val_rmse, 4), round(test_rmse, 4)))\n",
    "  print(\"MAE - Training Error: {}, Validation Error: {}, Test Error: {}\".format(round(train_mae, 4), round(val_mae, 4), round(test_mae, 4)))\n",
    "  print(\"MAPE - Training Error: {}, Validation Error: {}, Test Error: {}\".format(round(train_mape, 4), round(val_mape, 4), round(test_mape, 4)))\n",
    "\n",
    "  return ((train_rmse, val_rmse, test_rmse),(train_mae, val_mae, test_mae),(train_mape, val_mape, test_mape))"
   ]
  },
  {
   "cell_type": "code",
   "execution_count": null,
   "metadata": {
    "id": "1QKcWCP_4fUB"
   },
   "outputs": [],
   "source": [
    "def hyper_tune(model, params_dict):\n",
    "  # Initialize grid\n",
    "  grid = RandomizedSearchCV(estimator=model,\n",
    "                          param_distributions=params_dict,\n",
    "                          n_iter=50,\n",
    "                          cv=5)\n",
    "  \n",
    "  grid_results = grid.fit(train_inputs, train_targets)\n",
    "\n",
    "  best_model = grid_results.best_estimator_\n",
    "  print(best_model)\n",
    "\n",
    "  return best_model"
   ]
  },
  {
   "cell_type": "code",
   "execution_count": null,
   "metadata": {
    "id": "TIDb7M2Bzc8F"
   },
   "outputs": [],
   "source": [
    "models = [\"Simple Model - Mean Value\", \"Linear Regression\", \n",
    "          \"Ridge\", \"Lasso\", \"Elastic Net\", \n",
    "          \"Decision Tree Regressor - base\", \"Decision Tree Regressor - hypertuned\",\n",
    "          \"Random Forest Regressor - base\", \"Random Forest Regressor - hypertuned\",\n",
    "          \"XGB Regressor - base\", \"XGB Regressor - hypertuned\"]"
   ]
  },
  {
   "cell_type": "markdown",
   "metadata": {
    "id": "cHNha9hAQuKo"
   },
   "source": [
    "## i. Linear Models"
   ]
  },
  {
   "cell_type": "markdown",
   "metadata": {
    "id": "mxd6ZgHLG6vo"
   },
   "source": [
    "### Linear Regression"
   ]
  },
  {
   "cell_type": "code",
   "execution_count": null,
   "metadata": {
    "colab": {
     "base_uri": "https://localhost:8080/"
    },
    "executionInfo": {
     "elapsed": 336,
     "status": "ok",
     "timestamp": 1662658776010,
     "user": {
      "displayName": "Srinath Nanduri",
      "userId": "16683609937496845667"
     },
     "user_tz": 420
    },
    "id": "AfWe13PGO5D7",
    "outputId": "75b128ec-ee32-4021-a2e1-f0873656e738"
   },
   "outputs": [
    {
     "name": "stdout",
     "output_type": "stream",
     "text": [
      "RMSE - Training Error: 10217.8243, Validation Error: 10207.1627, Test Error: 10208.294\n",
      "MAE - Training Error: 7675.2016, Validation Error: 7652.297, Test Error: 7645.8029\n",
      "MAPE - Training Error: 0.7147, Validation Error: 0.7047, Test Error: 0.705\n",
      "CPU times: user 137 ms, sys: 144 ms, total: 280 ms\n",
      "Wall time: 124 ms\n"
     ]
    },
    {
     "data": {
      "text/plain": [
       "((10217.824325567464, 10207.162687009897, 10208.29399821383),\n",
       " (7675.201599562264, 7652.2970172507585, 7645.802923494016),\n",
       " (0.7146783974148948, 0.7047211245000645, 0.7049653249632825))"
      ]
     },
     "execution_count": 57,
     "metadata": {},
     "output_type": "execute_result"
    }
   ],
   "source": [
    "%%time\n",
    "lin_model= try_model(LinearRegression())\n",
    "lin_model"
   ]
  },
  {
   "cell_type": "markdown",
   "metadata": {
    "id": "5Uz3QYqsHBOW"
   },
   "source": [
    "### Ridge"
   ]
  },
  {
   "cell_type": "code",
   "execution_count": null,
   "metadata": {
    "colab": {
     "base_uri": "https://localhost:8080/"
    },
    "executionInfo": {
     "elapsed": 5,
     "status": "ok",
     "timestamp": 1662658776010,
     "user": {
      "displayName": "Srinath Nanduri",
      "userId": "16683609937496845667"
     },
     "user_tz": 420
    },
    "id": "uZ4sIEeSPKPq",
    "outputId": "edc2274c-3f38-43d7-a5dc-49d4f475940f"
   },
   "outputs": [
    {
     "name": "stdout",
     "output_type": "stream",
     "text": [
      "RMSE - Training Error: 10217.8246, Validation Error: 10207.1593, Test Error: 10208.3005\n",
      "MAE - Training Error: 7675.229, Validation Error: 7652.322, Test Error: 7645.8347\n",
      "MAPE - Training Error: 0.7147, Validation Error: 0.7047, Test Error: 0.705\n",
      "CPU times: user 104 ms, sys: 186 ms, total: 290 ms\n",
      "Wall time: 74.9 ms\n"
     ]
    },
    {
     "data": {
      "text/plain": [
       "((10217.824557023661, 10207.159296572123, 10208.300529658038),\n",
       " (7675.229037750101, 7652.3219815678185, 7645.834705861545),\n",
       " (0.7146971319659685, 0.7047382354619416, 0.7049826557414888))"
      ]
     },
     "execution_count": 58,
     "metadata": {},
     "output_type": "execute_result"
    }
   ],
   "source": [
    "%%time\n",
    "rid_model = try_model(Ridge())\n",
    "rid_model"
   ]
  },
  {
   "cell_type": "markdown",
   "metadata": {
    "id": "QUxyvxoAHFWI"
   },
   "source": [
    "### Lasso"
   ]
  },
  {
   "cell_type": "code",
   "execution_count": null,
   "metadata": {
    "colab": {
     "base_uri": "https://localhost:8080/"
    },
    "executionInfo": {
     "elapsed": 255,
     "status": "ok",
     "timestamp": 1662658776263,
     "user": {
      "displayName": "Srinath Nanduri",
      "userId": "16683609937496845667"
     },
     "user_tz": 420
    },
    "id": "Ww9Lk3-oPWUu",
    "outputId": "65ff4cbf-0c8f-455b-8b65-d70c3c4a1999"
   },
   "outputs": [
    {
     "name": "stdout",
     "output_type": "stream",
     "text": [
      "RMSE - Training Error: 10217.839, Validation Error: 10207.1555, Test Error: 10208.3446\n",
      "MAE - Training Error: 7675.3911, Validation Error: 7652.4293, Test Error: 7645.9841\n",
      "MAPE - Training Error: 0.7148, Validation Error: 0.7048, Test Error: 0.7051\n",
      "CPU times: user 152 ms, sys: 192 ms, total: 344 ms\n",
      "Wall time: 90.9 ms\n"
     ]
    },
    {
     "data": {
      "text/plain": [
       "((10217.83898289622, 10207.155481364485, 10208.34460588108),\n",
       " (7675.391089705469, 7652.429276634139, 7645.984119553048),\n",
       " (0.7147851929280428, 0.7048081086103786, 0.7050555541270723))"
      ]
     },
     "execution_count": 59,
     "metadata": {},
     "output_type": "execute_result"
    }
   ],
   "source": [
    "%%time\n",
    "las_model = try_model(Lasso())\n",
    "las_model"
   ]
  },
  {
   "cell_type": "markdown",
   "metadata": {
    "id": "hldAhjf2HIwE"
   },
   "source": [
    "### Elastic Net"
   ]
  },
  {
   "cell_type": "code",
   "execution_count": null,
   "metadata": {
    "colab": {
     "base_uri": "https://localhost:8080/"
    },
    "executionInfo": {
     "elapsed": 6,
     "status": "ok",
     "timestamp": 1662658776264,
     "user": {
      "displayName": "Srinath Nanduri",
      "userId": "16683609937496845667"
     },
     "user_tz": 420
    },
    "id": "H2HtMOWYPyb9",
    "outputId": "79dbe0d8-2b12-4f93-d753-e11846e52451"
   },
   "outputs": [
    {
     "name": "stdout",
     "output_type": "stream",
     "text": [
      "RMSE - Training Error: 12707.1117, Validation Error: 12710.7676, Test Error: 12730.1136\n",
      "MAE - Training Error: 9940.907, Validation Error: 9936.5076, Test Error: 9956.5338\n",
      "MAPE - Training Error: 1.1171, Validation Error: 1.1068, Test Error: 1.1109\n",
      "CPU times: user 122 ms, sys: 186 ms, total: 308 ms\n",
      "Wall time: 77.2 ms\n"
     ]
    },
    {
     "data": {
      "text/plain": [
       "((12707.111705638225, 12710.767634288915, 12730.11360471708),\n",
       " (9940.907010136805, 9936.507602443604, 9956.533831366398),\n",
       " (1.1170926154715717, 1.1068267720204095, 1.1108962430272171))"
      ]
     },
     "execution_count": 60,
     "metadata": {},
     "output_type": "execute_result"
    }
   ],
   "source": [
    "%%time\n",
    "ela_model = try_model(ElasticNet())\n",
    "ela_model"
   ]
  },
  {
   "cell_type": "markdown",
   "metadata": {
    "id": "Q_6M1jPxQzro"
   },
   "source": [
    "## ii. Tree Based Models"
   ]
  },
  {
   "cell_type": "markdown",
   "metadata": {
    "id": "mlWfzYg30jKr"
   },
   "source": [
    "### Decision Tree Regressor"
   ]
  },
  {
   "cell_type": "code",
   "execution_count": null,
   "metadata": {
    "id": "_Le0aFIWRLrJ"
   },
   "outputs": [],
   "source": [
    "tree = DecisionTreeRegressor(random_state=42)"
   ]
  },
  {
   "cell_type": "code",
   "execution_count": null,
   "metadata": {
    "colab": {
     "base_uri": "https://localhost:8080/"
    },
    "executionInfo": {
     "elapsed": 1820,
     "status": "ok",
     "timestamp": 1662658778082,
     "user": {
      "displayName": "Srinath Nanduri",
      "userId": "16683609937496845667"
     },
     "user_tz": 420
    },
    "id": "LcSqky1TSXxg",
    "outputId": "17ce6e13-7416-4def-8631-55759c6e70ad"
   },
   "outputs": [
    {
     "name": "stdout",
     "output_type": "stream",
     "text": [
      "RMSE - Training Error: 371.1455, Validation Error: 5657.3293, Test Error: 5647.764\n",
      "MAE - Training Error: 31.1209, Validation Error: 2365.5747, Test Error: 2363.1245\n",
      "MAPE - Training Error: 0.0037, Validation Error: 0.2349, Test Error: 0.236\n",
      "CPU times: user 1.8 s, sys: 196 ms, total: 1.99 s\n",
      "Wall time: 1.77 s\n"
     ]
    }
   ],
   "source": [
    "%%time\n",
    "base_tree = try_model(tree)"
   ]
  },
  {
   "cell_type": "markdown",
   "metadata": {
    "id": "gwwwZUEF1Tgt"
   },
   "source": [
    "#### Hyperparameter Tuning for Decision Tree Regressor"
   ]
  },
  {
   "cell_type": "code",
   "execution_count": null,
   "metadata": {
    "colab": {
     "base_uri": "https://localhost:8080/"
    },
    "executionInfo": {
     "elapsed": 5,
     "status": "ok",
     "timestamp": 1662658778083,
     "user": {
      "displayName": "Srinath Nanduri",
      "userId": "16683609937496845667"
     },
     "user_tz": 420
    },
    "id": "V-QF8TTGRFzs",
    "outputId": "7556c41c-79cb-4a69-d9b9-dfaf9196a53d"
   },
   "outputs": [
    {
     "data": {
      "text/plain": [
       "{'ccp_alpha': 0.0,\n",
       " 'criterion': 'squared_error',\n",
       " 'max_depth': None,\n",
       " 'max_features': None,\n",
       " 'max_leaf_nodes': None,\n",
       " 'min_impurity_decrease': 0.0,\n",
       " 'min_samples_leaf': 1,\n",
       " 'min_samples_split': 2,\n",
       " 'min_weight_fraction_leaf': 0.0,\n",
       " 'random_state': 42,\n",
       " 'splitter': 'best'}"
      ]
     },
     "execution_count": 63,
     "metadata": {},
     "output_type": "execute_result"
    }
   ],
   "source": [
    "tree.get_params()"
   ]
  },
  {
   "cell_type": "code",
   "execution_count": null,
   "metadata": {
    "id": "hMk4qlvj1dsC"
   },
   "outputs": [],
   "source": [
    "splitter=\"random\"\n",
    "min_samples_leaf = [7, 10, 15, 20, 25]\n",
    "min_samples_split = [5, 10, 20, 50]\n",
    "max_depth = [5,10,15,20]\n",
    "max_features = [7, 11, 15]\n",
    "min_weight_fraction_leaf = [0, 0.01, 0.05, 0.1, 0.15]\n",
    "\n",
    "param_distributions = dict(min_samples_leaf=min_samples_leaf,\n",
    "                           min_samples_split=min_samples_split,\n",
    "                           max_depth=max_depth,\n",
    "                           max_features=max_features,\n",
    "                           min_weight_fraction_leaf=min_weight_fraction_leaf)"
   ]
  },
  {
   "cell_type": "code",
   "execution_count": null,
   "metadata": {
    "colab": {
     "base_uri": "https://localhost:8080/"
    },
    "executionInfo": {
     "elapsed": 69008,
     "status": "ok",
     "timestamp": 1662675083339,
     "user": {
      "displayName": "Srinath Nanduri",
      "userId": "16683609937496845667"
     },
     "user_tz": 420
    },
    "id": "YgDeAKRm4AlO",
    "outputId": "65886601-4714-4df0-cf1f-2e6c534a7446"
   },
   "outputs": [
    {
     "name": "stdout",
     "output_type": "stream",
     "text": [
      "DecisionTreeRegressor(max_depth=15, max_features=15, min_samples_leaf=7,\n",
      "                      min_samples_split=20, min_weight_fraction_leaf=0,\n",
      "                      random_state=42)\n",
      "RMSE - Training Error: 5391.6064, Validation Error: 5932.2771, Test Error: 5943.8835\n",
      "MAE - Training Error: 3360.8084, Validation Error: 3663.6461, Test Error: 3660.1244\n",
      "MAPE - Training Error: 0.3051, Validation Error: 0.3235, Test Error: 0.3251\n",
      "CPU times: user 1min 9s, sys: 280 ms, total: 1min 9s\n",
      "Wall time: 1min 8s\n"
     ]
    }
   ],
   "source": [
    "%%time\n",
    "dec_model = try_model(hyper_tune(tree, param_distributions))"
   ]
  },
  {
   "cell_type": "code",
   "execution_count": null,
   "metadata": {
    "colab": {
     "base_uri": "https://localhost:8080/"
    },
    "executionInfo": {
     "elapsed": 8,
     "status": "ok",
     "timestamp": 1662658801804,
     "user": {
      "displayName": "Srinath Nanduri",
      "userId": "16683609937496845667"
     },
     "user_tz": 420
    },
    "id": "uZ5drwhbKgso",
    "outputId": "01587f6d-db68-43cb-c81c-2652de717303"
   },
   "outputs": [
    {
     "data": {
      "text/plain": [
       "((5106.39075767243, 5717.830852190726, 5722.218838038217),\n",
       " (3025.7044240831324, 3402.7028433944824, 3396.334506087028),\n",
       " (0.272803502417438, 0.30131245927188466, 0.3026311705483141))"
      ]
     },
     "execution_count": 66,
     "metadata": {},
     "output_type": "execute_result"
    }
   ],
   "source": [
    "dec_model"
   ]
  },
  {
   "cell_type": "markdown",
   "metadata": {
    "id": "bTOnxT4l0pte"
   },
   "source": [
    "### Random Forest Regressor"
   ]
  },
  {
   "cell_type": "code",
   "execution_count": null,
   "metadata": {
    "id": "4kf_q6cnSj8t"
   },
   "outputs": [],
   "source": [
    "rf = RandomForestRegressor(random_state=42, n_jobs=-1)"
   ]
  },
  {
   "cell_type": "code",
   "execution_count": null,
   "metadata": {
    "colab": {
     "base_uri": "https://localhost:8080/"
    },
    "executionInfo": {
     "elapsed": 43557,
     "status": "ok",
     "timestamp": 1662659268200,
     "user": {
      "displayName": "Srinath Nanduri",
      "userId": "16683609937496845667"
     },
     "user_tz": 420
    },
    "id": "VD3Pk0GAjf3L",
    "outputId": "98a8961f-f70d-47ca-f944-cecac130665c"
   },
   "outputs": [
    {
     "name": "stdout",
     "output_type": "stream",
     "text": [
      "RMSE - Training Error: 1674.2706, Validation Error: 4373.1727, Test Error: 4389.5262\n",
      "MAE - Training Error: 780.8278, Validation Error: 2049.6787, Test Error: 2053.8042\n",
      "MAPE - Training Error: 0.0821, Validation Error: 0.2107, Test Error: 0.212\n",
      "CPU times: user 2min 47s, sys: 483 ms, total: 2min 48s\n",
      "Wall time: 43.5 s\n"
     ]
    }
   ],
   "source": [
    "%%time\n",
    "base_rf = try_model(rf)"
   ]
  },
  {
   "cell_type": "markdown",
   "metadata": {
    "id": "5HbG09FzmlIT"
   },
   "source": [
    "#### Hyperparameter Tuning for Random Forest Regression"
   ]
  },
  {
   "cell_type": "code",
   "execution_count": null,
   "metadata": {
    "colab": {
     "base_uri": "https://localhost:8080/"
    },
    "executionInfo": {
     "elapsed": 5,
     "status": "ok",
     "timestamp": 1662659268201,
     "user": {
      "displayName": "Srinath Nanduri",
      "userId": "16683609937496845667"
     },
     "user_tz": 420
    },
    "id": "WrEvUQytRDXm",
    "outputId": "16e1e8f2-82f2-4c90-c5a1-4a9516a5c98b"
   },
   "outputs": [
    {
     "data": {
      "text/plain": [
       "{'bootstrap': True,\n",
       " 'ccp_alpha': 0.0,\n",
       " 'criterion': 'squared_error',\n",
       " 'max_depth': None,\n",
       " 'max_features': 'auto',\n",
       " 'max_leaf_nodes': None,\n",
       " 'max_samples': None,\n",
       " 'min_impurity_decrease': 0.0,\n",
       " 'min_samples_leaf': 1,\n",
       " 'min_samples_split': 2,\n",
       " 'min_weight_fraction_leaf': 0.0,\n",
       " 'n_estimators': 100,\n",
       " 'n_jobs': -1,\n",
       " 'oob_score': False,\n",
       " 'random_state': 42,\n",
       " 'verbose': 0,\n",
       " 'warm_start': False}"
      ]
     },
     "execution_count": 71,
     "metadata": {},
     "output_type": "execute_result"
    }
   ],
   "source": [
    "rf.get_params()"
   ]
  },
  {
   "cell_type": "code",
   "execution_count": null,
   "metadata": {
    "id": "sSN2j2O6kVwz"
   },
   "outputs": [],
   "source": [
    "max_leaf_nodes = [7, 9, 11, 13, 15]\n",
    "min_samples_split = [50, 75, 100]\n",
    "max_depth = [5,10,15,20]\n",
    "max_features = [5, 7 ,9]\n",
    "n_estimators = [100, 150, 200]\n",
    "\n",
    "param_distributions = dict(max_leaf_nodes=max_leaf_nodes,\n",
    "                           min_samples_split=min_samples_split,\n",
    "                           max_depth=max_depth,\n",
    "                           max_features=max_features,\n",
    "                           n_estimators=n_estimators)"
   ]
  },
  {
   "cell_type": "code",
   "execution_count": null,
   "metadata": {
    "colab": {
     "base_uri": "https://localhost:8080/"
    },
    "executionInfo": {
     "elapsed": 1681121,
     "status": "ok",
     "timestamp": 1662664684835,
     "user": {
      "displayName": "Srinath Nanduri",
      "userId": "16683609937496845667"
     },
     "user_tz": 420
    },
    "id": "zQRTuGazuCYb",
    "outputId": "f72e5b9a-1b13-4df5-9445-1625e0442cf1"
   },
   "outputs": [
    {
     "name": "stdout",
     "output_type": "stream",
     "text": [
      "RandomForestRegressor(max_depth=10, max_features=7, max_leaf_nodes=15,\n",
      "                      min_samples_split=100, n_estimators=200, n_jobs=-1,\n",
      "                      random_state=42)\n",
      "RMSE - Training Error: 8245.172, Validation Error: 8230.0384, Test Error: 8239.5016\n",
      "MAE - Training Error: 5909.5033, Validation Error: 5897.724, Test Error: 5887.5687\n",
      "MAPE - Training Error: 0.5688, Validation Error: 0.5583, Test Error: 0.5595\n",
      "CPU times: user 4min 42s, sys: 15 s, total: 4min 57s\n",
      "Wall time: 28min 1s\n"
     ]
    }
   ],
   "source": [
    "%%time\n",
    "rf_model = try_model(hyper_tune(rf, param_distributions))"
   ]
  },
  {
   "cell_type": "code",
   "execution_count": null,
   "metadata": {
    "colab": {
     "base_uri": "https://localhost:8080/"
    },
    "executionInfo": {
     "elapsed": 13,
     "status": "ok",
     "timestamp": 1662664684836,
     "user": {
      "displayName": "Srinath Nanduri",
      "userId": "16683609937496845667"
     },
     "user_tz": 420
    },
    "id": "woeU0wpPExYT",
    "outputId": "0104cc76-5add-4820-a203-aee89286eabd"
   },
   "outputs": [
    {
     "data": {
      "text/plain": [
       "((8245.171962114815, 8230.038440895249, 8239.501612550423),\n",
       " (5909.503280966511, 5897.724036142545, 5887.568666988796),\n",
       " (0.568751175960009, 0.5583472723414873, 0.5594562290127977))"
      ]
     },
     "execution_count": 77,
     "metadata": {},
     "output_type": "execute_result"
    }
   ],
   "source": [
    "rf_model"
   ]
  },
  {
   "cell_type": "markdown",
   "metadata": {
    "id": "XiGxEDbtvAuY"
   },
   "source": [
    "## iii. Gradient Boosting with XGBoost"
   ]
  },
  {
   "cell_type": "code",
   "execution_count": null,
   "metadata": {
    "id": "yFcr6WBXUdow"
   },
   "outputs": [],
   "source": [
    "xgb = XGBRegressor(objective ='reg:squarederror', random_state=42, n_jobs=-1)"
   ]
  },
  {
   "cell_type": "code",
   "execution_count": null,
   "metadata": {
    "colab": {
     "base_uri": "https://localhost:8080/"
    },
    "executionInfo": {
     "elapsed": 6611,
     "status": "ok",
     "timestamp": 1662664804798,
     "user": {
      "displayName": "Srinath Nanduri",
      "userId": "16683609937496845667"
     },
     "user_tz": 420
    },
    "id": "GF2Rvy4E7OOI",
    "outputId": "f1a1facb-f41d-4d55-c3cb-52ca585b44bc"
   },
   "outputs": [
    {
     "name": "stdout",
     "output_type": "stream",
     "text": [
      "RMSE - Training Error: 6831.7158, Validation Error: 6811.8487, Test Error: 6828.0714\n",
      "MAE - Training Error: 4582.0473, Validation Error: 4585.6161, Test Error: 4581.5436\n",
      "MAPE - Training Error: 0.3934, Validation Error: 0.3858, Test Error: 0.3873\n"
     ]
    }
   ],
   "source": [
    "base_xgb = try_model(xgb)"
   ]
  },
  {
   "cell_type": "markdown",
   "metadata": {
    "id": "YNGRdaut9qqw"
   },
   "source": [
    "### Hyperparameter Tuning for XGBoost"
   ]
  },
  {
   "cell_type": "markdown",
   "metadata": {
    "id": "ZngPkR7NQnsq"
   },
   "source": [
    "The code for testing hyperparameters of XGBoost has been commented out to reduce processing time of the project. The results of the hyperparameter tuning for the model have been posted below."
   ]
  },
  {
   "cell_type": "code",
   "execution_count": null,
   "metadata": {
    "colab": {
     "base_uri": "https://localhost:8080/"
    },
    "executionInfo": {
     "elapsed": 6,
     "status": "ok",
     "timestamp": 1662664804798,
     "user": {
      "displayName": "Srinath Nanduri",
      "userId": "16683609937496845667"
     },
     "user_tz": 420
    },
    "id": "WeoaGqz-Q5pI",
    "outputId": "d44059f3-6ca5-40d9-f57e-0874cb590306"
   },
   "outputs": [
    {
     "data": {
      "text/plain": [
       "{'base_score': 0.5,\n",
       " 'booster': 'gbtree',\n",
       " 'colsample_bylevel': 1,\n",
       " 'colsample_bynode': 1,\n",
       " 'colsample_bytree': 1,\n",
       " 'gamma': 0,\n",
       " 'importance_type': 'gain',\n",
       " 'learning_rate': 0.1,\n",
       " 'max_delta_step': 0,\n",
       " 'max_depth': 3,\n",
       " 'min_child_weight': 1,\n",
       " 'missing': None,\n",
       " 'n_estimators': 100,\n",
       " 'n_jobs': -1,\n",
       " 'nthread': None,\n",
       " 'objective': 'reg:squarederror',\n",
       " 'random_state': 42,\n",
       " 'reg_alpha': 0,\n",
       " 'reg_lambda': 1,\n",
       " 'scale_pos_weight': 1,\n",
       " 'seed': None,\n",
       " 'silent': None,\n",
       " 'subsample': 1,\n",
       " 'verbosity': 1}"
      ]
     },
     "execution_count": 80,
     "metadata": {},
     "output_type": "execute_result"
    }
   ],
   "source": [
    "xgb.get_params()"
   ]
  },
  {
   "cell_type": "code",
   "execution_count": null,
   "metadata": {
    "id": "lNkAoI3S70ut"
   },
   "outputs": [],
   "source": [
    "n_estimators = [50, 100, 200]\n",
    "max_depth = [5, 10, 15, 20]\n",
    "learning_rate = [0.1, 0.5, 0.9]\n",
    "subsample = [0.1, 0.3, 0.5, 0.9]\n",
    "colsample_bytree = [0.1, 0.3, 0.5, 0.9]\n",
    "\n",
    "param_distributions = dict(n_estimators=n_estimators,\n",
    "                           max_depth=max_depth,\n",
    "                           learning_rate=learning_rate,\n",
    "                           subsample=subsample,\n",
    "                           colsample_bytree=colsample_bytree)"
   ]
  },
  {
   "cell_type": "code",
   "execution_count": null,
   "metadata": {
    "colab": {
     "base_uri": "https://localhost:8080/"
    },
    "executionInfo": {
     "elapsed": 4066000,
     "status": "ok",
     "timestamp": 1662668870796,
     "user": {
      "displayName": "Srinath Nanduri",
      "userId": "16683609937496845667"
     },
     "user_tz": 420
    },
    "id": "TgsEsYvx-40E",
    "outputId": "1b680197-c3c8-4fb4-c7ba-923f68694cbe"
   },
   "outputs": [
    {
     "name": "stdout",
     "output_type": "stream",
     "text": [
      "XGBRegressor(colsample_bytree=0.5, learning_rate=0.5, max_depth=15,\n",
      "             n_estimators=50, n_jobs=-1, objective='reg:squarederror',\n",
      "             random_state=42, subsample=0.9)\n",
      "RMSE - Training Error: 3129.8755, Validation Error: 4838.3586, Test Error: 4858.8152\n",
      "MAE - Training Error: 1873.8871, Validation Error: 2789.0152, Test Error: 2794.4223\n",
      "MAPE - Training Error: 0.1837, Validation Error: 0.273, Test Error: 0.2749\n",
      "CPU times: user 4h 25min 59s, sys: 18.1 s, total: 4h 26min 17s\n",
      "Wall time: 1h 7min 45s\n"
     ]
    }
   ],
   "source": [
    "%%time\n",
    "XGB_model = try_model(hyper_tune(xgb, param_distributions))"
   ]
  },
  {
   "cell_type": "code",
   "execution_count": null,
   "metadata": {
    "colab": {
     "base_uri": "https://localhost:8080/"
    },
    "executionInfo": {
     "elapsed": 28,
     "status": "ok",
     "timestamp": 1662668870797,
     "user": {
      "displayName": "Srinath Nanduri",
      "userId": "16683609937496845667"
     },
     "user_tz": 420
    },
    "id": "do2eLWZSQ_1v",
    "outputId": "d8d9912f-b474-4f4f-bb63-bd391d6b2470"
   },
   "outputs": [
    {
     "data": {
      "text/plain": [
       "((3129.875470632183, 4838.358611758345, 4858.815180512766),\n",
       " (1873.8871498107837, 2789.015214854243, 2794.4223087742976),\n",
       " (0.18373366933910476, 0.2729571954478457, 0.2748630165524575))"
      ]
     },
     "execution_count": 83,
     "metadata": {},
     "output_type": "execute_result"
    }
   ],
   "source": [
    "XGB_model"
   ]
  },
  {
   "cell_type": "markdown",
   "metadata": {
    "id": "2H2D0qV_J_SY"
   },
   "source": [
    "# 11. Comparing Results"
   ]
  },
  {
   "cell_type": "code",
   "execution_count": null,
   "metadata": {
    "id": "CN5LPRfNLznV"
   },
   "outputs": [],
   "source": [
    "def results_list(model):\n",
    "  errors = model[0] + model[1] + model[2]\n",
    "  return list(errors)\n",
    "\n",
    "mean_list = results_list(mean_model)\n",
    "lin_list = results_list(lin_model)\n",
    "rid_list = results_list(rid_model)\n",
    "las_list = results_list(las_model)\n",
    "ela_list = results_list(ela_model)\n",
    "base_tree_list = results_list(base_tree)\n",
    "dec_list = results_list(dec_model)\n",
    "base_rf_list = results_list(base_rf)\n",
    "ran_list = results_list(rf_model)\n",
    "base_XGB_list = results_list(base_xgb)\n",
    "XGB_list = results_list(XGB_model)\n",
    "\n",
    "results_matrix = np.array([mean_list, lin_list, rid_list, las_list, ela_list, base_tree_list, dec_list, base_rf_list, ran_list, base_XGB_list, XGB_list])"
   ]
  },
  {
   "cell_type": "code",
   "execution_count": null,
   "metadata": {
    "colab": {
     "base_uri": "https://localhost:8080/",
     "height": 394
    },
    "executionInfo": {
     "elapsed": 257,
     "status": "ok",
     "timestamp": 1662675108860,
     "user": {
      "displayName": "Srinath Nanduri",
      "userId": "16683609937496845667"
     },
     "user_tz": 420
    },
    "id": "6EjML0PaS5z2",
    "outputId": "239387fb-5df4-4c77-c9ac-cd1d48f6f226"
   },
   "outputs": [
    {
     "data": {
      "text/html": [
       "\n",
       "  <div id=\"df-175c5f65-4e00-4fb6-a886-8f25fc688f42\">\n",
       "    <div class=\"colab-df-container\">\n",
       "      <div>\n",
       "<style scoped>\n",
       "    .dataframe tbody tr th:only-of-type {\n",
       "        vertical-align: middle;\n",
       "    }\n",
       "\n",
       "    .dataframe tbody tr th {\n",
       "        vertical-align: top;\n",
       "    }\n",
       "\n",
       "    .dataframe thead th {\n",
       "        text-align: right;\n",
       "    }\n",
       "</style>\n",
       "<table border=\"1\" class=\"dataframe\">\n",
       "  <thead>\n",
       "    <tr style=\"text-align: right;\">\n",
       "      <th></th>\n",
       "      <th>RMSE Training</th>\n",
       "      <th>RMSE Validation</th>\n",
       "      <th>RMSE Test</th>\n",
       "      <th>MAE Training</th>\n",
       "      <th>MAE Validation</th>\n",
       "      <th>MAE Test</th>\n",
       "      <th>MAPE Training</th>\n",
       "      <th>MAPE Validation</th>\n",
       "      <th>MAPE Test</th>\n",
       "      <th>Model</th>\n",
       "    </tr>\n",
       "  </thead>\n",
       "  <tbody>\n",
       "    <tr>\n",
       "      <th>0</th>\n",
       "      <td>13627.271485</td>\n",
       "      <td>13631.053781</td>\n",
       "      <td>13651.465713</td>\n",
       "      <td>10838.261519</td>\n",
       "      <td>10820.710988</td>\n",
       "      <td>10843.077259</td>\n",
       "      <td>1.226979</td>\n",
       "      <td>1.215069</td>\n",
       "      <td>1.219765</td>\n",
       "      <td>Simple Model - Mean Value</td>\n",
       "    </tr>\n",
       "    <tr>\n",
       "      <th>1</th>\n",
       "      <td>10217.824326</td>\n",
       "      <td>10207.162687</td>\n",
       "      <td>10208.293998</td>\n",
       "      <td>7675.201600</td>\n",
       "      <td>7652.297017</td>\n",
       "      <td>7645.802923</td>\n",
       "      <td>0.714678</td>\n",
       "      <td>0.704721</td>\n",
       "      <td>0.704965</td>\n",
       "      <td>Linear Regression</td>\n",
       "    </tr>\n",
       "    <tr>\n",
       "      <th>2</th>\n",
       "      <td>10217.824557</td>\n",
       "      <td>10207.159297</td>\n",
       "      <td>10208.300530</td>\n",
       "      <td>7675.229038</td>\n",
       "      <td>7652.321982</td>\n",
       "      <td>7645.834706</td>\n",
       "      <td>0.714697</td>\n",
       "      <td>0.704738</td>\n",
       "      <td>0.704983</td>\n",
       "      <td>Ridge</td>\n",
       "    </tr>\n",
       "    <tr>\n",
       "      <th>3</th>\n",
       "      <td>10217.838983</td>\n",
       "      <td>10207.155481</td>\n",
       "      <td>10208.344606</td>\n",
       "      <td>7675.391090</td>\n",
       "      <td>7652.429277</td>\n",
       "      <td>7645.984120</td>\n",
       "      <td>0.714785</td>\n",
       "      <td>0.704808</td>\n",
       "      <td>0.705056</td>\n",
       "      <td>Lasso</td>\n",
       "    </tr>\n",
       "    <tr>\n",
       "      <th>4</th>\n",
       "      <td>12707.111706</td>\n",
       "      <td>12710.767634</td>\n",
       "      <td>12730.113605</td>\n",
       "      <td>9940.907010</td>\n",
       "      <td>9936.507602</td>\n",
       "      <td>9956.533831</td>\n",
       "      <td>1.117093</td>\n",
       "      <td>1.106827</td>\n",
       "      <td>1.110896</td>\n",
       "      <td>Elastic Net</td>\n",
       "    </tr>\n",
       "    <tr>\n",
       "      <th>5</th>\n",
       "      <td>371.145517</td>\n",
       "      <td>5657.329297</td>\n",
       "      <td>5647.764030</td>\n",
       "      <td>31.120931</td>\n",
       "      <td>2365.574674</td>\n",
       "      <td>2363.124492</td>\n",
       "      <td>0.003720</td>\n",
       "      <td>0.234858</td>\n",
       "      <td>0.236005</td>\n",
       "      <td>Decision Tree Regressor - base</td>\n",
       "    </tr>\n",
       "    <tr>\n",
       "      <th>6</th>\n",
       "      <td>5391.606371</td>\n",
       "      <td>5932.277083</td>\n",
       "      <td>5943.883548</td>\n",
       "      <td>3360.808401</td>\n",
       "      <td>3663.646108</td>\n",
       "      <td>3660.124430</td>\n",
       "      <td>0.305134</td>\n",
       "      <td>0.323479</td>\n",
       "      <td>0.325133</td>\n",
       "      <td>Decision Tree Regressor - hypertuned</td>\n",
       "    </tr>\n",
       "    <tr>\n",
       "      <th>7</th>\n",
       "      <td>1674.270631</td>\n",
       "      <td>4373.172703</td>\n",
       "      <td>4389.526153</td>\n",
       "      <td>780.827773</td>\n",
       "      <td>2049.678738</td>\n",
       "      <td>2053.804249</td>\n",
       "      <td>0.082053</td>\n",
       "      <td>0.210682</td>\n",
       "      <td>0.212003</td>\n",
       "      <td>Random Forest Regressor - base</td>\n",
       "    </tr>\n",
       "    <tr>\n",
       "      <th>8</th>\n",
       "      <td>8245.171962</td>\n",
       "      <td>8230.038441</td>\n",
       "      <td>8239.501613</td>\n",
       "      <td>5909.503281</td>\n",
       "      <td>5897.724036</td>\n",
       "      <td>5887.568667</td>\n",
       "      <td>0.568751</td>\n",
       "      <td>0.558347</td>\n",
       "      <td>0.559456</td>\n",
       "      <td>Random Forest Regressor - hypertuned</td>\n",
       "    </tr>\n",
       "    <tr>\n",
       "      <th>9</th>\n",
       "      <td>6831.715772</td>\n",
       "      <td>6811.848745</td>\n",
       "      <td>6828.071388</td>\n",
       "      <td>4582.047337</td>\n",
       "      <td>4585.616119</td>\n",
       "      <td>4581.543617</td>\n",
       "      <td>0.393403</td>\n",
       "      <td>0.385815</td>\n",
       "      <td>0.387282</td>\n",
       "      <td>XGB Regressor - base</td>\n",
       "    </tr>\n",
       "    <tr>\n",
       "      <th>10</th>\n",
       "      <td>3129.875471</td>\n",
       "      <td>4838.358612</td>\n",
       "      <td>4858.815181</td>\n",
       "      <td>1873.887150</td>\n",
       "      <td>2789.015215</td>\n",
       "      <td>2794.422309</td>\n",
       "      <td>0.183734</td>\n",
       "      <td>0.272957</td>\n",
       "      <td>0.274863</td>\n",
       "      <td>XGB Regressor - hypertuned</td>\n",
       "    </tr>\n",
       "  </tbody>\n",
       "</table>\n",
       "</div>\n",
       "      <button class=\"colab-df-convert\" onclick=\"convertToInteractive('df-175c5f65-4e00-4fb6-a886-8f25fc688f42')\"\n",
       "              title=\"Convert this dataframe to an interactive table.\"\n",
       "              style=\"display:none;\">\n",
       "        \n",
       "  <svg xmlns=\"http://www.w3.org/2000/svg\" height=\"24px\"viewBox=\"0 0 24 24\"\n",
       "       width=\"24px\">\n",
       "    <path d=\"M0 0h24v24H0V0z\" fill=\"none\"/>\n",
       "    <path d=\"M18.56 5.44l.94 2.06.94-2.06 2.06-.94-2.06-.94-.94-2.06-.94 2.06-2.06.94zm-11 1L8.5 8.5l.94-2.06 2.06-.94-2.06-.94L8.5 2.5l-.94 2.06-2.06.94zm10 10l.94 2.06.94-2.06 2.06-.94-2.06-.94-.94-2.06-.94 2.06-2.06.94z\"/><path d=\"M17.41 7.96l-1.37-1.37c-.4-.4-.92-.59-1.43-.59-.52 0-1.04.2-1.43.59L10.3 9.45l-7.72 7.72c-.78.78-.78 2.05 0 2.83L4 21.41c.39.39.9.59 1.41.59.51 0 1.02-.2 1.41-.59l7.78-7.78 2.81-2.81c.8-.78.8-2.07 0-2.86zM5.41 20L4 18.59l7.72-7.72 1.47 1.35L5.41 20z\"/>\n",
       "  </svg>\n",
       "      </button>\n",
       "      \n",
       "  <style>\n",
       "    .colab-df-container {\n",
       "      display:flex;\n",
       "      flex-wrap:wrap;\n",
       "      gap: 12px;\n",
       "    }\n",
       "\n",
       "    .colab-df-convert {\n",
       "      background-color: #E8F0FE;\n",
       "      border: none;\n",
       "      border-radius: 50%;\n",
       "      cursor: pointer;\n",
       "      display: none;\n",
       "      fill: #1967D2;\n",
       "      height: 32px;\n",
       "      padding: 0 0 0 0;\n",
       "      width: 32px;\n",
       "    }\n",
       "\n",
       "    .colab-df-convert:hover {\n",
       "      background-color: #E2EBFA;\n",
       "      box-shadow: 0px 1px 2px rgba(60, 64, 67, 0.3), 0px 1px 3px 1px rgba(60, 64, 67, 0.15);\n",
       "      fill: #174EA6;\n",
       "    }\n",
       "\n",
       "    [theme=dark] .colab-df-convert {\n",
       "      background-color: #3B4455;\n",
       "      fill: #D2E3FC;\n",
       "    }\n",
       "\n",
       "    [theme=dark] .colab-df-convert:hover {\n",
       "      background-color: #434B5C;\n",
       "      box-shadow: 0px 1px 3px 1px rgba(0, 0, 0, 0.15);\n",
       "      filter: drop-shadow(0px 1px 2px rgba(0, 0, 0, 0.3));\n",
       "      fill: #FFFFFF;\n",
       "    }\n",
       "  </style>\n",
       "\n",
       "      <script>\n",
       "        const buttonEl =\n",
       "          document.querySelector('#df-175c5f65-4e00-4fb6-a886-8f25fc688f42 button.colab-df-convert');\n",
       "        buttonEl.style.display =\n",
       "          google.colab.kernel.accessAllowed ? 'block' : 'none';\n",
       "\n",
       "        async function convertToInteractive(key) {\n",
       "          const element = document.querySelector('#df-175c5f65-4e00-4fb6-a886-8f25fc688f42');\n",
       "          const dataTable =\n",
       "            await google.colab.kernel.invokeFunction('convertToInteractive',\n",
       "                                                     [key], {});\n",
       "          if (!dataTable) return;\n",
       "\n",
       "          const docLinkHtml = 'Like what you see? Visit the ' +\n",
       "            '<a target=\"_blank\" href=https://colab.research.google.com/notebooks/data_table.ipynb>data table notebook</a>'\n",
       "            + ' to learn more about interactive tables.';\n",
       "          element.innerHTML = '';\n",
       "          dataTable['output_type'] = 'display_data';\n",
       "          await google.colab.output.renderOutput(dataTable, element);\n",
       "          const docLink = document.createElement('div');\n",
       "          docLink.innerHTML = docLinkHtml;\n",
       "          element.appendChild(docLink);\n",
       "        }\n",
       "      </script>\n",
       "    </div>\n",
       "  </div>\n",
       "  "
      ],
      "text/plain": [
       "    RMSE Training  RMSE Validation     RMSE Test  MAE Training  \\\n",
       "0    13627.271485     13631.053781  13651.465713  10838.261519   \n",
       "1    10217.824326     10207.162687  10208.293998   7675.201600   \n",
       "2    10217.824557     10207.159297  10208.300530   7675.229038   \n",
       "3    10217.838983     10207.155481  10208.344606   7675.391090   \n",
       "4    12707.111706     12710.767634  12730.113605   9940.907010   \n",
       "5      371.145517      5657.329297   5647.764030     31.120931   \n",
       "6     5391.606371      5932.277083   5943.883548   3360.808401   \n",
       "7     1674.270631      4373.172703   4389.526153    780.827773   \n",
       "8     8245.171962      8230.038441   8239.501613   5909.503281   \n",
       "9     6831.715772      6811.848745   6828.071388   4582.047337   \n",
       "10    3129.875471      4838.358612   4858.815181   1873.887150   \n",
       "\n",
       "    MAE Validation      MAE Test  MAPE Training  MAPE Validation  MAPE Test  \\\n",
       "0     10820.710988  10843.077259       1.226979         1.215069   1.219765   \n",
       "1      7652.297017   7645.802923       0.714678         0.704721   0.704965   \n",
       "2      7652.321982   7645.834706       0.714697         0.704738   0.704983   \n",
       "3      7652.429277   7645.984120       0.714785         0.704808   0.705056   \n",
       "4      9936.507602   9956.533831       1.117093         1.106827   1.110896   \n",
       "5      2365.574674   2363.124492       0.003720         0.234858   0.236005   \n",
       "6      3663.646108   3660.124430       0.305134         0.323479   0.325133   \n",
       "7      2049.678738   2053.804249       0.082053         0.210682   0.212003   \n",
       "8      5897.724036   5887.568667       0.568751         0.558347   0.559456   \n",
       "9      4585.616119   4581.543617       0.393403         0.385815   0.387282   \n",
       "10     2789.015215   2794.422309       0.183734         0.272957   0.274863   \n",
       "\n",
       "                                   Model  \n",
       "0              Simple Model - Mean Value  \n",
       "1                      Linear Regression  \n",
       "2                                  Ridge  \n",
       "3                                  Lasso  \n",
       "4                            Elastic Net  \n",
       "5         Decision Tree Regressor - base  \n",
       "6   Decision Tree Regressor - hypertuned  \n",
       "7         Random Forest Regressor - base  \n",
       "8   Random Forest Regressor - hypertuned  \n",
       "9                   XGB Regressor - base  \n",
       "10            XGB Regressor - hypertuned  "
      ]
     },
     "execution_count": 137,
     "metadata": {},
     "output_type": "execute_result"
    }
   ],
   "source": [
    "results_df = pd.DataFrame(results_matrix, columns=[\"RMSE Training\", \"RMSE Validation\", \"RMSE Test\", \"MAE Training\", \"MAE Validation\", \"MAE Test\", \"MAPE Training\", \"MAPE Validation\", \"MAPE Test\"])\n",
    "results_df[\"Model\"] = models\n",
    "results_df"
   ]
  },
  {
   "cell_type": "markdown",
   "metadata": {
    "id": "licncbm1HQLv"
   },
   "source": [
    "For all three of the test sets, the base Random Forest Regressor model shows by far the biggest improvement over the simple Mean Value model."
   ]
  },
  {
   "cell_type": "code",
   "execution_count": null,
   "metadata": {
    "colab": {
     "base_uri": "https://localhost:8080/",
     "height": 394
    },
    "executionInfo": {
     "elapsed": 231,
     "status": "ok",
     "timestamp": 1662675110079,
     "user": {
      "displayName": "Srinath Nanduri",
      "userId": "16683609937496845667"
     },
     "user_tz": 420
    },
    "id": "Z8tzYeBfAlBE",
    "outputId": "61fc2b1a-5298-405f-d46f-55203acf1962"
   },
   "outputs": [
    {
     "data": {
      "text/html": [
       "\n",
       "  <div id=\"df-05e41656-3ddc-4b75-b99b-94ee33540435\">\n",
       "    <div class=\"colab-df-container\">\n",
       "      <div>\n",
       "<style scoped>\n",
       "    .dataframe tbody tr th:only-of-type {\n",
       "        vertical-align: middle;\n",
       "    }\n",
       "\n",
       "    .dataframe tbody tr th {\n",
       "        vertical-align: top;\n",
       "    }\n",
       "\n",
       "    .dataframe thead th {\n",
       "        text-align: right;\n",
       "    }\n",
       "</style>\n",
       "<table border=\"1\" class=\"dataframe\">\n",
       "  <thead>\n",
       "    <tr style=\"text-align: right;\">\n",
       "      <th></th>\n",
       "      <th>RMSE Test % Difference</th>\n",
       "      <th>Model</th>\n",
       "    </tr>\n",
       "  </thead>\n",
       "  <tbody>\n",
       "    <tr>\n",
       "      <th>7</th>\n",
       "      <td>311.000897</td>\n",
       "      <td>Random Forest Regressor - base</td>\n",
       "    </tr>\n",
       "    <tr>\n",
       "      <th>10</th>\n",
       "      <td>280.962852</td>\n",
       "      <td>XGB Regressor - hypertuned</td>\n",
       "    </tr>\n",
       "    <tr>\n",
       "      <th>5</th>\n",
       "      <td>241.714520</td>\n",
       "      <td>Decision Tree Regressor - base</td>\n",
       "    </tr>\n",
       "    <tr>\n",
       "      <th>6</th>\n",
       "      <td>229.672496</td>\n",
       "      <td>Decision Tree Regressor - hypertuned</td>\n",
       "    </tr>\n",
       "    <tr>\n",
       "      <th>9</th>\n",
       "      <td>199.931502</td>\n",
       "      <td>XGB Regressor - base</td>\n",
       "    </tr>\n",
       "    <tr>\n",
       "      <th>8</th>\n",
       "      <td>165.683149</td>\n",
       "      <td>Random Forest Regressor - hypertuned</td>\n",
       "    </tr>\n",
       "    <tr>\n",
       "      <th>1</th>\n",
       "      <td>133.729159</td>\n",
       "      <td>Linear Regression</td>\n",
       "    </tr>\n",
       "    <tr>\n",
       "      <th>2</th>\n",
       "      <td>133.729073</td>\n",
       "      <td>Ridge</td>\n",
       "    </tr>\n",
       "    <tr>\n",
       "      <th>3</th>\n",
       "      <td>133.728496</td>\n",
       "      <td>Lasso</td>\n",
       "    </tr>\n",
       "    <tr>\n",
       "      <th>4</th>\n",
       "      <td>107.237580</td>\n",
       "      <td>Elastic Net</td>\n",
       "    </tr>\n",
       "    <tr>\n",
       "      <th>0</th>\n",
       "      <td>100.000000</td>\n",
       "      <td>Simple Model - Mean Value</td>\n",
       "    </tr>\n",
       "  </tbody>\n",
       "</table>\n",
       "</div>\n",
       "      <button class=\"colab-df-convert\" onclick=\"convertToInteractive('df-05e41656-3ddc-4b75-b99b-94ee33540435')\"\n",
       "              title=\"Convert this dataframe to an interactive table.\"\n",
       "              style=\"display:none;\">\n",
       "        \n",
       "  <svg xmlns=\"http://www.w3.org/2000/svg\" height=\"24px\"viewBox=\"0 0 24 24\"\n",
       "       width=\"24px\">\n",
       "    <path d=\"M0 0h24v24H0V0z\" fill=\"none\"/>\n",
       "    <path d=\"M18.56 5.44l.94 2.06.94-2.06 2.06-.94-2.06-.94-.94-2.06-.94 2.06-2.06.94zm-11 1L8.5 8.5l.94-2.06 2.06-.94-2.06-.94L8.5 2.5l-.94 2.06-2.06.94zm10 10l.94 2.06.94-2.06 2.06-.94-2.06-.94-.94-2.06-.94 2.06-2.06.94z\"/><path d=\"M17.41 7.96l-1.37-1.37c-.4-.4-.92-.59-1.43-.59-.52 0-1.04.2-1.43.59L10.3 9.45l-7.72 7.72c-.78.78-.78 2.05 0 2.83L4 21.41c.39.39.9.59 1.41.59.51 0 1.02-.2 1.41-.59l7.78-7.78 2.81-2.81c.8-.78.8-2.07 0-2.86zM5.41 20L4 18.59l7.72-7.72 1.47 1.35L5.41 20z\"/>\n",
       "  </svg>\n",
       "      </button>\n",
       "      \n",
       "  <style>\n",
       "    .colab-df-container {\n",
       "      display:flex;\n",
       "      flex-wrap:wrap;\n",
       "      gap: 12px;\n",
       "    }\n",
       "\n",
       "    .colab-df-convert {\n",
       "      background-color: #E8F0FE;\n",
       "      border: none;\n",
       "      border-radius: 50%;\n",
       "      cursor: pointer;\n",
       "      display: none;\n",
       "      fill: #1967D2;\n",
       "      height: 32px;\n",
       "      padding: 0 0 0 0;\n",
       "      width: 32px;\n",
       "    }\n",
       "\n",
       "    .colab-df-convert:hover {\n",
       "      background-color: #E2EBFA;\n",
       "      box-shadow: 0px 1px 2px rgba(60, 64, 67, 0.3), 0px 1px 3px 1px rgba(60, 64, 67, 0.15);\n",
       "      fill: #174EA6;\n",
       "    }\n",
       "\n",
       "    [theme=dark] .colab-df-convert {\n",
       "      background-color: #3B4455;\n",
       "      fill: #D2E3FC;\n",
       "    }\n",
       "\n",
       "    [theme=dark] .colab-df-convert:hover {\n",
       "      background-color: #434B5C;\n",
       "      box-shadow: 0px 1px 3px 1px rgba(0, 0, 0, 0.15);\n",
       "      filter: drop-shadow(0px 1px 2px rgba(0, 0, 0, 0.3));\n",
       "      fill: #FFFFFF;\n",
       "    }\n",
       "  </style>\n",
       "\n",
       "      <script>\n",
       "        const buttonEl =\n",
       "          document.querySelector('#df-05e41656-3ddc-4b75-b99b-94ee33540435 button.colab-df-convert');\n",
       "        buttonEl.style.display =\n",
       "          google.colab.kernel.accessAllowed ? 'block' : 'none';\n",
       "\n",
       "        async function convertToInteractive(key) {\n",
       "          const element = document.querySelector('#df-05e41656-3ddc-4b75-b99b-94ee33540435');\n",
       "          const dataTable =\n",
       "            await google.colab.kernel.invokeFunction('convertToInteractive',\n",
       "                                                     [key], {});\n",
       "          if (!dataTable) return;\n",
       "\n",
       "          const docLinkHtml = 'Like what you see? Visit the ' +\n",
       "            '<a target=\"_blank\" href=https://colab.research.google.com/notebooks/data_table.ipynb>data table notebook</a>'\n",
       "            + ' to learn more about interactive tables.';\n",
       "          element.innerHTML = '';\n",
       "          dataTable['output_type'] = 'display_data';\n",
       "          await google.colab.output.renderOutput(dataTable, element);\n",
       "          const docLink = document.createElement('div');\n",
       "          docLink.innerHTML = docLinkHtml;\n",
       "          element.appendChild(docLink);\n",
       "        }\n",
       "      </script>\n",
       "    </div>\n",
       "  </div>\n",
       "  "
      ],
      "text/plain": [
       "    RMSE Test % Difference                                 Model\n",
       "7               311.000897        Random Forest Regressor - base\n",
       "10              280.962852            XGB Regressor - hypertuned\n",
       "5               241.714520        Decision Tree Regressor - base\n",
       "6               229.672496  Decision Tree Regressor - hypertuned\n",
       "9               199.931502                  XGB Regressor - base\n",
       "8               165.683149  Random Forest Regressor - hypertuned\n",
       "1               133.729159                     Linear Regression\n",
       "2               133.729073                                 Ridge\n",
       "3               133.728496                                 Lasso\n",
       "4               107.237580                           Elastic Net\n",
       "0               100.000000             Simple Model - Mean Value"
      ]
     },
     "execution_count": 138,
     "metadata": {},
     "output_type": "execute_result"
    }
   ],
   "source": [
    "RMSE_percent_diff = pd.DataFrame()\n",
    "RMSE_percent_diff['RMSE Test % Difference'] = (results_df.loc[0, 'RMSE Test'] / results_df['RMSE Test']) * 100\n",
    "RMSE_percent_diff['Model'] = results_df['Model']\n",
    "RMSE_percent_diff.sort_values('RMSE Test % Difference', ascending=False)"
   ]
  },
  {
   "cell_type": "code",
   "execution_count": null,
   "metadata": {
    "colab": {
     "base_uri": "https://localhost:8080/",
     "height": 394
    },
    "executionInfo": {
     "elapsed": 4,
     "status": "ok",
     "timestamp": 1662675110734,
     "user": {
      "displayName": "Srinath Nanduri",
      "userId": "16683609937496845667"
     },
     "user_tz": 420
    },
    "id": "aEoH-czqHnrm",
    "outputId": "7508b90e-26b8-4d82-f9f8-f85a91768941"
   },
   "outputs": [
    {
     "data": {
      "text/html": [
       "\n",
       "  <div id=\"df-88420ad3-3b09-4ffb-9d49-4b36a046522a\">\n",
       "    <div class=\"colab-df-container\">\n",
       "      <div>\n",
       "<style scoped>\n",
       "    .dataframe tbody tr th:only-of-type {\n",
       "        vertical-align: middle;\n",
       "    }\n",
       "\n",
       "    .dataframe tbody tr th {\n",
       "        vertical-align: top;\n",
       "    }\n",
       "\n",
       "    .dataframe thead th {\n",
       "        text-align: right;\n",
       "    }\n",
       "</style>\n",
       "<table border=\"1\" class=\"dataframe\">\n",
       "  <thead>\n",
       "    <tr style=\"text-align: right;\">\n",
       "      <th></th>\n",
       "      <th>MAE Test % Difference</th>\n",
       "      <th>Model</th>\n",
       "    </tr>\n",
       "  </thead>\n",
       "  <tbody>\n",
       "    <tr>\n",
       "      <th>7</th>\n",
       "      <td>527.950863</td>\n",
       "      <td>Random Forest Regressor - base</td>\n",
       "    </tr>\n",
       "    <tr>\n",
       "      <th>5</th>\n",
       "      <td>458.844944</td>\n",
       "      <td>Decision Tree Regressor - base</td>\n",
       "    </tr>\n",
       "    <tr>\n",
       "      <th>10</th>\n",
       "      <td>388.025719</td>\n",
       "      <td>XGB Regressor - hypertuned</td>\n",
       "    </tr>\n",
       "    <tr>\n",
       "      <th>6</th>\n",
       "      <td>296.248870</td>\n",
       "      <td>Decision Tree Regressor - hypertuned</td>\n",
       "    </tr>\n",
       "    <tr>\n",
       "      <th>9</th>\n",
       "      <td>236.668646</td>\n",
       "      <td>XGB Regressor - base</td>\n",
       "    </tr>\n",
       "    <tr>\n",
       "      <th>8</th>\n",
       "      <td>184.169016</td>\n",
       "      <td>Random Forest Regressor - hypertuned</td>\n",
       "    </tr>\n",
       "    <tr>\n",
       "      <th>1</th>\n",
       "      <td>141.817378</td>\n",
       "      <td>Linear Regression</td>\n",
       "    </tr>\n",
       "    <tr>\n",
       "      <th>2</th>\n",
       "      <td>141.816789</td>\n",
       "      <td>Ridge</td>\n",
       "    </tr>\n",
       "    <tr>\n",
       "      <th>3</th>\n",
       "      <td>141.814018</td>\n",
       "      <td>Lasso</td>\n",
       "    </tr>\n",
       "    <tr>\n",
       "      <th>4</th>\n",
       "      <td>108.904137</td>\n",
       "      <td>Elastic Net</td>\n",
       "    </tr>\n",
       "    <tr>\n",
       "      <th>0</th>\n",
       "      <td>100.000000</td>\n",
       "      <td>Simple Model - Mean Value</td>\n",
       "    </tr>\n",
       "  </tbody>\n",
       "</table>\n",
       "</div>\n",
       "      <button class=\"colab-df-convert\" onclick=\"convertToInteractive('df-88420ad3-3b09-4ffb-9d49-4b36a046522a')\"\n",
       "              title=\"Convert this dataframe to an interactive table.\"\n",
       "              style=\"display:none;\">\n",
       "        \n",
       "  <svg xmlns=\"http://www.w3.org/2000/svg\" height=\"24px\"viewBox=\"0 0 24 24\"\n",
       "       width=\"24px\">\n",
       "    <path d=\"M0 0h24v24H0V0z\" fill=\"none\"/>\n",
       "    <path d=\"M18.56 5.44l.94 2.06.94-2.06 2.06-.94-2.06-.94-.94-2.06-.94 2.06-2.06.94zm-11 1L8.5 8.5l.94-2.06 2.06-.94-2.06-.94L8.5 2.5l-.94 2.06-2.06.94zm10 10l.94 2.06.94-2.06 2.06-.94-2.06-.94-.94-2.06-.94 2.06-2.06.94z\"/><path d=\"M17.41 7.96l-1.37-1.37c-.4-.4-.92-.59-1.43-.59-.52 0-1.04.2-1.43.59L10.3 9.45l-7.72 7.72c-.78.78-.78 2.05 0 2.83L4 21.41c.39.39.9.59 1.41.59.51 0 1.02-.2 1.41-.59l7.78-7.78 2.81-2.81c.8-.78.8-2.07 0-2.86zM5.41 20L4 18.59l7.72-7.72 1.47 1.35L5.41 20z\"/>\n",
       "  </svg>\n",
       "      </button>\n",
       "      \n",
       "  <style>\n",
       "    .colab-df-container {\n",
       "      display:flex;\n",
       "      flex-wrap:wrap;\n",
       "      gap: 12px;\n",
       "    }\n",
       "\n",
       "    .colab-df-convert {\n",
       "      background-color: #E8F0FE;\n",
       "      border: none;\n",
       "      border-radius: 50%;\n",
       "      cursor: pointer;\n",
       "      display: none;\n",
       "      fill: #1967D2;\n",
       "      height: 32px;\n",
       "      padding: 0 0 0 0;\n",
       "      width: 32px;\n",
       "    }\n",
       "\n",
       "    .colab-df-convert:hover {\n",
       "      background-color: #E2EBFA;\n",
       "      box-shadow: 0px 1px 2px rgba(60, 64, 67, 0.3), 0px 1px 3px 1px rgba(60, 64, 67, 0.15);\n",
       "      fill: #174EA6;\n",
       "    }\n",
       "\n",
       "    [theme=dark] .colab-df-convert {\n",
       "      background-color: #3B4455;\n",
       "      fill: #D2E3FC;\n",
       "    }\n",
       "\n",
       "    [theme=dark] .colab-df-convert:hover {\n",
       "      background-color: #434B5C;\n",
       "      box-shadow: 0px 1px 3px 1px rgba(0, 0, 0, 0.15);\n",
       "      filter: drop-shadow(0px 1px 2px rgba(0, 0, 0, 0.3));\n",
       "      fill: #FFFFFF;\n",
       "    }\n",
       "  </style>\n",
       "\n",
       "      <script>\n",
       "        const buttonEl =\n",
       "          document.querySelector('#df-88420ad3-3b09-4ffb-9d49-4b36a046522a button.colab-df-convert');\n",
       "        buttonEl.style.display =\n",
       "          google.colab.kernel.accessAllowed ? 'block' : 'none';\n",
       "\n",
       "        async function convertToInteractive(key) {\n",
       "          const element = document.querySelector('#df-88420ad3-3b09-4ffb-9d49-4b36a046522a');\n",
       "          const dataTable =\n",
       "            await google.colab.kernel.invokeFunction('convertToInteractive',\n",
       "                                                     [key], {});\n",
       "          if (!dataTable) return;\n",
       "\n",
       "          const docLinkHtml = 'Like what you see? Visit the ' +\n",
       "            '<a target=\"_blank\" href=https://colab.research.google.com/notebooks/data_table.ipynb>data table notebook</a>'\n",
       "            + ' to learn more about interactive tables.';\n",
       "          element.innerHTML = '';\n",
       "          dataTable['output_type'] = 'display_data';\n",
       "          await google.colab.output.renderOutput(dataTable, element);\n",
       "          const docLink = document.createElement('div');\n",
       "          docLink.innerHTML = docLinkHtml;\n",
       "          element.appendChild(docLink);\n",
       "        }\n",
       "      </script>\n",
       "    </div>\n",
       "  </div>\n",
       "  "
      ],
      "text/plain": [
       "    MAE Test % Difference                                 Model\n",
       "7              527.950863        Random Forest Regressor - base\n",
       "5              458.844944        Decision Tree Regressor - base\n",
       "10             388.025719            XGB Regressor - hypertuned\n",
       "6              296.248870  Decision Tree Regressor - hypertuned\n",
       "9              236.668646                  XGB Regressor - base\n",
       "8              184.169016  Random Forest Regressor - hypertuned\n",
       "1              141.817378                     Linear Regression\n",
       "2              141.816789                                 Ridge\n",
       "3              141.814018                                 Lasso\n",
       "4              108.904137                           Elastic Net\n",
       "0              100.000000             Simple Model - Mean Value"
      ]
     },
     "execution_count": 139,
     "metadata": {},
     "output_type": "execute_result"
    }
   ],
   "source": [
    "MAE_percent_diff = pd.DataFrame()\n",
    "MAE_percent_diff['MAE Test % Difference'] = (results_df.loc[0, 'MAE Test'] / results_df['MAE Test']) * 100\n",
    "MAE_percent_diff['Model'] = results_df['Model']\n",
    "MAE_percent_diff.sort_values('MAE Test % Difference', ascending=False)"
   ]
  },
  {
   "cell_type": "code",
   "execution_count": null,
   "metadata": {
    "colab": {
     "base_uri": "https://localhost:8080/",
     "height": 394
    },
    "executionInfo": {
     "elapsed": 3,
     "status": "ok",
     "timestamp": 1662675111246,
     "user": {
      "displayName": "Srinath Nanduri",
      "userId": "16683609937496845667"
     },
     "user_tz": 420
    },
    "id": "lWlHG43YH-wY",
    "outputId": "85a88867-2d61-458e-94cb-71d1db3c0bf6"
   },
   "outputs": [
    {
     "data": {
      "text/html": [
       "\n",
       "  <div id=\"df-09cca2a0-3f16-46f1-b993-965200e67e82\">\n",
       "    <div class=\"colab-df-container\">\n",
       "      <div>\n",
       "<style scoped>\n",
       "    .dataframe tbody tr th:only-of-type {\n",
       "        vertical-align: middle;\n",
       "    }\n",
       "\n",
       "    .dataframe tbody tr th {\n",
       "        vertical-align: top;\n",
       "    }\n",
       "\n",
       "    .dataframe thead th {\n",
       "        text-align: right;\n",
       "    }\n",
       "</style>\n",
       "<table border=\"1\" class=\"dataframe\">\n",
       "  <thead>\n",
       "    <tr style=\"text-align: right;\">\n",
       "      <th></th>\n",
       "      <th>MAPE Test % Difference</th>\n",
       "      <th>Model</th>\n",
       "    </tr>\n",
       "  </thead>\n",
       "  <tbody>\n",
       "    <tr>\n",
       "      <th>7</th>\n",
       "      <td>575.351576</td>\n",
       "      <td>Random Forest Regressor - base</td>\n",
       "    </tr>\n",
       "    <tr>\n",
       "      <th>5</th>\n",
       "      <td>516.839157</td>\n",
       "      <td>Decision Tree Regressor - base</td>\n",
       "    </tr>\n",
       "    <tr>\n",
       "      <th>10</th>\n",
       "      <td>443.772024</td>\n",
       "      <td>XGB Regressor - hypertuned</td>\n",
       "    </tr>\n",
       "    <tr>\n",
       "      <th>6</th>\n",
       "      <td>375.159098</td>\n",
       "      <td>Decision Tree Regressor - hypertuned</td>\n",
       "    </tr>\n",
       "    <tr>\n",
       "      <th>9</th>\n",
       "      <td>314.955437</td>\n",
       "      <td>XGB Regressor - base</td>\n",
       "    </tr>\n",
       "    <tr>\n",
       "      <th>8</th>\n",
       "      <td>218.026918</td>\n",
       "      <td>Random Forest Regressor - hypertuned</td>\n",
       "    </tr>\n",
       "    <tr>\n",
       "      <th>1</th>\n",
       "      <td>173.024846</td>\n",
       "      <td>Linear Regression</td>\n",
       "    </tr>\n",
       "    <tr>\n",
       "      <th>2</th>\n",
       "      <td>173.020593</td>\n",
       "      <td>Ridge</td>\n",
       "    </tr>\n",
       "    <tr>\n",
       "      <th>3</th>\n",
       "      <td>173.002704</td>\n",
       "      <td>Lasso</td>\n",
       "    </tr>\n",
       "    <tr>\n",
       "      <th>4</th>\n",
       "      <td>109.800099</td>\n",
       "      <td>Elastic Net</td>\n",
       "    </tr>\n",
       "    <tr>\n",
       "      <th>0</th>\n",
       "      <td>100.000000</td>\n",
       "      <td>Simple Model - Mean Value</td>\n",
       "    </tr>\n",
       "  </tbody>\n",
       "</table>\n",
       "</div>\n",
       "      <button class=\"colab-df-convert\" onclick=\"convertToInteractive('df-09cca2a0-3f16-46f1-b993-965200e67e82')\"\n",
       "              title=\"Convert this dataframe to an interactive table.\"\n",
       "              style=\"display:none;\">\n",
       "        \n",
       "  <svg xmlns=\"http://www.w3.org/2000/svg\" height=\"24px\"viewBox=\"0 0 24 24\"\n",
       "       width=\"24px\">\n",
       "    <path d=\"M0 0h24v24H0V0z\" fill=\"none\"/>\n",
       "    <path d=\"M18.56 5.44l.94 2.06.94-2.06 2.06-.94-2.06-.94-.94-2.06-.94 2.06-2.06.94zm-11 1L8.5 8.5l.94-2.06 2.06-.94-2.06-.94L8.5 2.5l-.94 2.06-2.06.94zm10 10l.94 2.06.94-2.06 2.06-.94-2.06-.94-.94-2.06-.94 2.06-2.06.94z\"/><path d=\"M17.41 7.96l-1.37-1.37c-.4-.4-.92-.59-1.43-.59-.52 0-1.04.2-1.43.59L10.3 9.45l-7.72 7.72c-.78.78-.78 2.05 0 2.83L4 21.41c.39.39.9.59 1.41.59.51 0 1.02-.2 1.41-.59l7.78-7.78 2.81-2.81c.8-.78.8-2.07 0-2.86zM5.41 20L4 18.59l7.72-7.72 1.47 1.35L5.41 20z\"/>\n",
       "  </svg>\n",
       "      </button>\n",
       "      \n",
       "  <style>\n",
       "    .colab-df-container {\n",
       "      display:flex;\n",
       "      flex-wrap:wrap;\n",
       "      gap: 12px;\n",
       "    }\n",
       "\n",
       "    .colab-df-convert {\n",
       "      background-color: #E8F0FE;\n",
       "      border: none;\n",
       "      border-radius: 50%;\n",
       "      cursor: pointer;\n",
       "      display: none;\n",
       "      fill: #1967D2;\n",
       "      height: 32px;\n",
       "      padding: 0 0 0 0;\n",
       "      width: 32px;\n",
       "    }\n",
       "\n",
       "    .colab-df-convert:hover {\n",
       "      background-color: #E2EBFA;\n",
       "      box-shadow: 0px 1px 2px rgba(60, 64, 67, 0.3), 0px 1px 3px 1px rgba(60, 64, 67, 0.15);\n",
       "      fill: #174EA6;\n",
       "    }\n",
       "\n",
       "    [theme=dark] .colab-df-convert {\n",
       "      background-color: #3B4455;\n",
       "      fill: #D2E3FC;\n",
       "    }\n",
       "\n",
       "    [theme=dark] .colab-df-convert:hover {\n",
       "      background-color: #434B5C;\n",
       "      box-shadow: 0px 1px 3px 1px rgba(0, 0, 0, 0.15);\n",
       "      filter: drop-shadow(0px 1px 2px rgba(0, 0, 0, 0.3));\n",
       "      fill: #FFFFFF;\n",
       "    }\n",
       "  </style>\n",
       "\n",
       "      <script>\n",
       "        const buttonEl =\n",
       "          document.querySelector('#df-09cca2a0-3f16-46f1-b993-965200e67e82 button.colab-df-convert');\n",
       "        buttonEl.style.display =\n",
       "          google.colab.kernel.accessAllowed ? 'block' : 'none';\n",
       "\n",
       "        async function convertToInteractive(key) {\n",
       "          const element = document.querySelector('#df-09cca2a0-3f16-46f1-b993-965200e67e82');\n",
       "          const dataTable =\n",
       "            await google.colab.kernel.invokeFunction('convertToInteractive',\n",
       "                                                     [key], {});\n",
       "          if (!dataTable) return;\n",
       "\n",
       "          const docLinkHtml = 'Like what you see? Visit the ' +\n",
       "            '<a target=\"_blank\" href=https://colab.research.google.com/notebooks/data_table.ipynb>data table notebook</a>'\n",
       "            + ' to learn more about interactive tables.';\n",
       "          element.innerHTML = '';\n",
       "          dataTable['output_type'] = 'display_data';\n",
       "          await google.colab.output.renderOutput(dataTable, element);\n",
       "          const docLink = document.createElement('div');\n",
       "          docLink.innerHTML = docLinkHtml;\n",
       "          element.appendChild(docLink);\n",
       "        }\n",
       "      </script>\n",
       "    </div>\n",
       "  </div>\n",
       "  "
      ],
      "text/plain": [
       "    MAPE Test % Difference                                 Model\n",
       "7               575.351576        Random Forest Regressor - base\n",
       "5               516.839157        Decision Tree Regressor - base\n",
       "10              443.772024            XGB Regressor - hypertuned\n",
       "6               375.159098  Decision Tree Regressor - hypertuned\n",
       "9               314.955437                  XGB Regressor - base\n",
       "8               218.026918  Random Forest Regressor - hypertuned\n",
       "1               173.024846                     Linear Regression\n",
       "2               173.020593                                 Ridge\n",
       "3               173.002704                                 Lasso\n",
       "4               109.800099                           Elastic Net\n",
       "0               100.000000             Simple Model - Mean Value"
      ]
     },
     "execution_count": 140,
     "metadata": {},
     "output_type": "execute_result"
    }
   ],
   "source": [
    "MAPE_percent_diff = pd.DataFrame()\n",
    "MAPE_percent_diff['MAPE Test % Difference'] = (results_df.loc[0, 'MAPE Test'] / results_df['MAPE Test']) * 100\n",
    "MAPE_percent_diff['Model'] = results_df['Model']\n",
    "MAPE_percent_diff.sort_values('MAPE Test % Difference', ascending=False)"
   ]
  },
  {
   "cell_type": "markdown",
   "metadata": {
    "id": "io_9uikpW3oL"
   },
   "source": [
    "# 12. Conclusion, Future Improvements and References"
   ]
  },
  {
   "cell_type": "markdown",
   "metadata": {
    "id": "9DvT6GWd98uy"
   },
   "source": [
    "## i. Conclusion\n",
    "\n",
    "The intention for this project is to show the use of machine learning in taking large sets of data and using it to display useful information. In this case its a prediction of used car prices given factors such as the manufacturer, the year of manufacturing, features in the car, number of cylinders, condition etc. The various machine learning models used in this project (linear models, tree based models, gradient boosting) all showed a visible improvement over the base mean value model, the lowest of which being 7.24%."
   ]
  },
  {
   "cell_type": "markdown",
   "metadata": {
    "id": "gfUNLjKH-JZt"
   },
   "source": [
    "## ii. Future Improvements\n",
    "\n",
    "Future improvements for this project could be more time spent with hyperparameter tuning to further improve the results. Additionally, some more feature engineering to provide the machine learning models with information to decrease the error."
   ]
  },
  {
   "cell_type": "markdown",
   "metadata": {
    "id": "2OhSuQ3tRe_r"
   },
   "source": [
    "## iii. References\n",
    "\n",
    "- https://scikit-learn.org/stable/modules/classes.html#\n",
    "- https://stackoverflow.com/\n",
    "- https://github.com/dmlc/xgboost/issues/4599\n",
    "- https://jovian.ai/learn/zero-to-data-analyst-bootcamp/lesson/linear-regression-with-scikit-learn\n",
    "- https://jovian.ai/learn/zero-to-data-analyst-bootcamp/lesson/decision-trees-and-random-forests\n",
    "- https://jovian.ai/learn/zero-to-data-analyst-bootcamp/lesson/how-to-approach-machine-learning-problems\n",
    "- https://jovian.ai/learn/zero-to-data-analyst-bootcamp/lesson/gradient-boosting-machines-with-xgboost\n",
    "- https://seaborn.pydata.org/\n",
    "- https://datascience.stackexchange.com/questions/109322/why-does-gridsearchcv-fit-fail\n",
    "- https://www.kaggle.com/datasets/austinreese/craigslist-carstrucks-data\n",
    "- https://www.kaggle.com/code/ashmani999/preowned-car-price-prediction\n",
    "- https://www.kaggle.com/code/jominjae/used-car-price-prediction-lgb\n"
   ]
  },
  {
   "cell_type": "markdown",
   "metadata": {
    "id": "HoLbBokU5xu7"
   },
   "source": [
    "# 13. Save the Project"
   ]
  },
  {
   "cell_type": "code",
   "execution_count": null,
   "metadata": {
    "colab": {
     "base_uri": "https://localhost:8080/",
     "height": 87
    },
    "executionInfo": {
     "elapsed": 3650,
     "status": "ok",
     "timestamp": 1662677046875,
     "user": {
      "displayName": "Srinath Nanduri",
      "userId": "16683609937496845667"
     },
     "user_tz": 420
    },
    "id": "qbcnTa3no_bj",
    "outputId": "3e4e2acf-69bd-4413-b306-bc94bc30b2a6"
   },
   "outputs": [
    {
     "name": "stdout",
     "output_type": "stream",
     "text": [
      "[jovian] Detected Colab notebook...\u001b[0m\n",
      "[jovian] Uploading colab notebook to Jovian...\u001b[0m\n",
      "Committed successfully! https://jovian.ai/nsrinath97/used-car-price-prediction-machine-learning-project\n"
     ]
    },
    {
     "data": {
      "application/vnd.google.colaboratory.intrinsic+json": {
       "type": "string"
      },
      "text/plain": [
       "'https://jovian.ai/nsrinath97/used-car-price-prediction-machine-learning-project'"
      ]
     },
     "execution_count": 251,
     "metadata": {},
     "output_type": "execute_result"
    }
   ],
   "source": [
    "jovian.commit()"
   ]
  }
 ],
 "metadata": {
  "colab": {
   "collapsed_sections": [
    "Iv9Rzp1i5xVu",
    "CWhNQZml2jWu",
    "4xawxJyQJvrF",
    "SG4a09iSOSnk",
    "2H2D0qV_J_SY",
    "io_9uikpW3oL",
    "9DvT6GWd98uy",
    "gfUNLjKH-JZt",
    "2OhSuQ3tRe_r"
   ],
   "machine_shape": "hm",
   "provenance": []
  },
  "gpuClass": "standard",
  "language_info": {
   "codemirror_mode": {
    "name": "ipython",
    "version": 3
   },
   "file_extension": ".py",
   "mimetype": "text/x-python",
   "name": "python",
   "nbconvert_exporter": "python",
   "pygments_lexer": "ipython3",
   "version": "3.9.6"
  }
 },
 "nbformat": 4,
 "nbformat_minor": 0
}